{
  "nbformat": 4,
  "nbformat_minor": 0,
  "metadata": {
    "colab": {
      "name": "Informe número 3 - MaxSubArray",
      "provenance": [],
      "collapsed_sections": [],
      "authorship_tag": "ABX9TyMgnQmRpbOKd60I/2MiVaZP",
      "include_colab_link": true
    },
    "kernelspec": {
      "name": "python3",
      "display_name": "Python 3"
    },
    "language_info": {
      "name": "python"
    }
  },
  "cells": [
    {
      "cell_type": "markdown",
      "metadata": {
        "id": "view-in-github",
        "colab_type": "text"
      },
      "source": [
        "<a href=\"https://colab.research.google.com/github/GeraldEspi/ADA-informes/blob/main/Informe_n%C3%BAmero_3_MaxSubArray.ipynb\" target=\"_parent\"><img src=\"https://colab.research.google.com/assets/colab-badge.svg\" alt=\"Open In Colab\"/></a>"
      ]
    },
    {
      "cell_type": "markdown",
      "source": [
        "# 1.- Problema del subarreglo máximo\n",
        "\n",
        "Para definir el problema del subarreglo máximo, es preciso primero presentar un ejemplo.\n",
        "\n",
        "### Ejemplo:\n",
        "\n",
        ">Una lotería ofrece como premio un pozo de dinero que varía su valor a lo largo de la semana. \n",
        "\n",
        "![image](https://cdn.discordapp.com/attachments/838249461268217916/1012164596435521587/Diseno_sin_titulo_1.png)\n",
        "\n",
        "El subarreglo, correspondiente a la fluctuación del monto es entonces:\n",
        "\n",
        "$[50, -65, 40, -35, 25, 10]$\n",
        "\n",
        "Cada casilla representa el día y la cuantificación de una subida o bajada de el monto.\n",
        "\n",
        "> **Se busca encontrar el par de días consecutivos donde la ganancia sea máxima y la pérdida mínima**. En este caso, donde se gane más el primer día para invertirlo y perder el mínimo dinero posible al siguiente a causa de la devaluación de la moneda. \n",
        "\n",
        "Es entonces donde entra la solución al **subarreglo máximo**, donde, dado un arreglo **se busca el subarreglo cual contenga la suma de mayor valor**. En este caso La solución es $[25, 10]$ día 6 y 7, ya que se buscan 2 días contiguos y en el caso  hipotético de no lograr invertir todo el dinero el mismo día de la entrega, al siguiente las pérdidas serán mínimas en comparación a otro subarreglo.\n",
        "\n",
        "Además del dicho ejemplo, otras aplicaciones importantes del subarreglo máximo son:\n",
        "\n",
        "1.- Análisis de secuencias genómicas.\n",
        "\n",
        ">El análisis de secuencias genómicas emplea algoritmos de subarreglos máximos para identificar segmentos biológicos importantes de secuencias de proteínas.\n",
        "\n",
        "2.- Visión por computadora.\n",
        "\n",
        ">En visión por computadora , los algoritmos de subarreglo máximo se utilizan en imágenes de mapa de bits para detectar el área más brillante en una imagen.\n",
        "\n",
        "\n",
        "\n",
        "\n"
      ],
      "metadata": {
        "id": "6IUTOMx1Kz7E"
      }
    },
    {
      "cell_type": "markdown",
      "source": [
        "# 2.- MaxSubArray recursivo"
      ],
      "metadata": {
        "id": "qazvZBMxeEtJ"
      }
    },
    {
      "cell_type": "markdown",
      "source": [
        "# 2.1. Código"
      ],
      "metadata": {
        "id": "2-egZYLS2lFm"
      }
    },
    {
      "cell_type": "code",
      "source": [
        "import random\n",
        "from termcolor import colored\n",
        "\n",
        "iterator = 1\n",
        "def MaxSubArrayMid(arr, izq, med, der, verbose = False):\n",
        "    global iterator\n",
        "    sum = 0\n",
        "    izq_sum = -10000\n",
        "    izq_index = -1\n",
        "    if (verbose == True):\n",
        "      print(colored(\"------------------------\",\"green\"),colored(f\"iteración {iterator}\",\"green\"),colored(\"------------------------\",\"green\"))\n",
        "      iterator=iterator+1\n",
        "      print(colored(\"# Se recibe el arreglo \",\"green\"), a[izq:der+1],\"\\n\")\n",
        "    \n",
        "    \n",
        "    for i in range(med, izq-1, -1):\n",
        "        sum = sum + arr[i]\n",
        "        if (sum > izq_sum):\n",
        "            izq_sum = sum\n",
        "            izq_index = i\n",
        "    if (verbose == True):\n",
        "      print(colored(\"# Su subarreglo izquierdo corresponde a:\",\"red\"), a[izq:med+1])\n",
        "      print(colored(\"# Su subarreglo izquierdo MÁXIMO es\", \"red\"),a[izq_index:med+1])\n",
        "      print(colored(\"# Su suma corresponde a =\", \"red\"),izq_sum,\"\\n\")\n",
        "    \n",
        "\n",
        "    sum = 0\n",
        "    der_sum = -1000\n",
        "    der_index = -1\n",
        "    for i in range(med, der + 1):\n",
        "        sum = sum + arr[i]\n",
        "        if (sum > der_sum):\n",
        "            der_sum = sum\n",
        "            der_index = i\n",
        "    if (verbose == True):\n",
        "      print(colored(\"# Su subarreglo derecho corresponde a\",\"yellow\"), a[med: der+1])\n",
        "      print(colored(\"# Su subarreglo derecho MÁXIMO es\", \"yellow\"),a[med:der_index+1])\n",
        "      print(colored(\"# Su suma corresponde a =\", \"yellow\"),der_sum,\"\\n\")\n",
        "\n",
        "\n",
        "\n",
        "  \n",
        "    \n",
        "    med_sum = izq_sum + der_sum - arr[med]\n",
        " \n",
        "    if(med_sum > der_sum and med_sum > izq_sum): return (izq_index, der_index, med_sum)\n",
        "    elif (der_sum > izq_sum): return (med , der_index, der_sum)\n",
        "    else: return (izq_index, med, (izq_sum))\n",
        "    \n",
        "\n",
        "def maxSubArray(arr, izq, der, verbose = False):\n",
        "      if izq == der: return (izq, der, arr[izq])\n",
        "      med = (izq + der) // 2 \n",
        "      \n",
        "      (izq_start, izq_finish, max_lef) = maxSubArray(arr, izq, med, verbose)\n",
        "      (der_start, der_finish, max_der) = maxSubArray(arr, med+1, der, verbose)\n",
        "      (med_start, med_finish, max_mitad) = MaxSubArrayMid(arr, izq, med, der, verbose)\n",
        "\n",
        "      if max_der > max_lef and max_der > max_mitad: \n",
        "        return (der_start, der_finish, max_der)\n",
        "      elif max_lef > max_mitad and max_lef > max_der: \n",
        "        return (izq_start, izq_finish, max_lef)\n",
        "      else : \n",
        "        return (med_start, med_finish, max_mitad)\n",
        "\n",
        "a = random.sample(range(-100, 100), 12)\n",
        "print(colored(\"# Input Inicial: \", 'green'), a)\n",
        "(inicio, final, suma) = maxSubArray(a, 0, len(a)-1,verbose = False)\n",
        "print(colored(\"# Subarreglo maximo: \", 'green'), a[inicio:final+1])\n",
        "print(colored(\"# La suma es: \", 'green'), suma)"
      ],
      "metadata": {
        "colab": {
          "base_uri": "https://localhost:8080/"
        },
        "id": "nCpLQ7_FTnpa",
        "outputId": "56427cc9-b919-4282-a72c-6a714d6aaff1"
      },
      "execution_count": 110,
      "outputs": [
        {
          "output_type": "stream",
          "name": "stdout",
          "text": [
            "\u001b[32m# Input Inicial: \u001b[0m [67, -59, -79, 27, 4, 48, -19, 76, 92, -43, -35, -80]\n",
            "\u001b[32m# Subarreglo maximo: \u001b[0m [27, 4, 48, -19, 76, 92]\n",
            "\u001b[32m# La suma es: \u001b[0m 228\n"
          ]
        }
      ]
    },
    {
      "cell_type": "markdown",
      "source": [
        "# 2.2. Descripción del algoritmo\n",
        "\n"
      ],
      "metadata": {
        "id": "rz5c1wKONcas"
      }
    },
    {
      "cell_type": "markdown",
      "source": [
        "**Paradigma utilizado:** Divide y vencerás.\n",
        "\n",
        "El algortimo utilizado, encuentra un subarreglo **contiguo** de tal manera que la suma de sus elementos sea máxima.\n",
        "\n",
        "Se siguen los siguientes pasos para el algoritmo:\n",
        "\n",
        ">1.- Divide el arreglo en dos mitades.\n",
        "\n",
        ">2.- Retorna el máximo (mayor) de los siguientes datos:\n",
        "\n",
        "* max_lef, máxima suma de la mitad izquierda.\n",
        "* max_rig, máxima suma de la mitad derecha\n",
        "* max_mitad, máxima suma del subarreglo que cruza el punto medio.\n",
        "\n",
        "Una vez la función es invocada, se comprueba inmediatamente si el arreglo contiene un solo dato, `if izq == der:`, si se cumple se retorna entonces el único valor presente. Luego se secciona el arreglo en una mitad izquierda y una mitad derecha. El siguiente paso consiste en la invocación recursiva de la función `MaxSubArray()` para calcular el sub arreglo máximo de cada mitad. Por siguiente paso de invoca a `MaxSubArrayMid()`, función que calcula el máximo del subarreglo que pasa por la mitad.\n",
        "\n",
        "![images (1).png](https://cdn.discordapp.com/attachments/838249461268217916/1012608979039440996/images_1.png)\n",
        "\n",
        "Para el cálculo del subarreglo que pasa por el punto medio se toman en cuenta las casillas contiguas en la división media, dichas casillas estarán de manera intrísnseca en el subarreglo mencionado.\n",
        "\n",
        "![image](https://cdn.discordapp.com/attachments/838249461268217916/1012625692611072070/asdasdsda.jpg)\n",
        "\n",
        "Desde los elementos resaltados en la imágen se procede a iterar al extremo de la izquierda en `for i in range(med, izq-1, -1)`para encontrar el subarreglo máximo de dicha mitad, se repite lo mismo para la derecha en `for i in range(med, der + 1)`. Luego de dicho proceso, se suman los 2 máximos obtenidos en los anteriores procesos, para finalmente obtener la suma máxima correspondiente al subarreglo que pasa por el punto medio.\n",
        "\n",
        "Luego de calculado cada máximo de cada parte por separado se procede entonces a establecer cual es el subarreglo cuya suma sea máxima y así darle solución al problema. Esto a través de distintas comparaciones que permitirán establecer cual es el orden en el cual los datos deben de ser retornados.\n",
        "\n",
        "Finalmente, se imprime la suma máxima junto con el subarreglo obtenido.\n",
        "\n",
        "\n",
        "\n",
        "\n",
        "\n",
        "\n",
        "\n",
        "\n",
        "\n"
      ],
      "metadata": {
        "id": "7MWN5m63g_hB"
      }
    },
    {
      "cell_type": "markdown",
      "source": [
        "# 2.3. Ejemplo\n",
        "\n",
        "Se tiene el siguiente arreglo $[-3,-10,7,2,4,-5]$\n",
        "\n",
        "imágen confeccionada en canvas.\n",
        "\n",
        "![image](https://cdn.discordapp.com/attachments/838249461268217916/1013289231524843520/asasasasasas_1_60.jpg)\n",
        "\n",
        "* El subarreglo máximo contiguo del lado izquierdo corresponde a 7.\n",
        "> como es visible en la imágen, la suma entre -3 y 7 es menor a 7 por si solo, por lo que se establece como el subarreglo mayor.\n",
        "* El subarreglo máximo contiguo del lado derecho corresponde a 6.\n",
        "> Correspondiente a la suma del sub arreglo $[2,4]$, si se sumara el -5, se disimiuye el número.\n",
        "* El subarreglo máximo que pasa por el punto medio corresponde a 13.\n",
        "> La suma entre el subarreglo máximo derecho e izquierdo, que pasa por el punto medio.\n",
        "* Por lo tanto, la suma del subarreglo máximo corresponde a 13.\n",
        ">El sub arreglo máximo a su vez corresponde a $[7,2,4]$\n",
        ">\n",
        "\n",
        "\n"
      ],
      "metadata": {
        "id": "Vw3YtFOh2PaG"
      }
    },
    {
      "cell_type": "markdown",
      "source": [
        "### **Un ejemplo dentro del código implementado con el mismo arreglado utilizado recientemente.**"
      ],
      "metadata": {
        "id": "_jPr2P7Dhr7c"
      }
    },
    {
      "cell_type": "code",
      "source": [
        "iteraciones = 1\n",
        "\n",
        "a = [-3,-10,7,2,4,-5]\n",
        "verbose = True\n",
        "if (verbose == True): \n",
        "  print(colored(\" ## Para la izquierda se usará el color\", \"blue\"),colored(\"ROJO\", \"red\"), colored(\"para la derecha se usará el color\",\"blue\"), colored(\"AMARILLO\",\"yellow\"),\"\\n\")\n",
        "print(colored(\"# Input Inicial: \", 'green'), a)\n",
        "(inicio, final, suma) = maxSubArray(a, 0, len(a)-1,verbose = True)\n",
        "print(colored(\"# Subarreglo maximo: \", 'green'), a[inicio:final+1])\n",
        "print(colored(\"# La suma es:\", 'green'), suma)"
      ],
      "metadata": {
        "colab": {
          "base_uri": "https://localhost:8080/"
        },
        "id": "3ULt8a4Jgl6p",
        "outputId": "d71a9f02-5af4-4704-93fb-33d72953f715"
      },
      "execution_count": 111,
      "outputs": [
        {
          "output_type": "stream",
          "name": "stdout",
          "text": [
            "\u001b[34m ## Para la izquierda se usará el color\u001b[0m \u001b[31mROJO\u001b[0m \u001b[34mpara la derecha se usará el color\u001b[0m \u001b[33mAMARILLO\u001b[0m \n",
            "\n",
            "\u001b[32m# Input Inicial: \u001b[0m [-3, -10, 7, 2, 4, -5]\n",
            "\u001b[32m------------------------\u001b[0m \u001b[32miteración 1\u001b[0m \u001b[32m------------------------\u001b[0m\n",
            "\u001b[32m# Se recibe el arreglo \u001b[0m [-3, -10] \n",
            "\n",
            "\u001b[31m# Su subarreglo izquierdo corresponde a:\u001b[0m [-3]\n",
            "\u001b[31m# Su subarreglo izquierdo MÁXIMO es\u001b[0m [-3]\n",
            "\u001b[31m# Su suma corresponde a =\u001b[0m -3 \n",
            "\n",
            "\u001b[33m# Su subarreglo derecho corresponde a\u001b[0m [-3, -10]\n",
            "\u001b[33m# Su subarreglo derecho MÁXIMO es\u001b[0m [-3]\n",
            "\u001b[33m# Su suma corresponde a =\u001b[0m -3 \n",
            "\n",
            "\u001b[32m------------------------\u001b[0m \u001b[32miteración 2\u001b[0m \u001b[32m------------------------\u001b[0m\n",
            "\u001b[32m# Se recibe el arreglo \u001b[0m [-3, -10, 7] \n",
            "\n",
            "\u001b[31m# Su subarreglo izquierdo corresponde a:\u001b[0m [-3, -10]\n",
            "\u001b[31m# Su subarreglo izquierdo MÁXIMO es\u001b[0m [-10]\n",
            "\u001b[31m# Su suma corresponde a =\u001b[0m -10 \n",
            "\n",
            "\u001b[33m# Su subarreglo derecho corresponde a\u001b[0m [-10, 7]\n",
            "\u001b[33m# Su subarreglo derecho MÁXIMO es\u001b[0m [-10, 7]\n",
            "\u001b[33m# Su suma corresponde a =\u001b[0m -3 \n",
            "\n",
            "\u001b[32m------------------------\u001b[0m \u001b[32miteración 3\u001b[0m \u001b[32m------------------------\u001b[0m\n",
            "\u001b[32m# Se recibe el arreglo \u001b[0m [2, 4] \n",
            "\n",
            "\u001b[31m# Su subarreglo izquierdo corresponde a:\u001b[0m [2]\n",
            "\u001b[31m# Su subarreglo izquierdo MÁXIMO es\u001b[0m [2]\n",
            "\u001b[31m# Su suma corresponde a =\u001b[0m 2 \n",
            "\n",
            "\u001b[33m# Su subarreglo derecho corresponde a\u001b[0m [2, 4]\n",
            "\u001b[33m# Su subarreglo derecho MÁXIMO es\u001b[0m [2, 4]\n",
            "\u001b[33m# Su suma corresponde a =\u001b[0m 6 \n",
            "\n",
            "\u001b[32m------------------------\u001b[0m \u001b[32miteración 4\u001b[0m \u001b[32m------------------------\u001b[0m\n",
            "\u001b[32m# Se recibe el arreglo \u001b[0m [2, 4, -5] \n",
            "\n",
            "\u001b[31m# Su subarreglo izquierdo corresponde a:\u001b[0m [2, 4]\n",
            "\u001b[31m# Su subarreglo izquierdo MÁXIMO es\u001b[0m [2, 4]\n",
            "\u001b[31m# Su suma corresponde a =\u001b[0m 6 \n",
            "\n",
            "\u001b[33m# Su subarreglo derecho corresponde a\u001b[0m [4, -5]\n",
            "\u001b[33m# Su subarreglo derecho MÁXIMO es\u001b[0m [4]\n",
            "\u001b[33m# Su suma corresponde a =\u001b[0m 4 \n",
            "\n",
            "\u001b[32m------------------------\u001b[0m \u001b[32miteración 5\u001b[0m \u001b[32m------------------------\u001b[0m\n",
            "\u001b[32m# Se recibe el arreglo \u001b[0m [-3, -10, 7, 2, 4, -5] \n",
            "\n",
            "\u001b[31m# Su subarreglo izquierdo corresponde a:\u001b[0m [-3, -10, 7]\n",
            "\u001b[31m# Su subarreglo izquierdo MÁXIMO es\u001b[0m [7]\n",
            "\u001b[31m# Su suma corresponde a =\u001b[0m 7 \n",
            "\n",
            "\u001b[33m# Su subarreglo derecho corresponde a\u001b[0m [7, 2, 4, -5]\n",
            "\u001b[33m# Su subarreglo derecho MÁXIMO es\u001b[0m [7, 2, 4]\n",
            "\u001b[33m# Su suma corresponde a =\u001b[0m 13 \n",
            "\n",
            "\u001b[32m# Subarreglo maximo: \u001b[0m [7, 2, 4]\n",
            "\u001b[32m# La suma es:\u001b[0m 13\n"
          ]
        }
      ]
    },
    {
      "cell_type": "markdown",
      "source": [
        "Finalmente, y como indica el ejemplo en forma gráfica, la cantidad de pisos correponde a la cantidad de iteraciones que necesita el algoritmo para resolver el problema."
      ],
      "metadata": {
        "id": "gq5fq_i4jYtj"
      }
    },
    {
      "cell_type": "markdown",
      "source": [
        "# 3.- Tiempo de ejecución\n",
        "\n",
        "**Paradigma** : Divide y vencerás.\n",
        "\n",
        "La complejidad temporal correspondiente al algortimo es $O(n Log n)$ correspodindo. Debido a que la parte recursiva del algoritmo `MaxSubArray(arr)` divide constantemente el arreglo generando varias instancias de problemas más pequeños, $log n$ corresponde a la cantidad máxima de divisiones en un arreglo de $n$ elementos, su complejidad temporal es de manera individual $O(Log n)$, luego, la complejidad de la función `MaxSubArrayMid(arr,half)` es lineal, por lo que su complejidad corresponde a $O(n)$.\n",
        "\n",
        "Debido a la naturaleza recursiva no posee un mejor ni mejor caso.\n",
        "\n",
        "Puede expresarse mediante la siguiente relación de recurrencia. \n",
        "\n",
        "> T(n) = 2T(n/2) + Θ(n) \n",
        "\n"
      ],
      "metadata": {
        "id": "cZz5L2EYWZk0"
      }
    },
    {
      "cell_type": "markdown",
      "source": [
        "# 4.- Correctitud\n",
        "\n",
        "## MaxSubArrayMid\n",
        "\n",
        "## **Teorema (Correctitud).**\n",
        "\n",
        "*La función MaxSubArrayMid dentro del código MaxSubArray recibe el arreglo $A=[a_1,a_2,...,a_n]$ sin un orden especifico*. \n",
        "\n",
        "Esta función se encarga de encontrar el subarreglo máximo $B=[a_i,a_{i+1}, a_{i+2},...,a_j]$ tal que $1 \\leq i \\leq j \\leq n$ con i,j constantes.\n",
        "\n",
        "Y teniendo $1 \\leq k \\leq l \\leq n$ siempre debe cumplirse ${\\displaystyle \\sum _{x=k}^{l}A[x]} \\leq {\\displaystyle \\sum _{x=i}^{j}A[x]}$.\n",
        "\n",
        "## **Prueba del Teorema**\n",
        "\n",
        "Probaremos la siguiente propiedad invariante de bucle para la función `MaxSubArrayMid`:\n",
        "\n",
        ">Al finalizar de cada iteración $i$ del bucle, el subarreglo máximo retornado contendrá entre sus elementos el elemento que se encuentra en la mitad del arreglo recibido.\n",
        "\n",
        "### **Inicialización**\n",
        "\n",
        "La función MaxSubArrayMid recibe el arreglo A = $[a_1, ..., a_n]$ donde $n=2$ en su primera iteración.\n",
        "\n",
        ">\n",
        "\n",
        "El arreglo solo contiene $2$ elementos, la mitad del arreglo seria la posición $med=0$.\n",
        "\n",
        ">\n",
        "\n",
        "En este caso la suma del subarreglo izquierdo (incluyendo el elemento de la mitad) seria $izq_{sum} = A[med]$, mientras que la suma del subarreglo derecho (incluyendo el elemento de la mitad) seria $der_{sum} = A[med] + A[med+1]$.\n",
        "\n",
        ">\n",
        "\n",
        "La suma del el medio siempre será $izq_{sum} + der_{sum} - A[med]$\n",
        " se le resta el elemento de la mitad porque ambas sumas lo contienen. En este caso el subarreglo derecho es el mismo que el subarreglo con la mitad, es decir, $B=[A[0], A[1]]$.\n",
        "\n",
        "> Si los elementos en el arreglo recibido son positivos,`MaxSubArrayMid `retorna el arreglo original (su suma e índices), ya que su suma seria la mayor. Podría retornar el subarreglo derecho o el del medio ya que son lo mismo en este caso.\n",
        "\n",
        ">Si el elementos $A[0]$ es el único positivo del array, entonces retornara el subarreglo izquierdo (su suma e índices).\n",
        "\n",
        ">Si el arreglo contiene solo elementos negativos, entonces retornara el subarreglo izquierdo (su suma e índices), ya que su suma será menor a la suma de $A[0] + A[1]$ en el caso de que ambos sean negativos. \n",
        "\n",
        "### **Mantención**\n",
        "\n",
        "MaxSubArrayMid recibe el arreglo A = $[a_1, ..., a_n]$ donde $n = 4$.\n",
        "\n",
        "El arreglo contiene $4$ elementos, la mitad del arreglo seria la posición $med=1$. En este caso tenemos lo siguiente:\n",
        "\n",
        "La suma del subarreglo izquierdo (incluyendo el elemento de la mitad) seria \n",
        "$(izq_{sum} = \\displaystyle \\sum _{k=i}^{med} A[k])$ con $(izq \\leq i \\leq med)$\n",
        " El subarreglo izquierdo seria $B = [c_med, ..., c_{j-1}, c_j]$.\n",
        "\n",
        " La suma del el subarreglo de en medio siempre será $izq_{sum} + der_{sum} - A[med]$ y el subarreglo del medio siempre sera $A[i:j+1]$.\n",
        "\n",
        " > si $izq_{sum} > 0$ y $der_{sum} > 0$entonces entonces `MaxSubArrayMid` retorna el subarreglo de en medio (su suma e índices), ya que su suma seria la mayor.\n",
        "\n",
        " > si $izq_{sum} < 0$ y $der_{sum} > 0$ entonces `MaxSubArrayMid` retorna el subarreglo de la derecha (su suma e índices), ya que su suma seria la mayor.\n",
        "\n",
        " >Si $izq_{sum} > 0$ y $der_{sum} < 0$ entonces `MaxSubArrayMid` retorna el subarreglo de la izquierda (su suma e índices), ya que su suma seria la mayor.\n",
        "\n",
        " >Si $izq_{sum} < 0$ y $der_{sum} > 0$ entonces `MaxSubArrayMid`:\n",
        " * Si $izq_{sum} > der_{sum}$ retorna el subarreglo de la izquierda (su suma e índices), ya que su suma seria la mayor.\n",
        " * Si $der_{sum} > izq_{sum}$ retorna el subarreglo de la derecha (su suma e índices), ya que su suma seria la mayor.\n",
        "\n",
        "### **Correctitud**\n",
        "\n",
        "La correctitud del `MaxSubArrayMid` es evidente, ya que a pesar de que enviara uno de 3 subarreglos que crea la función, el elemento de la mitad del arreglo siempre se encontrara en los $3$ subarreglos, `MaxSubArrayMid` está diseñado para que así sea, e independientemente del subarreglo retornado, siempre contendrá el elemento de la mitad del arreglo recibido.\n",
        "\n",
        "\n"
      ],
      "metadata": {
        "id": "dBehCjf-eFvY"
      }
    },
    {
      "cell_type": "markdown",
      "source": [
        "# MaxSubArray\n",
        "\n",
        "### **Teorema (Correctitud).**\n",
        "* El algoritmo MaxSubArray genera un arreglo: $[a_{i},a_{i+1},...,a_j]$ siendo $1 \\leq i \\leq j \\leq n$ con los elementos contiguos que sumados dan el mayor numero posible con los elementos del arreglo $[a_{1},a_{2},...,a_n]$ recibido.\n",
        "\n",
        "Para probar la correcitud de MaxSubAarray se utilizará inducción matemática devido al a recursividad del algoritmo.\n",
        "\n",
        "### **Prueba del Teorema**\n",
        "\n",
        "> En **inducción matemática**, para probar una declaración p(n) para todos los números naturales n, típicamente se debe:\n",
        "1. Porbar $P(n)$ para un caso baso, por ejemplo $P(1)$ \n",
        "2. Probar que si $P(m)$ es cierto para $m < n$ entonces $P(n)$ tambien lo es.\n",
        "\n",
        "El toerema indica que `MaxSubArray` retorna el máximo subarreglo posible de formas con los elementos contiguos de la secuencia de $n$ elementos de entrada.\n",
        "\n",
        "\n",
        "\n",
        "\n",
        "### **Caso Base**\n",
        "\n",
        "Se prueba el caso base $P(1)$.\n",
        "\n",
        "Cuando MaxSubArray recibe una secuencia de 1 elementos, la retorna inmediatamente. Es posible comprobar que el teorema se cumple de manera exitosa en este caso, ya que, si solo se tiene 1 elemento de la secuencia, el subarreglo máximo es el único elemento de la secuencia.\n",
        "\n",
        "### **Caso cualquiera**\n",
        "\n",
        "Se probará como caso cualquiera $P(n)$.\n",
        "\n",
        "Para la secuencia de n elementos, MaxSubArray divide el arreglo en 2 subarreglos de secuencias $m$ y $p$, tal que $m=\\lfloor \\frac{n}{2}\\rfloor$ y $p =\\lfloor \\frac{n}{2}\\rfloor$ y consigue que los subarreglos máximos de cada subarreglo formado usando MaxSubArray `(debido al a recurisividad, llegegará un momento en el que aplique MaxSubaArray en el caso base, donde retornará correctamente un subarreglo máximo de 1 elemento)`. Como $m < n$ y $p < n$ es posible asumir inductivamente que se encontrará a los subarreglos máximos de ambas mitades.\n",
        "\n",
        "Luefo se consigue un subarreglo máximo que contenga el elemento unbicado en la mirad del arreglo utilizando la función **MaxSubArrayMid**, cuya correctitud fue probada previamente y devuelve efectivamente el subarreglo máximo que es posible formas conteniendo el elemento de la mitad del arreglo.\n",
        "\n",
        "Una vez obtenido 3 subarreglos máximos `(los 2 de cada mitad y el que el elemento en la mitad del arreglo está contenido)` la función **MaxSubArrayMid** decida y retorna el subarreglo cuya suma sea máxima.\n",
        "\n",
        "Por lo tanto, la función **MaxSubArrayMid** es correcta.\n",
        "\n",
        "### **Conclusión**\n",
        "\n",
        "El teorema fue efectivamente comprobado como correcto para un caso base y para un caso cualquiera, es decir, el algoritmo **MaxSubArray**, al comprobarlo con inducción matemática es correcto."
      ],
      "metadata": {
        "id": "gcrJGOBn3OUz"
      }
    },
    {
      "cell_type": "markdown",
      "source": [
        "# 5.- Experimentos\n",
        "\n",
        "A continuación se realizarán experimentos los cuales incluyen investigar:\n",
        "\n",
        "* Comparar los tiempos entre la implementacion realizada y un MaxSubArray que utilice el Algoritmo de Kadane.\n",
        "* Comparar los tiempos entre la implementación realizada y un algoritmo que utilice el paradigma de fuerza bruta.\n",
        "* Comparar los tiempos entre la implementación por Kadane, divide y vencerás y un algoritmo que utilice le paradigma de fuerza bruta.\n",
        "\n",
        "Se utilizarán datos de tamaño $n \\in [5,99]$\n",
        "\n",
        "Los elementos de los arreglos generados estarán compuestos por números que van desde el 1 al 100.\n"
      ],
      "metadata": {
        "id": "L2XKmIjmoFEU"
      }
    },
    {
      "cell_type": "markdown",
      "source": [
        "#  5.1. MaxSubArray divide y vencerás Vs Kanade **(Tiempo de ejecución)**\n",
        "\n",
        "### Implementación kanade:"
      ],
      "metadata": {
        "id": "5Xo-erowHP6U"
      }
    },
    {
      "cell_type": "code",
      "source": [
        "import random\n",
        "\n",
        "def kadane(MyList):\n",
        "  max_sum = 0\n",
        "  current_sum = 0\n",
        "\n",
        "  max_start = 0\n",
        "  max_end = 0\n",
        "  current_start = 0\n",
        "  current_end = 0\n",
        "\n",
        "  for i in range(len(MyList)): \n",
        "    current_sum = current_sum + MyList[i]\n",
        "    current_end = i\n",
        "    if current_sum < 0:\n",
        "      current_sum = 0\n",
        "      current_start = current_end + 1\n",
        "\n",
        "    if max_sum < current_sum:\n",
        "      max_sum = current_sum\n",
        "      max_start = current_start\n",
        "      max_end = current_end\n",
        "  \n",
        "MyList = random.sample(range(-100, 100), 7)\n",
        "kadane(MyList)"
      ],
      "metadata": {
        "id": "MvxTg4mqoe6m"
      },
      "execution_count": 112,
      "outputs": []
    },
    {
      "cell_type": "code",
      "source": [
        "import matplotlib.pyplot as plt\n",
        "import datetime\n",
        "import random\n",
        "from timeit import repeat\n",
        "x=[]; y=[] ; y1=[] ; verbose = False\n",
        "for n in range(5,200):\n",
        "    a = random.sample(range(1, 1000), n)\n",
        "    #la función repeat está ejecutando 20 veces insertionSort con el arreglo a y retorna el mejor tiepo obtenido.\n",
        "    t = repeat(setup=\"from __main__ import kadane\", stmt=f\"kadane({a})\", repeat=1, number=10)\n",
        "    t1 = repeat(setup=\"from __main__ import maxSubArray\", stmt=f\"maxSubArray({a},{0},{len(a)-1},{verbose})\", repeat=1, number=10)\n",
        "    x.append(n)\n",
        "    y.append(t)\n",
        "    y1.append(t1)\n",
        "\n",
        "plt.plot(x,y)\n",
        "plt.plot(x,y1)\n",
        "plt.legend([\"Kadane\",\"Divide and conquer\"])\n",
        "plt.xlabel('n')\n",
        "plt.ylabel('Tiempo en ms')\n",
        "plt.show()"
      ],
      "metadata": {
        "colab": {
          "base_uri": "https://localhost:8080/",
          "height": 279
        },
        "id": "w0xdxbTxI05Z",
        "outputId": "dff3baf5-1564-4776-cb7e-26e049c135ab"
      },
      "execution_count": 115,
      "outputs": [
        {
          "output_type": "display_data",
          "data": {
            "text/plain": [
              "<Figure size 432x288 with 1 Axes>"
            ],
            "image/png": "[encoded data removed]"
          },
          "metadata": {
            "needs_background": "light"
          }
        }
      ]
    },
    {
      "cell_type": "markdown",
      "source": [
        "# Análisis resultados\n",
        "\n",
        "Se establece. \n",
        "> Complejidad temporal Kanade: $O(n)$\n",
        "\n",
        "> Complejidad temporal \"Divide y vencerás\": $O(n log n)$\n",
        "\n",
        "Se puede observar una diferencia muy notoria en los tiempos de ejecución de cada algoritmo. La explicación del por qué tan notoria diferencia requiere presentar la manera en la que están implementados ambos algoritmos.\n",
        "\n",
        " Por un lado \"Divide y vencerás\" como indica su nombre, contiene una función de complejidad logarítmica que divide constantemente un problema y los tansforma en subproblemas más pequeños, a su vez, requiere de otra función que realiza la acción de establecer los arreglos máximos, esta última siendo de complejidad lineal.\n",
        "\n",
        " >Divide y vencerás:\n",
        "\n",
        "![image](https://cdn.discordapp.com/attachments/838249461268217916/1012975985001504830/Dividir.png)\n",
        "\n",
        "Luego, Kadane se compone de una sola función de complejidad lineal, por lo que internamente no invoca a ninguna otra. Tampoco requiere llamadas recursivas, una vez es invocada resuelve el problema directamente.\n",
        "\n",
        "> Kanade:\n",
        "\n",
        "![image](https://cdn.discordapp.com/attachments/838249461268217916/1012976888412635176/Dividir_1.png)\n",
        "\n",
        "Es correcto decir entonces que el algoritmo Kanade es notoriamente más eficiente debido a que evita pasos y simplifica el problema sin dividirlo recursivamente, por lo que su crecimiento según la cantidad de datos es realentizado, es de destacar también, el hecho de que el algoritmo Kanade presenta una estabilidad mucho mayor respecto a \"Divide y vencerás\". \n",
        "\n",
        ">Las anomalías (montes, picos), son provocadas por problemas de comunicación con el servidor, inestabilidades en el algoritmo o propiamente algún voltaje anormal del procesador. Los montes pronunciados tienden a ser una conjunción de estos comportamientos anormales.\n",
        "\n"
      ],
      "metadata": {
        "id": "lFsYKeRk7jk0"
      }
    },
    {
      "cell_type": "markdown",
      "source": [
        "# 5.2. MaxSubArray divide y vencerás Vs fuerza bruta **(Tiempo de ejecución)**\n",
        "### Implementación MaxSubArray por fuerza bruta:"
      ],
      "metadata": {
        "id": "dAesJ76eNE0s"
      }
    },
    {
      "cell_type": "code",
      "source": [
        "from itertools import combinations\n",
        "\n",
        "\n",
        "def max_sum_bf(arr):\n",
        "  \n",
        "    n = len(arr)\n",
        "    candidates = combinations(range(n + 1), 2)\n",
        "\n",
        "    def arr_sum(x):\n",
        "  \n",
        "        i, j = x\n",
        "        return sum(arr[i:j])\n",
        "\n",
        "    return max(candidates, key=arr_sum)\n",
        "\n",
        "\n",
        "max_sum_bf([-2, 1, -3, 4, -1, 2, 1, -5, 4])"
      ],
      "metadata": {
        "colab": {
          "base_uri": "https://localhost:8080/"
        },
        "id": "6KOuuKJKM-kU",
        "outputId": "71c8e924-ae2a-4ead-f87a-0f162cba7ee8"
      },
      "execution_count": 7,
      "outputs": [
        {
          "output_type": "execute_result",
          "data": {
            "text/plain": [
              "(3, 7)"
            ]
          },
          "metadata": {},
          "execution_count": 7
        }
      ]
    },
    {
      "cell_type": "code",
      "source": [
        "import matplotlib.pyplot as plt\n",
        "import datetime\n",
        "import random\n",
        "from timeit import repeat\n",
        "\n",
        "x=[]; y=[] ; y1=[] ; verbose = False\n",
        "for n in range(5,200):\n",
        "    a = random.sample(range(1, 1000), n)\n",
        "    #la función repeat está ejecutando 20 veces insertionSort con el arreglo a y retorna el mejor tiepo obtenido.\n",
        "    t = repeat(setup=\"from __main__ import max_sum_bf\", stmt=f\"max_sum_bf({a})\", repeat=1, number=10)\n",
        "    t1 = repeat(setup=\"from __main__ import maxSubArray\", stmt=f\"maxSubArray({a},{0},{len(a)-1},{verbose})\", repeat=1, number=10)\n",
        "    x.append(n)\n",
        "    y.append(t)\n",
        "    y1.append(t1)\n",
        "\n",
        "plt.plot(x,y)\n",
        "plt.plot(x,y1)\n",
        "plt.legend([\"Brute force\",\"Divide and conquer\"])\n",
        "plt.xlabel('n')\n",
        "plt.ylabel('Tiempo en ms')\n",
        "plt.show()"
      ],
      "metadata": {
        "colab": {
          "base_uri": "https://localhost:8080/",
          "height": 279
        },
        "id": "qNdcHjvtNCBN",
        "outputId": "52ed5cfa-8044-438e-9091-c3b1e9f4465f"
      },
      "execution_count": 118,
      "outputs": [
        {
          "output_type": "display_data",
          "data": {
            "text/plain": [
              "<Figure size 432x288 with 1 Axes>"
            ],
            "image/png": "[encoded data removed]"
          },
          "metadata": {
            "needs_background": "light"
          }
        }
      ]
    },
    {
      "cell_type": "markdown",
      "source": [
        "# Análisis resultados\n",
        "\n",
        "Se establece. \n",
        "> Complejidad temporal \"Fuerza bruta\": $O(n^3)$\n",
        "\n",
        "\n",
        "> Complejidad temporal \"Divide y vencerás\": $O(n log n)$\n",
        "\n",
        "Tal como indica el nombre de \"fuerza bruta\", consiste en un algoritmo simple que, sin importar la optimización, resuelve el problema propuesto. Por ende la complejidad temporal presente en dichos algortimos que utilizan este paradigma tiende a ser alta. En este caso es cúbica.\n",
        "\n",
        "Para el presente situación, la función que indica a los candidatos a posible subarreglo máximo tiene complejidad cuadrática, luego dentro de la misma función se procede a sumar a los candidatos, dicha función de complejidad lineal.\n",
        "\n",
        "![image](https://cdn.discordapp.com/attachments/838249461268217916/1013178661685448835/Dividir.jpg)\n",
        "\n",
        "Tal como se indicó en imágenes anteriores, \"Divide y vencerás\" solo requiere de una función de complejidad logaritmica en conjunto a otra de complejidad lineal. haciendo por ende que los resultados en general de este experimento sean predecibles.\n",
        "\n",
        "\n",
        "\n"
      ],
      "metadata": {
        "id": "wFw_gYKCHelm"
      }
    },
    {
      "cell_type": "markdown",
      "source": [
        "# 5.3. Fuerza bruta Vs Kadane Vs divide y vencerás **(Tiempo de ejecución)**"
      ],
      "metadata": {
        "id": "tHQjAoGTPTOL"
      }
    },
    {
      "cell_type": "code",
      "source": [
        "x=[]; y=[] ; y1=[] ; y2=[] ; verbose = False\n",
        "for n in range(5,200): \n",
        "    a = random.sample(range(1, 1000), n)\n",
        "    #la función repeat está ejecutando 20 veces insertionSort con el arreglo a y retorna el mejor tiepo obtenido.\n",
        "    t = repeat(setup=\"from __main__ import max_sum_bf\", stmt=f\"max_sum_bf({a})\", repeat=1, number=10)\n",
        "    t1 = repeat(setup=\"from __main__ import kadane\", stmt=f\"kadane({a})\", repeat=1, number=10)\n",
        "    t2 = repeat(setup=\"from __main__ import maxSubArray\", stmt=f\"maxSubArray({a},{0},{len(a)-1},{verbose})\", repeat=1, number=10)\n",
        "\n",
        "    x.append(n)\n",
        "    y.append(t)\n",
        "    y1.append(t1)\n",
        "    y2.append(t2)\n",
        "\n",
        "plt.plot(x,y)\n",
        "plt.plot(x,y1)\n",
        "plt.plot(x,y2)\n",
        "plt.legend([\"Brute force\",\"Kadane\",\"Divide and conquer\"])\n",
        "plt.xlabel('n')\n",
        "plt.ylabel('Tiempo en ms')\n",
        "plt.show()"
      ],
      "metadata": {
        "colab": {
          "base_uri": "https://localhost:8080/",
          "height": 279
        },
        "id": "zZqxD_pLBymb",
        "outputId": "99a910f7-ff67-47da-849b-ff58fea6536e"
      },
      "execution_count": 116,
      "outputs": [
        {
          "output_type": "display_data",
          "data": {
            "text/plain": [
              "<Figure size 432x288 with 1 Axes>"
            ],
            "image/png": "[encoded data removed]"
          },
          "metadata": {
            "needs_background": "light"
          }
        }
      ]
    },
    {
      "cell_type": "markdown",
      "source": [
        "Se establece.\n",
        "\n",
        "> Complejidad temporal \"Fuerza bruta\": $O(n^3)$\n",
        "\n",
        "> Complejidad temporal \"Divide y vencerás\": $O(n log n)$\n",
        "\n",
        "> Complejidad temporal Kanade: $O(n)$\n",
        "\n",
        "Como ya fue expuesto con anterioridad, la diferencia entre las complejidades temporales de los métodos presentados da pie a que los resultados de este experimento sean predecibles, aún así, es de resaltar que a pesar de que en el anterior experimento \"Divide y vencerás\" Vs Kanade la diferencia entre ambos era notoria. Una vez se les compara con el paradigma de \"Fuerza bruta\", dichas diferencias son prácticamente imperceptibles. Demostrando así la proporción de diferencias en la optimización de dichos algoritmos."
      ],
      "metadata": {
        "id": "GZuAJSjE8kwV"
      }
    }
  ]
}