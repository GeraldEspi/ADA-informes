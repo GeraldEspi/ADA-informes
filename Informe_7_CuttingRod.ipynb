{
  "nbformat": 4,
  "nbformat_minor": 0,
  "metadata": {
    "colab": {
      "provenance": [],
      "collapsed_sections": [],
      "authorship_tag": "ABX9TyM9JEPwSL2fOgPDUX5k3ROj",
      "include_colab_link": true
    },
    "kernelspec": {
      "name": "python3",
      "display_name": "Python 3"
    },
    "language_info": {
      "name": "python"
    }
  },
  "cells": [
    {
      "cell_type": "markdown",
      "metadata": {
        "id": "view-in-github",
        "colab_type": "text"
      },
      "source": [
        "<a href=\"https://colab.research.google.com/github/GeraldEspi/ADA-informes/blob/main/Informe_7_CuttingRod.ipynb\" target=\"_parent\"><img src=\"https://colab.research.google.com/assets/colab-badge.svg\" alt=\"Open In Colab\"/></a>"
      ]
    },
    {
      "cell_type": "markdown",
      "source": [
        "# 1. Problema del corte de varillas\n",
        "\n",
        "Una empresa especializada en corte de metalurguia requiere de cilindros en forma de vara para uso de soportes metálicos para entregarlos a un cliente. Para ello se fabrican varas grandes para cortarlas según los requirimientos especificados por el consumidor. Se busca entonces la **mejor** manera de cortar dichas varillas (costo eficiente).\n",
        "\n",
        "![image](https://cdn.discordapp.com/attachments/838249461268217916/1024979834797043732/Dividir_7.png)\n",
        "\n",
        "*imagen hecha en canvas*\n",
        "\n",
        "Para la correcta solución de este problema se hace uso del algoritmo **Cutting rod** o corte de varillas en español, que calucla el precio más conveniente haciendo repetidamente cortes en distintas posiciones a lo largo de cada vara y comparando los precios de estas **sub_varas** resultantes.\n",
        "\n",
        ">Para ello es necesario conocer, el largo de la vara a su vez que el valor del precio por medida.\n",
        "\n",
        "**Entrada**: Largo de varilla $n$, vector de precios por cada medida $i=1..n$\n",
        "\n",
        "**Salida**:  Retorno máximo $r_n$ que se puede obtener cortando la varilla y vendiendo las partes."
      ],
      "metadata": {
        "id": "UKFwfBprXK5S"
      }
    },
    {
      "cell_type": "markdown",
      "source": [
        "# **Código**"
      ],
      "metadata": {
        "id": "Rl5VVKx6qebv"
      }
    },
    {
      "cell_type": "markdown",
      "source": [
        "### I**mplementación recursiva**\n",
        "\n",
        ">**Paradigma**: Fuerza bruta.\n"
      ],
      "metadata": {
        "id": "cPvgbvPZrVA_"
      }
    },
    {
      "cell_type": "code",
      "execution_count": 155,
      "metadata": {
        "id": "sTgUWmuTWzDq",
        "colab": {
          "base_uri": "https://localhost:8080/"
        },
        "outputId": "6eae5427-3bf9-4ba8-f579-865fe798b094"
      },
      "outputs": [
        {
          "output_type": "stream",
          "name": "stdout",
          "text": [
            "\u001b[32mEl arreglo correspondiente al precio de las varillas es\u001b[0m \u001b[34m[1, 5, 8, 9, 10]\u001b[0m \n",
            "\n",
            "\u001b[32mSeleccione las pulgadas de la varilla la cual se desea maximizar: \u001b[0m4\n",
            "\u001b[32mEl mayor precio obtenible:\u001b[0m \u001b[34m10\u001b[0m\n",
            "\u001b[32m\n",
            "\n",
            "- Se obtienen al cortar la varilla original en\u001b[0m \u001b[34m2\u001b[0m \u001b[32msubvarillas\u001b[0m\n",
            "\u001b[32m- Realiza\u001b[0m \u001b[34m1\u001b[0m \u001b[32mcortes\u001b[0m\n",
            "\u001b[32m- Realiza\u001b[0m \u001b[34m15\u001b[0m \u001b[32mllamadas recursivas\u001b[0m\n"
          ]
        }
      ],
      "source": [
        "import random\n",
        "from termcolor import colored\n",
        "\n",
        "recursionCounter = 0\n",
        "\n",
        "def cortesVarillaF(precios, largo, cortes,verbose=False):\n",
        "    if(largo <= 0):\n",
        "        return 0\n",
        "    maxValor = -1\n",
        "    global recursionCounter\n",
        "    \n",
        "    # Corte recursivamente la barra en diferentes piezas\n",
        "    # y compare diferentes configuraciones\n",
        "    for i in range(0, largo):\n",
        "        if(i >= len(precios)): continue\n",
        "        cutPrev = cortesVarillaF(precios, largo - i - 1, cortes, verbose)\n",
        "        \n",
        "        if verbose:\n",
        "            print(colored(\"---------------------------------------------\",\"yellow\"))\n",
        "            print(colored (f\"La varilla es de largo: \",\"green\"),colored(largo,\"blue\"))\n",
        "        \n",
        "        recursionCounter += 1\n",
        "\n",
        "        if verbose: print(colored(f\"Maximo valor para el largo {largo} < precio de largo {i+1} + Maximo valor para el largo {largo-i-1}\",\"green\"))\n",
        "        if verbose: print(colored(f\"{maxValor}\",\"blue\"),colored(\"<\",\"green\"), colored(precios[i],\"blue\"), colored(\"+\",\"green\"),colored(cutPrev,\"blue\"))\n",
        "        \n",
        "        if maxValor <  precios[i] + cutPrev:\n",
        "            maxValor =  precios[i] + cutPrev\n",
        "            if largo > 1: \n",
        "                cortes[largo] = cortes[largo-i-1] + 1\n",
        "            if verbose: print(colored(\"El nuevo Maximo valor para el largo\",\"green\") ,colored(largo,\"blue\"),colored(\"es\",\"green\"),colored(maxValor,\"blue\"))\n",
        "\n",
        "    if verbose:\n",
        "            print(colored(\"---------------------------------------------\",\"yellow\"))\n",
        "    return maxValor\n",
        "\n",
        "n = 4\n",
        "if n < 1: print(\"Cantidad de precios insuficientes\"); exit(1)\n",
        "\n",
        "precios = [1,5,8,9,10]\n",
        "partesDividido = [0 for x in range(n+1)]\n",
        "partesDividido[1] = 1\n",
        "\n",
        "print(colored(f\"El arreglo correspondiente al precio de las varillas es\",\"green\"),colored(f\"{precios}\",\"blue\"),\"\\n\")\n",
        "print(colored(\"Seleccione las pulgadas de la varilla la cual se desea maximizar: \",\"green\"), end = \"\")\n",
        "largoVarilla = int(input())\n",
        "\n",
        "maximoValor = cortesVarillaF(precios, largoVarilla,partesDividido, verbose = False)\n",
        "\n",
        "\n",
        "print(colored(f\"El mayor precio obtenible:\",\"green\"), colored (f\"{maximoValor}\",\"blue\"))\n",
        "print(colored(f\"\\n\\n- Se obtienen al cortar la varilla original en\",\"green\"), colored(f\"{partesDividido[largoVarilla]}\",\"blue\") ,colored(\"subvarillas\",\"green\"))\n",
        "print(colored(f\"- Realiza\",\"green\"), colored(f\"{partesDividido[largoVarilla]-1}\",\"blue\"), colored(\"cortes\",\"green\"))\n",
        "print(colored(f\"- Realiza\",\"green\") ,colored(f\"{recursionCounter}\",\"blue\"),colored(\"llamadas recursivas\",\"green\"))"
      ]
    },
    {
      "cell_type": "markdown",
      "source": [
        "### **Implementación Bottom-Up**\n",
        "\n",
        ">**Paradigma**: Programación dinámica, Bottom-Up approach."
      ],
      "metadata": {
        "id": "6BLxvqqTr3jC"
      }
    },
    {
      "cell_type": "code",
      "source": [
        "import random\n",
        "\n",
        "int_min = -3244\n",
        "def cortesVarillaB(precios, largo, cortes,verbose=False):\n",
        "    valores = [0 for x in range(largo+1)]\n",
        "    valores[0] = 0\n",
        "\n",
        "    # Corta de manera recursiva la barra en diferentes piezas \n",
        "    # y compara las diferentes configuraciones entre ellas\n",
        "    for i in range(1, largo+1):\n",
        "        if verbose:\n",
        "             print(colored(\"---------------------------------------------\",\"yellow\"))\n",
        "             print(colored(\"Varilla de largo correspondiente a\",\"green\"),colored(i, \"blue\") )\n",
        "        maxValor = int_min\n",
        "\n",
        "        for j in range(i):\n",
        "              if(j >= len(precios)): continue\n",
        "\n",
        "              if verbose: \n",
        "                    print(colored(\"-------------------------\",\"yellow\"))\n",
        "                    print(colored(\"Máximo valor para el largo\",\"green\"), colored(i,\"blue\"), colored(\"<\",\"green\"),colored(\"precio de largo\",\"green\"),colored(j+1,\"blue\"),colored(\"+\",\"green\"),colored(\"máximo valor para el\",\"green\"),colored(\"largo\",\"green\"),colored((i-j-1),\"blue\"))\n",
        "                    print(colored(maxValor,\"blue\"), colored(\"<\",\"green\") , colored(precios[j],\"blue\"),colored(\"+\",\"green\"),colored(valores[i-j-1],\"blue\"))\n",
        "              if maxValor < precios[j] + valores[i-j-1]:\n",
        "                  maxValor = precios[j] + valores[i-j-1]\n",
        "                  if i > 1: \n",
        "                      cortes[i] = cortes[i-j-1] + 1\n",
        "                  if verbose: \n",
        "                        print(colored(\"El nuevo Máximo valor para el largo\",\"green\") ,colored(i,\"blue\"), colored(\"es\",\"green\"), colored(maxValor,\"blue\"))\n",
        "                        print(colored(\"-------------------------\",\"yellow\"))\n",
        "        valores[i] = maxValor\n",
        " \n",
        "    return valores[largo]\n",
        " \n",
        "\n",
        "arr = [1,5,8,9,10]\n",
        "size = 4\n",
        "\n",
        "partesDividido = [0 for x in range(n+1)]\n",
        "partesDividido[1] = 1\n",
        "\n",
        "\n",
        "print(colored(\"Seleccione las pulgadas de la varilla la cual se desea maximizar: \",\"green\"), end = \"\")\n",
        "largoVarilla = int(input())\n",
        "\n",
        "maximoValor = cortesVarillaB(precios, largoVarilla,partesDividido, verbose = False)\n",
        "\n",
        "\n",
        "print(colored(f\"El mayor precio obtenible:\",\"green\"), colored (f\"{maximoValor}\",\"blue\"))\n",
        "print(colored(f\"\\n\\n- Se obtiene al cortar la varilla original en\",\"green\"), colored(f\"{partesDividido[largoVarilla]}\",\"blue\") ,colored(\"subvarillas\",\"green\"))\n",
        "print(colored(f\"- Realiza\",\"green\"), colored(f\"{partesDividido[largoVarilla]-1}\",\"blue\"), colored(\"cortes\",\"green\"))\n",
        "print(colored(f\"- Realiza\",\"green\") ,colored(f\"{recursionCounter}\",\"blue\"),colored(\"llamadas recursivas\",\"green\"))"
      ],
      "metadata": {
        "id": "T1y5nah1sLsH",
        "colab": {
          "base_uri": "https://localhost:8080/"
        },
        "outputId": "3ad54e2e-e0a6-445f-9e29-8b8fc7e580fd"
      },
      "execution_count": 165,
      "outputs": [
        {
          "output_type": "stream",
          "name": "stdout",
          "text": [
            "\u001b[32mSeleccione las pulgadas de la varilla la cual se desea maximizar: \u001b[0m4\n",
            "\u001b[32mEl mayor precio obtenible:\u001b[0m \u001b[34m17\u001b[0m\n",
            "\u001b[32m\n",
            "\n",
            "- Se obtiene al cortar la varilla original en\u001b[0m \u001b[34m2\u001b[0m \u001b[32msubvarillas\u001b[0m\n",
            "\u001b[32m- Realiza\u001b[0m \u001b[34m1\u001b[0m \u001b[32mcortes\u001b[0m\n",
            "\u001b[32m- Realiza\u001b[0m \u001b[34m73\u001b[0m \u001b[32mllamadas recursivas\u001b[0m\n"
          ]
        }
      ]
    },
    {
      "cell_type": "markdown",
      "source": [
        "# 2. Descripción del algoritmo\n",
        "\n",
        "La descripción asociada al algoritmo puede reumirse de la siguiente manera:\n",
        ">\"Dada una vara de largo \"n\" y el precio asociado a cada pieza de la vara. Esta tiene que ser cortada y vendida.\"\n",
        "\n",
        "El proceso una vez hecho, debería retornar el máximo valor obtenido de la venta de los trozos de vara. Se puede abordar de distintas maneras. En este caso, se busca profundizar en 2 aproximaciones específicas.\n",
        "\n",
        "### **Fuerza Bruta**\n",
        "> *Este paradigma no intenta hacer eficiente el algoritmo, utiliza los recursos del sistema sin ningún tipo optimización.*\n",
        " \n",
        "La variable max_val es iniciliazada en el menor valor posible. Luego, se inicia un loop hasta que la variable de iteración sea igual al largo de la vara más uno. \n",
        "\n",
        "Para encontrar el máximo valor se compara el max_val con la suma del precio[i] (*que corresponde al del trozo de varilla actual*) y una llamada recursiva de la propia función, que retorna otro máximo valor. Se compara cual de las 2 es más grande a través de la función max, cual sea más grande es retornada y pasa a ser el valor máximo. Así con cada precio. \n",
        "\n",
        "- *i correspondería al número de la iteración que e esté ejecutando.*\n",
        "\n",
        "### **Programación dinámica Bottom-Up**\n",
        "\n",
        "> *La aproximación Bottom-Up por lo general intenta no utilzar recursión y buscar otras maneras de evitar comparaciones o cálculos inncesesarios.*\n",
        "\n",
        "En primera intancia se crea una variable que corresponderá al mínimo valor posible. \n",
        "\n",
        "Una vez de entre a la función `cortesVarillaB` se crea una arreglo de memorización que permitirá evitar recalcular los valores intermedios. \n",
        "\n",
        "Para ingresar datos a este arreglo es necesario otro ciclo iterativo anidado, done i representa el ingreso óptimo si la vara fuera corta un número de i-veces. Esta tabla es la principal diferencia entre los 2 paradigmas, pues permite optimizar en gran medida los tiempos de ejecución.\n",
        "\n",
        "- *i correspondería al número de la iteración que e esté ejecutando.*\n",
        "\n",
        "A su vez permite incluso evitar la recusrión, ya que no es necesario recalcular el valor que nos entregaba la llamada recursiva en la proximación por fuerza bruta.\n",
        "\n",
        "\n",
        "\n",
        "\n",
        "\n",
        "\n",
        "\n",
        "\n",
        "\n"
      ],
      "metadata": {
        "id": "jHGohlbT-5sq"
      }
    },
    {
      "cell_type": "markdown",
      "source": [
        "## 2.1 Ejemplo código\n",
        "\n",
        "\n"
      ],
      "metadata": {
        "id": "O35kf0Wryy3j"
      }
    },
    {
      "cell_type": "markdown",
      "source": [
        "### **Recurisvo: Fuerza Bruta**"
      ],
      "metadata": {
        "id": "pMlwCFlDy8B0"
      }
    },
    {
      "cell_type": "code",
      "source": [
        "precios = [2,6,15]\n",
        "partesDividido = [0 for x in range(n+1)]\n",
        "partesDividido[1] = 1\n",
        "\n",
        "print(colored(f\"El arreglo correspondiente al precio de las varillas es\",\"green\"),colored(f\"{precios}\",\"blue\"),\"\\n\")\n",
        "print(colored(\"Seleccione las pulgadas de la varilla la cual se desea maximizar: \",\"green\"), end = \"\")\n",
        "largoVarilla = int(input())\n",
        "\n",
        "maximoValor = cortesVarillaF(precios, largoVarilla,partesDividido, verbose =True)\n",
        "print(colored(f\"El mayor precio obtenible:\",\"green\"), colored (f\"{maximoValor}\",\"blue\"))\n",
        "print(colored(f\"\\n\\n- Se obtienen al cortar la varilla original en\",\"green\"), colored(f\"{partesDividido[largoVarilla]}\",\"blue\") ,colored(\"subvarillas\",\"green\"))\n",
        "print(colored(f\"- Realiza\",\"green\"), colored(f\"{partesDividido[largoVarilla]-1}\",\"blue\"), colored(\"cortes\",\"green\"))\n",
        "print(colored(f\"- Realiza\",\"green\") ,colored(f\"{recursionCounter}\",\"blue\"),colored(\"llamadas recursivas\",\"green\"))"
      ],
      "metadata": {
        "colab": {
          "base_uri": "https://localhost:8080/"
        },
        "id": "-hU1VqK2y3Q9",
        "outputId": "7a9c8fa5-47a0-4d75-d29a-a203fb10cacf"
      },
      "execution_count": 163,
      "outputs": [
        {
          "output_type": "stream",
          "name": "stdout",
          "text": [
            "\u001b[32mEl arreglo correspondiente al precio de las varillas es\u001b[0m \u001b[34m[2, 6, 15]\u001b[0m \n",
            "\n",
            "\u001b[32mSeleccione las pulgadas de la varilla la cual se desea maximizar: \u001b[0m4\n",
            "\u001b[33m---------------------------------------------\u001b[0m\n",
            "\u001b[32mLa varilla es de largo: \u001b[0m \u001b[34m1\u001b[0m\n",
            "\u001b[32mMaximo valor para el largo 1 < precio de largo 1 + Maximo valor para el largo 0\u001b[0m\n",
            "\u001b[34m-1\u001b[0m \u001b[32m<\u001b[0m \u001b[34m2\u001b[0m \u001b[32m+\u001b[0m \u001b[34m0\u001b[0m\n",
            "\u001b[32mEl nuevo Maximo valor para el largo\u001b[0m \u001b[34m1\u001b[0m \u001b[32mes\u001b[0m \u001b[34m2\u001b[0m\n",
            "\u001b[33m---------------------------------------------\u001b[0m\n",
            "\u001b[33m---------------------------------------------\u001b[0m\n",
            "\u001b[32mLa varilla es de largo: \u001b[0m \u001b[34m2\u001b[0m\n",
            "\u001b[32mMaximo valor para el largo 2 < precio de largo 1 + Maximo valor para el largo 1\u001b[0m\n",
            "\u001b[34m-1\u001b[0m \u001b[32m<\u001b[0m \u001b[34m2\u001b[0m \u001b[32m+\u001b[0m \u001b[34m2\u001b[0m\n",
            "\u001b[32mEl nuevo Maximo valor para el largo\u001b[0m \u001b[34m2\u001b[0m \u001b[32mes\u001b[0m \u001b[34m4\u001b[0m\n",
            "\u001b[33m---------------------------------------------\u001b[0m\n",
            "\u001b[32mLa varilla es de largo: \u001b[0m \u001b[34m2\u001b[0m\n",
            "\u001b[32mMaximo valor para el largo 2 < precio de largo 2 + Maximo valor para el largo 0\u001b[0m\n",
            "\u001b[34m4\u001b[0m \u001b[32m<\u001b[0m \u001b[34m6\u001b[0m \u001b[32m+\u001b[0m \u001b[34m0\u001b[0m\n",
            "\u001b[32mEl nuevo Maximo valor para el largo\u001b[0m \u001b[34m2\u001b[0m \u001b[32mes\u001b[0m \u001b[34m6\u001b[0m\n",
            "\u001b[33m---------------------------------------------\u001b[0m\n",
            "\u001b[33m---------------------------------------------\u001b[0m\n",
            "\u001b[32mLa varilla es de largo: \u001b[0m \u001b[34m3\u001b[0m\n",
            "\u001b[32mMaximo valor para el largo 3 < precio de largo 1 + Maximo valor para el largo 2\u001b[0m\n",
            "\u001b[34m-1\u001b[0m \u001b[32m<\u001b[0m \u001b[34m2\u001b[0m \u001b[32m+\u001b[0m \u001b[34m6\u001b[0m\n",
            "\u001b[32mEl nuevo Maximo valor para el largo\u001b[0m \u001b[34m3\u001b[0m \u001b[32mes\u001b[0m \u001b[34m8\u001b[0m\n",
            "\u001b[33m---------------------------------------------\u001b[0m\n",
            "\u001b[32mLa varilla es de largo: \u001b[0m \u001b[34m1\u001b[0m\n",
            "\u001b[32mMaximo valor para el largo 1 < precio de largo 1 + Maximo valor para el largo 0\u001b[0m\n",
            "\u001b[34m-1\u001b[0m \u001b[32m<\u001b[0m \u001b[34m2\u001b[0m \u001b[32m+\u001b[0m \u001b[34m0\u001b[0m\n",
            "\u001b[32mEl nuevo Maximo valor para el largo\u001b[0m \u001b[34m1\u001b[0m \u001b[32mes\u001b[0m \u001b[34m2\u001b[0m\n",
            "\u001b[33m---------------------------------------------\u001b[0m\n",
            "\u001b[33m---------------------------------------------\u001b[0m\n",
            "\u001b[32mLa varilla es de largo: \u001b[0m \u001b[34m3\u001b[0m\n",
            "\u001b[32mMaximo valor para el largo 3 < precio de largo 2 + Maximo valor para el largo 1\u001b[0m\n",
            "\u001b[34m8\u001b[0m \u001b[32m<\u001b[0m \u001b[34m6\u001b[0m \u001b[32m+\u001b[0m \u001b[34m2\u001b[0m\n",
            "\u001b[33m---------------------------------------------\u001b[0m\n",
            "\u001b[32mLa varilla es de largo: \u001b[0m \u001b[34m3\u001b[0m\n",
            "\u001b[32mMaximo valor para el largo 3 < precio de largo 3 + Maximo valor para el largo 0\u001b[0m\n",
            "\u001b[34m8\u001b[0m \u001b[32m<\u001b[0m \u001b[34m15\u001b[0m \u001b[32m+\u001b[0m \u001b[34m0\u001b[0m\n",
            "\u001b[32mEl nuevo Maximo valor para el largo\u001b[0m \u001b[34m3\u001b[0m \u001b[32mes\u001b[0m \u001b[34m15\u001b[0m\n",
            "\u001b[33m---------------------------------------------\u001b[0m\n",
            "\u001b[33m---------------------------------------------\u001b[0m\n",
            "\u001b[32mLa varilla es de largo: \u001b[0m \u001b[34m4\u001b[0m\n",
            "\u001b[32mMaximo valor para el largo 4 < precio de largo 1 + Maximo valor para el largo 3\u001b[0m\n",
            "\u001b[34m-1\u001b[0m \u001b[32m<\u001b[0m \u001b[34m2\u001b[0m \u001b[32m+\u001b[0m \u001b[34m15\u001b[0m\n",
            "\u001b[32mEl nuevo Maximo valor para el largo\u001b[0m \u001b[34m4\u001b[0m \u001b[32mes\u001b[0m \u001b[34m17\u001b[0m\n",
            "\u001b[33m---------------------------------------------\u001b[0m\n",
            "\u001b[32mLa varilla es de largo: \u001b[0m \u001b[34m1\u001b[0m\n",
            "\u001b[32mMaximo valor para el largo 1 < precio de largo 1 + Maximo valor para el largo 0\u001b[0m\n",
            "\u001b[34m-1\u001b[0m \u001b[32m<\u001b[0m \u001b[34m2\u001b[0m \u001b[32m+\u001b[0m \u001b[34m0\u001b[0m\n",
            "\u001b[32mEl nuevo Maximo valor para el largo\u001b[0m \u001b[34m1\u001b[0m \u001b[32mes\u001b[0m \u001b[34m2\u001b[0m\n",
            "\u001b[33m---------------------------------------------\u001b[0m\n",
            "\u001b[33m---------------------------------------------\u001b[0m\n",
            "\u001b[32mLa varilla es de largo: \u001b[0m \u001b[34m2\u001b[0m\n",
            "\u001b[32mMaximo valor para el largo 2 < precio de largo 1 + Maximo valor para el largo 1\u001b[0m\n",
            "\u001b[34m-1\u001b[0m \u001b[32m<\u001b[0m \u001b[34m2\u001b[0m \u001b[32m+\u001b[0m \u001b[34m2\u001b[0m\n",
            "\u001b[32mEl nuevo Maximo valor para el largo\u001b[0m \u001b[34m2\u001b[0m \u001b[32mes\u001b[0m \u001b[34m4\u001b[0m\n",
            "\u001b[33m---------------------------------------------\u001b[0m\n",
            "\u001b[32mLa varilla es de largo: \u001b[0m \u001b[34m2\u001b[0m\n",
            "\u001b[32mMaximo valor para el largo 2 < precio de largo 2 + Maximo valor para el largo 0\u001b[0m\n",
            "\u001b[34m4\u001b[0m \u001b[32m<\u001b[0m \u001b[34m6\u001b[0m \u001b[32m+\u001b[0m \u001b[34m0\u001b[0m\n",
            "\u001b[32mEl nuevo Maximo valor para el largo\u001b[0m \u001b[34m2\u001b[0m \u001b[32mes\u001b[0m \u001b[34m6\u001b[0m\n",
            "\u001b[33m---------------------------------------------\u001b[0m\n",
            "\u001b[33m---------------------------------------------\u001b[0m\n",
            "\u001b[32mLa varilla es de largo: \u001b[0m \u001b[34m4\u001b[0m\n",
            "\u001b[32mMaximo valor para el largo 4 < precio de largo 2 + Maximo valor para el largo 2\u001b[0m\n",
            "\u001b[34m17\u001b[0m \u001b[32m<\u001b[0m \u001b[34m6\u001b[0m \u001b[32m+\u001b[0m \u001b[34m6\u001b[0m\n",
            "\u001b[33m---------------------------------------------\u001b[0m\n",
            "\u001b[32mLa varilla es de largo: \u001b[0m \u001b[34m1\u001b[0m\n",
            "\u001b[32mMaximo valor para el largo 1 < precio de largo 1 + Maximo valor para el largo 0\u001b[0m\n",
            "\u001b[34m-1\u001b[0m \u001b[32m<\u001b[0m \u001b[34m2\u001b[0m \u001b[32m+\u001b[0m \u001b[34m0\u001b[0m\n",
            "\u001b[32mEl nuevo Maximo valor para el largo\u001b[0m \u001b[34m1\u001b[0m \u001b[32mes\u001b[0m \u001b[34m2\u001b[0m\n",
            "\u001b[33m---------------------------------------------\u001b[0m\n",
            "\u001b[33m---------------------------------------------\u001b[0m\n",
            "\u001b[32mLa varilla es de largo: \u001b[0m \u001b[34m4\u001b[0m\n",
            "\u001b[32mMaximo valor para el largo 4 < precio de largo 3 + Maximo valor para el largo 1\u001b[0m\n",
            "\u001b[34m17\u001b[0m \u001b[32m<\u001b[0m \u001b[34m15\u001b[0m \u001b[32m+\u001b[0m \u001b[34m2\u001b[0m\n",
            "\u001b[33m---------------------------------------------\u001b[0m\n",
            "\u001b[32mEl mayor precio obtenible:\u001b[0m \u001b[34m17\u001b[0m\n",
            "\u001b[32m\n",
            "\n",
            "- Se obtienen al cortar la varilla original en\u001b[0m \u001b[34m2\u001b[0m \u001b[32msubvarillas\u001b[0m\n",
            "\u001b[32m- Realiza\u001b[0m \u001b[34m1\u001b[0m \u001b[32mcortes\u001b[0m\n",
            "\u001b[32m- Realiza\u001b[0m \u001b[34m73\u001b[0m \u001b[32mllamadas recursivas\u001b[0m\n"
          ]
        }
      ]
    },
    {
      "cell_type": "markdown",
      "source": [
        "### **Dinámico: Bottom Up**\n",
        "\n"
      ],
      "metadata": {
        "id": "BowXHn5xzSCF"
      }
    },
    {
      "cell_type": "code",
      "source": [
        "arr = [2,6,15]\n",
        "\n",
        "partesDividido = [0 for x in range(n+1)]\n",
        "partesDividido[1] = 1\n",
        "print(colored(\"Seleccione las pulgadas de la varilla la cual se desea maximizar: \",\"green\"), end = \"\")\n",
        "largoVarilla = int(input())\n",
        "maximoValor = cortesVarillaB(precios, largoVarilla,partesDividido, verbose = True)\n",
        "print(colored(f\"El mayor precio obtenible:\",\"green\"), colored (f\"{maximoValor}\",\"blue\"))\n",
        "print(colored(f\"\\n\\n- Se obtiene al cortar la varilla original en\",\"green\"), colored(f\"{partesDividido[largoVarilla]}\",\"blue\") ,colored(\"subvarillas\",\"green\"))\n",
        "print(colored(f\"- Realiza\",\"green\"), colored(f\"{partesDividido[largoVarilla]-1}\",\"blue\"), colored(\"cortes\",\"green\"))\n",
        "print(colored(f\"- Realiza\",\"green\") ,colored(f\"{recursionCounter}\",\"blue\"),colored(\"llamadas recursivas\",\"green\"))"
      ],
      "metadata": {
        "colab": {
          "base_uri": "https://localhost:8080/"
        },
        "id": "mxrI52DUzXgm",
        "outputId": "0f305a50-5027-41ef-e518-3b7e5560f90c"
      },
      "execution_count": 167,
      "outputs": [
        {
          "output_type": "stream",
          "name": "stdout",
          "text": [
            "\u001b[32mSeleccione las pulgadas de la varilla la cual se desea maximizar: \u001b[0m4\n",
            "\u001b[33m---------------------------------------------\u001b[0m\n",
            "\u001b[32mVarilla de largo correspondiente a\u001b[0m \u001b[34m1\u001b[0m\n",
            "\u001b[33m-------------------------\u001b[0m\n",
            "\u001b[32mMáximo valor para el largo\u001b[0m \u001b[34m1\u001b[0m \u001b[32m<\u001b[0m \u001b[32mprecio de largo\u001b[0m \u001b[34m1\u001b[0m \u001b[32m+\u001b[0m \u001b[32mmáximo valor para el\u001b[0m \u001b[32mlargo\u001b[0m \u001b[34m0\u001b[0m\n",
            "\u001b[34m-3244\u001b[0m \u001b[32m<\u001b[0m \u001b[34m2\u001b[0m \u001b[32m+\u001b[0m \u001b[34m0\u001b[0m\n",
            "\u001b[32mEl nuevo Máximo valor para el largo\u001b[0m \u001b[34m1\u001b[0m \u001b[32mes\u001b[0m \u001b[34m2\u001b[0m\n",
            "\u001b[33m-------------------------\u001b[0m\n",
            "\u001b[33m---------------------------------------------\u001b[0m\n",
            "\u001b[32mVarilla de largo correspondiente a\u001b[0m \u001b[34m2\u001b[0m\n",
            "\u001b[33m-------------------------\u001b[0m\n",
            "\u001b[32mMáximo valor para el largo\u001b[0m \u001b[34m2\u001b[0m \u001b[32m<\u001b[0m \u001b[32mprecio de largo\u001b[0m \u001b[34m1\u001b[0m \u001b[32m+\u001b[0m \u001b[32mmáximo valor para el\u001b[0m \u001b[32mlargo\u001b[0m \u001b[34m1\u001b[0m\n",
            "\u001b[34m-3244\u001b[0m \u001b[32m<\u001b[0m \u001b[34m2\u001b[0m \u001b[32m+\u001b[0m \u001b[34m2\u001b[0m\n",
            "\u001b[32mEl nuevo Máximo valor para el largo\u001b[0m \u001b[34m2\u001b[0m \u001b[32mes\u001b[0m \u001b[34m4\u001b[0m\n",
            "\u001b[33m-------------------------\u001b[0m\n",
            "\u001b[33m-------------------------\u001b[0m\n",
            "\u001b[32mMáximo valor para el largo\u001b[0m \u001b[34m2\u001b[0m \u001b[32m<\u001b[0m \u001b[32mprecio de largo\u001b[0m \u001b[34m2\u001b[0m \u001b[32m+\u001b[0m \u001b[32mmáximo valor para el\u001b[0m \u001b[32mlargo\u001b[0m \u001b[34m0\u001b[0m\n",
            "\u001b[34m4\u001b[0m \u001b[32m<\u001b[0m \u001b[34m6\u001b[0m \u001b[32m+\u001b[0m \u001b[34m0\u001b[0m\n",
            "\u001b[32mEl nuevo Máximo valor para el largo\u001b[0m \u001b[34m2\u001b[0m \u001b[32mes\u001b[0m \u001b[34m6\u001b[0m\n",
            "\u001b[33m-------------------------\u001b[0m\n",
            "\u001b[33m---------------------------------------------\u001b[0m\n",
            "\u001b[32mVarilla de largo correspondiente a\u001b[0m \u001b[34m3\u001b[0m\n",
            "\u001b[33m-------------------------\u001b[0m\n",
            "\u001b[32mMáximo valor para el largo\u001b[0m \u001b[34m3\u001b[0m \u001b[32m<\u001b[0m \u001b[32mprecio de largo\u001b[0m \u001b[34m1\u001b[0m \u001b[32m+\u001b[0m \u001b[32mmáximo valor para el\u001b[0m \u001b[32mlargo\u001b[0m \u001b[34m2\u001b[0m\n",
            "\u001b[34m-3244\u001b[0m \u001b[32m<\u001b[0m \u001b[34m2\u001b[0m \u001b[32m+\u001b[0m \u001b[34m6\u001b[0m\n",
            "\u001b[32mEl nuevo Máximo valor para el largo\u001b[0m \u001b[34m3\u001b[0m \u001b[32mes\u001b[0m \u001b[34m8\u001b[0m\n",
            "\u001b[33m-------------------------\u001b[0m\n",
            "\u001b[33m-------------------------\u001b[0m\n",
            "\u001b[32mMáximo valor para el largo\u001b[0m \u001b[34m3\u001b[0m \u001b[32m<\u001b[0m \u001b[32mprecio de largo\u001b[0m \u001b[34m2\u001b[0m \u001b[32m+\u001b[0m \u001b[32mmáximo valor para el\u001b[0m \u001b[32mlargo\u001b[0m \u001b[34m1\u001b[0m\n",
            "\u001b[34m8\u001b[0m \u001b[32m<\u001b[0m \u001b[34m6\u001b[0m \u001b[32m+\u001b[0m \u001b[34m2\u001b[0m\n",
            "\u001b[33m-------------------------\u001b[0m\n",
            "\u001b[32mMáximo valor para el largo\u001b[0m \u001b[34m3\u001b[0m \u001b[32m<\u001b[0m \u001b[32mprecio de largo\u001b[0m \u001b[34m3\u001b[0m \u001b[32m+\u001b[0m \u001b[32mmáximo valor para el\u001b[0m \u001b[32mlargo\u001b[0m \u001b[34m0\u001b[0m\n",
            "\u001b[34m8\u001b[0m \u001b[32m<\u001b[0m \u001b[34m15\u001b[0m \u001b[32m+\u001b[0m \u001b[34m0\u001b[0m\n",
            "\u001b[32mEl nuevo Máximo valor para el largo\u001b[0m \u001b[34m3\u001b[0m \u001b[32mes\u001b[0m \u001b[34m15\u001b[0m\n",
            "\u001b[33m-------------------------\u001b[0m\n",
            "\u001b[33m---------------------------------------------\u001b[0m\n",
            "\u001b[32mVarilla de largo correspondiente a\u001b[0m \u001b[34m4\u001b[0m\n",
            "\u001b[33m-------------------------\u001b[0m\n",
            "\u001b[32mMáximo valor para el largo\u001b[0m \u001b[34m4\u001b[0m \u001b[32m<\u001b[0m \u001b[32mprecio de largo\u001b[0m \u001b[34m1\u001b[0m \u001b[32m+\u001b[0m \u001b[32mmáximo valor para el\u001b[0m \u001b[32mlargo\u001b[0m \u001b[34m3\u001b[0m\n",
            "\u001b[34m-3244\u001b[0m \u001b[32m<\u001b[0m \u001b[34m2\u001b[0m \u001b[32m+\u001b[0m \u001b[34m15\u001b[0m\n",
            "\u001b[32mEl nuevo Máximo valor para el largo\u001b[0m \u001b[34m4\u001b[0m \u001b[32mes\u001b[0m \u001b[34m17\u001b[0m\n",
            "\u001b[33m-------------------------\u001b[0m\n",
            "\u001b[33m-------------------------\u001b[0m\n",
            "\u001b[32mMáximo valor para el largo\u001b[0m \u001b[34m4\u001b[0m \u001b[32m<\u001b[0m \u001b[32mprecio de largo\u001b[0m \u001b[34m2\u001b[0m \u001b[32m+\u001b[0m \u001b[32mmáximo valor para el\u001b[0m \u001b[32mlargo\u001b[0m \u001b[34m2\u001b[0m\n",
            "\u001b[34m17\u001b[0m \u001b[32m<\u001b[0m \u001b[34m6\u001b[0m \u001b[32m+\u001b[0m \u001b[34m6\u001b[0m\n",
            "\u001b[33m-------------------------\u001b[0m\n",
            "\u001b[32mMáximo valor para el largo\u001b[0m \u001b[34m4\u001b[0m \u001b[32m<\u001b[0m \u001b[32mprecio de largo\u001b[0m \u001b[34m3\u001b[0m \u001b[32m+\u001b[0m \u001b[32mmáximo valor para el\u001b[0m \u001b[32mlargo\u001b[0m \u001b[34m1\u001b[0m\n",
            "\u001b[34m17\u001b[0m \u001b[32m<\u001b[0m \u001b[34m15\u001b[0m \u001b[32m+\u001b[0m \u001b[34m2\u001b[0m\n",
            "\u001b[32mEl mayor precio obtenible:\u001b[0m \u001b[34m17\u001b[0m\n",
            "\u001b[32m\n",
            "\n",
            "- Se obtiene al cortar la varilla original en\u001b[0m \u001b[34m2\u001b[0m \u001b[32msubvarillas\u001b[0m\n",
            "\u001b[32m- Realiza\u001b[0m \u001b[34m1\u001b[0m \u001b[32mcortes\u001b[0m\n",
            "\u001b[32m- Realiza\u001b[0m \u001b[34m73\u001b[0m \u001b[32mllamadas recursivas\u001b[0m\n"
          ]
        }
      ]
    },
    {
      "cell_type": "markdown",
      "source": [
        "## 2.3 Ejemplo escrito\n",
        "\n",
        "Arreglo de precios = $[2,6,15]$\n",
        "\n",
        "n = 4\n",
        "\n",
        "1.- En primera instancia se comienza con un largo de varilla correspondiente a 1 \n",
        "\n",
        "2.- luego se compara el valor maximo con el primer precio de la lista de precios\n",
        "\n",
        "3.- Como 2 es mayor que el número máximo en ese momento ( correspondiente a un número muy pequeño en un inicio ) este pasa a ser el número maximo, el anterior pasa a ser almacenado en un arreglo auxiliar.\n",
        "\n",
        "4.- Luego se repite el proceso sumando el anterior dato. gurdado en arrelgo En este caso como el anterior era 2, el número máximo pasa a convertirse en 4.\n",
        "\n",
        "5.- Se repite este proceso para cada tamaño hasta llegar a la cifra de 17 que corresponderia a la suma de 15 + 2\n",
        "\n",
        "- Se obtiene al cortar la varilla original en 2 subvarillas\n",
        "- Realiza 1 cortes\n",
        "- Realiza 73 llamadas recursivas"
      ],
      "metadata": {
        "id": "qnoudfv5zzTO"
      }
    },
    {
      "cell_type": "markdown",
      "source": [
        "# 3. Tiempo de ejecución"
      ],
      "metadata": {
        "id": "z-7Js6BGkefC"
      }
    },
    {
      "cell_type": "markdown",
      "source": [
        "### **Bottom-up**\n",
        "\n",
        "### Teorema (Complejidad Temporal).\n",
        "\n",
        "El algoritmo Cutting To Rod implementado a traves de Bottom-up tiene un tiempo de ejecución de $O(n^2)$ .\n",
        "\n",
        "### Prueba del teorema.\n",
        "**Lógica**\n",
        "\n",
        "Para la resolución de este problema tenemos 2 bucles, el bucle grande es para recorrer los subproblemas a resolver antes de ser capaz de resolver el problema real\n",
        "\n",
        "Para la resolución de este problema tenemos 2 bucles, el bucle grande es para recorrer los subproblemas a resolver antes de ser capaz de resolver el problema real (refiriéndose al aquellos problemas con menor tamaño al pedido).\n",
        "\n",
        "Cada problema tiene en cuenta que tenemos el retorno máximo de sus subproblemas (el problema para cualquier tamaño menor al pedido). Y con ese dato, dentro del bucle chico se resuelve el problema en un tiempo de ejecución $n-1 \\rightarrow O(n)$.\n",
        "\n",
        "Para el retorno máximo del tamaño pedido se deben resolver $n-1$ subproblemas antes de resolver el problema real.\n",
        "\n",
        "El problema real también tiene un tiempo de ejecución $n-1 \\rightarrow O(n)$.\n",
        "\n",
        "Entonces se trata de resolver  veces un problema con tiempo de ejecución $O(n)$ Por eso el algoritmo **bottom**-**up** para resolver `CuttingToRod` es de $n * (n-1) → O(n^2)$\n",
        "\n",
        "**Problema matemático**\n",
        "\n",
        "Podemos ver el tiempo de ejecución de todos los subproblemas como sumatoria, debemos resolver todos los subproblemas de tamaño $j=0...n-1$, el total de tiempo de ejecución de los subproblemas seria la suma de todos los subproblemas.\n",
        "\n",
        "Cada subproblema tiene tiempo de ejecución \n",
        "$T_{sub}(n) = n$.\n",
        "\n",
        "$\\displaystyle \\sum_{j=0}^{n-1}T_{sub}(j) = \\frac{(n-1)(n-2)}{2} = \\frac{n^2 - 3n + 2}{2} → O(n^2)$\n",
        "\n",
        "Y el tiempo de ejecución del problema sería el de los subproblemas más  (siendo  el tiempo del problema con los subproblemas resueltos).\n",
        "\n",
        "$T(n) = \\displaystyle \\sum_{j=0}^{n-1}T_{sub}(j) + n = \\frac{(n-1)(n-2)}{2} + n= \\frac{n^2 - 3n + 2}{2} + n = \\frac{n^2 - n + 2}{2} → O(n^2)$\n",
        "\n",
        "### Teorema (Complejidad Espacial).\n",
        "\n",
        "El algoritmo `Cutting To Rod` implementado a traves de Bottom-up tiene un almacenamiento usado de $O(n)$.\n",
        "\n",
        "Prueba del teorema.\n",
        "Para la resolución de este problema, además de los datos necesario que deben ser proporcionados, se debe crear un arreglo de valores $V$ de tamaño $n+1$, donde se irán guardando los retornos máximos de cada subproblema.\n",
        "\n",
        "Por ejemplo, en el cuando tengamos el tamaño $x=4$, guardaremos su retorno máximo en $V_4$ para su posterior uso cuando tengamos $x=x+1$.\n",
        "\n",
        "Por eso la memoria extra que requiere el problema es de $n+1 \\rightarrow O(n)$.\n",
        "\n"
      ],
      "metadata": {
        "id": "pWEmq2grWjl1"
      }
    },
    {
      "cell_type": "markdown",
      "source": [
        "# 4.Correctitud"
      ],
      "metadata": {
        "id": "RMFWMwlek4xg"
      }
    },
    {
      "cell_type": "markdown",
      "source": [
        "### Teorema (Correctitud).\n",
        "El algoritmo entrega el máximo retorno posible de una varilla de tamaño $n$.\n",
        "\n",
        "### Prueba del Teorema\n",
        "\n",
        "Probaremos la siguiente propiedad invariante de bucle para el algoritmo `Cutting To Rod:`\n",
        "> Al comienzo de cada iteración  del bucle más grande, tendremos el máximo retorno de la varilla de largo $i=i-1...0$ calculado y guardado.\n",
        "\n",
        "### Inicialización\n",
        "\n",
        "Al comienzo de la primera iteración $i=1$ tendremos el máximo retorno de la varilla $i-1=0$ lo cual es cierto, pues independientemente de los precios aplicados, una varilla de largo 0 siempre valdrá 0.\n",
        "\n",
        "### Mantención\n",
        "\n",
        "Aplicando inducción, asumimos que al comienzo de cada iteración se cumple la propiedad. Es decir, en la iteración $i$ tenemos el retorno máximo para los problemas $i=i-1...0$ calculado.\n",
        "\n",
        "Consideremos que $i=x$ como el tamaño del problema con $x < n$.\n",
        "\n",
        "Dentro del bucle más pequeño, se ira obteniendo el precio de varilla de tamaño $a$ + retorno máximo del tamaño $b$ de tal manera que $a+b=x$  medida que el tamaño de la varilla ($a$) aumenta, el retorno máximo con el que se suma disminuye, cada iteración del segundo bucle se compara la suma con el valor máximo guardado, y se reemplaza si es mayor, de esa manera tendremos el retorno máximo para el tamaño $x$.\n",
        "\n",
        "Al finalizar la iteración $i=x$ (y al comienzo de la siguiente $i=x+1$), se seguirá cumpliendo la **propiedad invariante**.\n",
        "\n",
        "### Correctitud\n",
        "\n",
        "Finalmente, como la propiedad de bucle invariante es verdadera al incio del bucle y se mantiene en cada iteración, podemos decir que al finalizar la $n$-ésima iteración del algoritmo, se obtendra el retorno maximo de una varilla de largo $n$.\n",
        "\n",
        "\n",
        "\n",
        "\n",
        "\n"
      ],
      "metadata": {
        "id": "xGutTinCUvnX"
      }
    },
    {
      "cell_type": "markdown",
      "source": [
        "# 5. Experimentos\n",
        "\n",
        "A continuación se realizarán experimentos los cuales incluyen investigar:\n",
        "\n",
        "* Observar lo que ocurre con el tiempo de ambos algoritmos a medida que crece el tamaño del problema.\n",
        "* Observar la cantidad de problemas que debe resolver el acercamiento bottom-up a medida que el problema crece.\n",
        "\n",
        "\n"
      ],
      "metadata": {
        "id": "NUFDh58Sk8D2"
      }
    },
    {
      "cell_type": "code",
      "source": [
        "import matplotlib.pyplot as plt\n",
        "import datetime\n",
        "import random\n",
        "from timeit import repeat\n",
        "\n",
        "x=[]; y=[] ; y1=[] ; verbose = False\n",
        "for largoVarilla in range(1,15):\n",
        "    # ---------------\n",
        "    a = random.sample(range(5, 100), largoVarilla)\n",
        "    #la función repeat está ejecutando 20 veces insertionSort con el arreglo a y retorna el mejor tiepo obtenido.\n",
        "    t = repeat(setup=\"from __main__ import cortesVarillaF\", stmt=f\"cortesVarillaF({a}, {largoVarilla})\", repeat=1, number=5)\n",
        "    t1 = repeat(setup=\"from __main__ import cortesVarillaB\", stmt=f\"cortesVarillaB({a}, {largoVarilla})\", repeat=1, number=5)\n",
        "    x.append(largoVarilla)\n",
        "    y.append(t)\n",
        "    y1.append(t1)\n",
        "\n",
        "plt.plot(x,y)\n",
        "plt.plot(x,y1)\n",
        "plt.legend([\"Fuerza Bruta\",\"Bottom-up\"])\n",
        "plt.xlabel('Largo de varilla')\n",
        "plt.ylabel('Tiempo en ms')\n",
        "plt.show()"
      ],
      "metadata": {
        "colab": {
          "base_uri": "https://localhost:8080/",
          "height": 283
        },
        "id": "13Xbpd56_-sr",
        "outputId": "7175092a-f436-4292-e536-92ba3a63042b"
      },
      "execution_count": 129,
      "outputs": [
        {
          "output_type": "display_data",
          "data": {
            "text/plain": [
              "<Figure size 432x288 with 1 Axes>"
            ],
            "image/png": "[encoded data removed]"
          },
          "metadata": {
            "needs_background": "light"
          }
        }
      ]
    },
    {
      "cell_type": "markdown",
      "source": [
        "# Análisis de resultados\n",
        "\n",
        "Complejidades temporales promedio:\n",
        "\n",
        "> Fuerza bruta: $O(n^n)$ \n",
        "\n",
        "\n",
        "> Bottom Up: $O(n^2)$\n",
        "\n",
        "\n",
        "\n"
      ],
      "metadata": {
        "id": "IkWEIRXtBdbU"
      }
    },
    {
      "cell_type": "markdown",
      "source": [
        "Tal como indican sus tiempos de ejecución, los resultados mostrados eran esprables. La diferencia es lo suficientemente notoria como para opacar el crecimiento de la gráfica de BottomUp.\n",
        "\n",
        ">La marcada diferenciación de las 2 gráficas comienza a partir de las 15 unidades que representan el largo de la varilla. Esta anomalía puede tener causa en el hecho de que, el tiempo de ejecucuón de la manera recursiva crece de manera **exponencial**, oséase, que cada unidad de largo de varilla representará una muy notoria diferencia de eficiencia respecto al tiempo de ejecución con un largo menor.\n",
        "\n",
        "El algoritmo requiere de llamarse **recursivamente** a sí mismo para encontrar el valor anterior para así porder compararlo y establecer cual es el mayor número. Para ello, requiere de repetir el proceso de recursividad hasta llegar al primer número del arreglo y así poder obtener correctamente el número necesario para la comparación, como es evidente, no hay ningún tipo de optimización en este procedimiento, demostrando claramente como el paradigma de esta resolución corresponde a **Fuerza Bruta**. Lo que propiamente explica los resultados de la gráfica.\n",
        "\n",
        "\n",
        "\n",
        "\n"
      ],
      "metadata": {
        "id": "fgGlwoPqpnrU"
      }
    },
    {
      "cell_type": "code",
      "source": [
        "import matplotlib.pyplot as plt\n",
        "\n",
        "y1=[n for n in range(5,200)] # Cantidad de problemas\n",
        "x=[n for n in range(5,200)]\n",
        "\n",
        "plt.plot(x,y1)\n",
        "plt.legend([\"Problemas\"])\n",
        "\n",
        "plt.xlabel('Tamaño del problema')\n",
        "plt.ylabel('Cantidad de problemas')\n",
        "plt.show()"
      ],
      "metadata": {
        "colab": {
          "base_uri": "https://localhost:8080/",
          "height": 279
        },
        "id": "KCuw2803ZT1p",
        "outputId": "5c69fe81-117d-48cb-9a69-583b4dc9a9db"
      },
      "execution_count": null,
      "outputs": [
        {
          "output_type": "display_data",
          "data": {
            "text/plain": [
              "<Figure size 432x288 with 1 Axes>"
            ],
            "image/png": "[encoded data removed]"
          },
          "metadata": {
            "needs_background": "light"
          }
        }
      ]
    },
    {
      "cell_type": "markdown",
      "source": [
        "Es evidente que la cantidad de problemas a resolver crece de manera lineal en función del tamaño del problema, esto era esperable ya que la forma en la que está implementado CuttingRod por Bottom-up, mientras más grande sea el problema a resolver, más cantidad de problemas tendrá que solventar.  "
      ],
      "metadata": {
        "id": "ZqhnbG87oc9z"
      }
    }
  ]
}