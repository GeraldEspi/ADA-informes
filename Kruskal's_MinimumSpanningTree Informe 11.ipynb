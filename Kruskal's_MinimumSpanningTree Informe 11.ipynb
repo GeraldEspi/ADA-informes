{
  "nbformat": 4,
  "nbformat_minor": 0,
  "metadata": {
    "colab": {
      "provenance": [],
      "collapsed_sections": [],
      "authorship_tag": "ABX9TyP/dXNKQNrRw632GuOCGq6m",
      "include_colab_link": true
    },
    "kernelspec": {
      "name": "python3",
      "display_name": "Python 3"
    },
    "language_info": {
      "name": "python"
    }
  },
  "cells": [
    {
      "cell_type": "markdown",
      "metadata": {
        "id": "view-in-github",
        "colab_type": "text"
      },
      "source": [
        "<a href=\"https://colab.research.google.com/github/GeraldEspi/ADA-informes/blob/main/Kruskal's_MinimumSpanningTree%20Informe%2011.ipynb\" target=\"_parent\"><img src=\"https://colab.research.google.com/assets/colab-badge.svg\" alt=\"Open In Colab\"/></a>"
      ]
    },
    {
      "cell_type": "markdown",
      "source": [
        "#1. **Kruskal’s Minimum Spanning Tree**\n",
        "\n",
        "Para la correcta comprensión del algoritmo que se busca investigar primero es necesario explicar algunos conceptos.\n"
      ],
      "metadata": {
        "id": "LOIDcT_786Tr"
      }
    },
    {
      "cell_type": "markdown",
      "source": [
        "\n",
        "**¿Qué es un árbol de expansión?**\n",
        "\n",
        ">Un árbol de expansión es un subconjunto de un gráfico conectado G, donde todos los bordes están conectados, es decir, uno puede atravesar cualquier borde desde un borde particular con o sin intermedios. Además, un árbol de expansión no debe tener ningún ciclo. Así podemos decir que si hay N vértices en un grafo conexo entonces el no. de aristas que puede tener un árbol de expansión es N-1."
      ],
      "metadata": {
        "id": "O2JK1h_58irR"
      }
    },
    {
      "cell_type": "markdown",
      "source": [
        "**¿Qué es un árbol de expansión mínimo?**\n",
        "\n",
        ">El árbol de expansión de peso mínimo es aquel que comienza desde un vértice y encuentra todos sus nodos accesibles y las relaciones en conjunto que permiten que se conecten dichos nodos con el menor peso posible. "
      ],
      "metadata": {
        "id": "fx-MzLnk83iw"
      }
    },
    {
      "cell_type": "markdown",
      "source": [
        "**¿Cuántas aristas tiene un árbol de expansión mínimo?**\n",
        "\n",
        "> Un árbol de expansión mínimo tiene **(V – 1)** aristas donde V es el número de vértices en el gráfico dado."
      ],
      "metadata": {
        "id": "UKF04NM8-RWC"
      }
    },
    {
      "cell_type": "markdown",
      "source": [
        "\n",
        "**Entrada:** Grafo no dirigido $G=(V,E)$ en el cual cada arco $e$ tiene un costo $c_e$\n",
        "\n",
        "**Salida:**  Conexiones (arcos) con su peso y los nodos que componen el l Minimum Spanning Tree."
      ],
      "metadata": {
        "id": "Odg1XgxH_PNk"
      }
    },
    {
      "cell_type": "markdown",
      "source": [
        "## 1.2 **Algoritmo**"
      ],
      "metadata": {
        "id": "WSweltC0-tTz"
      }
    },
    {
      "cell_type": "markdown",
      "source": [
        "**Para el algoritmo desarrollado por kruskal para encontrar el MST (Minimum Spanning Tree) se relizan los siguientes pasos:**\n",
        "\n",
        "1. *se ordenan todos los bordes en orden no decreciente en función de su peso.*\n",
        "\n",
        "2. *Se elije el borde más pequeño. Se comprueba si forma un ciclo con el árbol de expansión formado hasta ahora. Si el ciclo no se forma, se incluye este borde. De lo contrario, se desecha.*\n",
        "\n",
        "3. *Se repite el paso 2 hasta que haya **(V-1)** aristas en el árbol de expansión.*"
      ],
      "metadata": {
        "id": "PPxAUMZR_hV1"
      }
    },
    {
      "cell_type": "markdown",
      "source": [
        "# 2. **Código**"
      ],
      "metadata": {
        "id": "mTxw0WAX97uK"
      }
    },
    {
      "cell_type": "code",
      "source": [
        "#______________________________\n",
        "import random\n",
        "import networkx as nx\n",
        "import matplotlib.pyplot as plt\n",
        "from termcolor import colored\n",
        "\n",
        "#______________________________\n"
      ],
      "metadata": {
        "id": "_2lg_2LTpz1t"
      },
      "execution_count": null,
      "outputs": []
    },
    {
      "cell_type": "code",
      "source": [
        "# Clase especial para acomodar los grafos\n",
        "# Kruskal es la ultima funcion de la clase\n",
        "class Graph:\n",
        " \n",
        "    def __init__(self, vertices):\n",
        "        self.V = vertices # Numero de nodos\n",
        "        self.graph = [] # Almacena el grafo\n",
        "    \n",
        "    # Función para agregar un arco al grafo\n",
        "    def addEdge(self, u, v, w):\n",
        "        self.graph.append([u, v, w])\n",
        "\n",
        "    # Una función de utilidad para encontrar el conjunto de un elemento i\n",
        "    def find(self, parent, i):\n",
        "        if parent[i] != i:\n",
        "            # Reasignación del padre del nodo al nodo raíz \n",
        "            # como requiere la compresión de ruta\n",
        "            parent[i] = self.find(parent, parent[i])\n",
        "        return parent[i]\n",
        "\n",
        "    # Una función que hace la unión de dos conjuntos de x e y\n",
        "    # (usa unión por rango)\n",
        "    def union(self, parent, rank, x, y):\n",
        "        # Adjunte un árbol de rango más pequeño debajo de la raíz\n",
        "        # del árbol de rango alto (Unión por rango)\n",
        "        if rank[x] < rank[y]:\n",
        "            parent[x] = y\n",
        "        elif rank[x] > rank[y]:\n",
        "            parent[y] = x\n",
        "        # Si los rangos son los mismos, haga uno como raíz e incremente su rango en uno\n",
        "        else:\n",
        "            parent[y] = x\n",
        "            rank[x] += 1\n",
        "    \n",
        "    # Función que transforma el grafico en la clase a uno graficable por\n",
        "    # la libreria networkx\n",
        "    def crearGrafoNx(self,result):\n",
        "        X = []\n",
        "        Tree = nx.Graph()\n",
        "        for u, v, w in result:\n",
        "            if(u not in X):\n",
        "                X.append(u)\n",
        "                Tree.add_node(u)\n",
        "            if(v not in X):\n",
        "                X.append(v)\n",
        "                Tree.add_node(v)\n",
        "            Tree.add_edge(u,v, weight = w)\n",
        "        return Tree\n",
        "    \n",
        "    # Función para mostrar el grafo recibido por la funcion en la pantalla\n",
        "    def ShowGraph(self, r):\n",
        "        T = self.crearGrafoNx(r) # Transforma el grafo a uno que networkx puede leer\n",
        "\n",
        "        # spring_layout: define posiciones para los nodos del grafo\n",
        "        pos=nx.spring_layout(T)\n",
        "\n",
        "        # para mostrar los arcos con sus etiquetas\n",
        "        labels = nx.get_edge_attributes(T,'weight')\n",
        "        nx.draw_networkx_edge_labels(T,pos,edge_labels=labels,font_size=14)\n",
        "\n",
        "        # para mostrar los nodos en sus posiciones y colores, tamaños, etc.\n",
        "        nx.draw(T,pos, node_color=\"gray\", with_labels=True, node_size=800,\n",
        "                font_color=\"white\", font_size=14, font_weight=\"black\", width=2.0, edge_color =\"black\")\n",
        "\n",
        "\n",
        "    # La función principal para construir MST \n",
        "    # (Minimum Spanning Tree) usando el algoritmo de Kruskal.\n",
        "    def KruskalMST(self, verbose = False, visualize= False):\n",
        "        result = []  # Esto almacenará el Árbol de expansión mínima resultante.\n",
        "\n",
        "        # Una variable de índice, utilizada para arcos ordenados.\n",
        "        i = 0\n",
        "\n",
        "        # Una variable de índice, utilizada para result[].\n",
        "        e = 0\n",
        "  \n",
        "        # Paso 1: Ordene todos los arcos en orden creciente por su peso.\n",
        "        # Si no se nos permite cambiar el gráfico dado,\n",
        "        # podemos crear una copia del gráfico.\n",
        "        if verbose:\n",
        "            print(colored(\"\\n*****************************************************************************************************************\",\"green\"))\n",
        "            print(f\"Primero hay que ordenar los arcos: {self.graph}.\")\n",
        "        self.graph = sorted(self.graph,\n",
        "                            key=lambda item:item[2])\n",
        "        if verbose:\n",
        "            print(colored(\"Los arcos con menor peso van primero, quedando de la siguiente manera: , blue\"), self.graph)\n",
        "            print(colored(\"Y se crea el nuevo arbol\",\"blue\"), result , colored(\"que no tendra ciclos y conecta los\",\"green\"), self.V, colored(\"nodos\",\"green\"))\n",
        "            print(colored(\"Nuevo árbol guarda los datos de la siguiente manera\",\"blue\"), colored(\"[nodo, nodo, peso].\",\"yellow\"))\n",
        " \n",
        "        parent = []\n",
        "        rank = []\n",
        " \n",
        "        # Crear subconjuntos V con elementos individuales cada uno.\n",
        "        for node in range(self.V):\n",
        "            parent.append(node)\n",
        "            rank.append(0)\n",
        "        \n",
        "        # El número de arcos a tomar siempre es igual a V-1 --> V es cantidad de nodos\n",
        "        while e < self.V - 1:\n",
        "            # Paso 2: se elije el arco más pequeño\n",
        "            # e incremente el índice para la próxima iteración.\n",
        "            u, v, w = self.graph[i]\n",
        "            i = i + 1\n",
        "            x = self.find(parent, u)\n",
        "            y = self.find(parent, v)\n",
        "\n",
        "            # Si incluir este arco no provoca un ciclo,\n",
        "            # se agrega en el resultado y se incrementa el índice del resultado\n",
        "            # para el arco siguiente.\n",
        "            if verbose: \n",
        "                print(colored(\"///----------------------------------------///-----------------------------------------///\",\"green\"))\n",
        "                print(colored(\"Se tiene los arcos en el nuevo árbol:\",\"blue\"),result)\n",
        "                print(colored(\"Se comprueba si al agregar el arco\",\"blue\") ,colored(\"[\",\"green\"),u,v, colored(\"peso =\",\"blue\") ,w,colored(\"]\",\"green\") ,colored(\"se genera ciclo en el nuevo árbol.\",\"blue\"))\n",
        "            if x != y:\n",
        "                e = e + 1\n",
        "                result.append([u, v, w])\n",
        "                self.union(parent, rank, x, y)\n",
        "                if verbose:\n",
        "                    print(colored(\"    El arco [\",\"green\"),u,v, colored(\"peso =\",\"green\"), w,colored(\"[\",\"green\"), colored(\"no generara ciclos en el nuevo árbol. Se agrega al árbol.\",\"green\"))\n",
        "                    print(colored(\"    El nuevo árbol ahora tiene los siguientes arcos\",\"blue\"), result, \".\")\n",
        "                    if e >= self.V - 1: \n",
        "                        print(colored(\"    Con el nuevo arco agregado, el árbol tiene\",\"blue\"), e-1 ,colored(\"arcos para\",\"green\"), self.V, colored(\"nodos \\n\" ,\"blue\"))\n",
        "                        print(colored(\"    No puede tener más nodos, entonces el nuevo árbol esta completo.\",\"blue\"))\n",
        "            elif verbose:\n",
        "                print(colored(\"    Si agregamos el arco\",\"green\"), colored(\"[\",\"green\"), u,v, colored(\"peso = \", \"blue\"), w,colored(\"]\",\"green\"),  colored(\"el nuevo árbol tendra ciclo, entonces descartamos el arco sin agregarlo al nuevo árbol.\",\"blue\"))\n",
        "            # De lo contrario descartar el arco.\n",
        "        \n",
        "        if verbose:\n",
        "            print(colored(\"///----------------------------------------///-----------------------------------------///\",\"green\"))\n",
        "            print(colored(\"\\n*****************************************************************************************************************\",\"green\"))\n",
        "        \n",
        "        if visualize:\n",
        "            print(\"Mostrar árbol de costo minimo\")\n",
        "            self.ShowGraph(result)\n",
        "        \n",
        "        return result"
      ],
      "metadata": {
        "id": "dbZInzJ0_Ua6"
      },
      "execution_count": 96,
      "outputs": []
    },
    {
      "cell_type": "code",
      "source": [
        "# Crea un grafo de tipo array de arrays\n",
        "# que contiene [i, j, peso]\n",
        "# siendo i y j los nodos conectados\n",
        "def generadorDeInstancias(V):\n",
        "  graph = Graph(V)\n",
        "  for i in range(V):\n",
        "    for j in range(i+1, V):\n",
        "      graph.graph.append([i, j, random.randint(1, 500)])\n",
        "  \n",
        "  return graph\n",
        "\n",
        "\n",
        "grafo = generadorDeInstancias(6)\n",
        "print(\"Grafo al que se aplicara Kruskal:\")\n",
        "grafo.ShowGraph(grafo.graph)"
      ],
      "metadata": {
        "colab": {
          "base_uri": "https://localhost:8080/",
          "height": 265
        },
        "id": "ntMIOYAMB28p",
        "outputId": "9dc31d75-6182-4708-9324-3935f4d99b90"
      },
      "execution_count": 98,
      "outputs": [
        {
          "output_type": "stream",
          "name": "stdout",
          "text": [
            "Grafo al que se aplicara Kruskal:\n"
          ]
        },
        {
          "output_type": "display_data",
          "data": {
            "text/plain": [
              "<Figure size 432x288 with 1 Axes>"
            ],
            "image/png": "[encoded data removed]"
          },
          "metadata": {}
        }
      ]
    },
    {
      "cell_type": "markdown",
      "source": [
        "## **Ejecución con Verbose = True**\n",
        "\n"
      ],
      "metadata": {
        "id": "G8gcn6iSkof4"
      }
    },
    {
      "cell_type": "code",
      "source": [
        "# Driver's code\n",
        "if __name__ == '__main__':\n",
        "    # Function call\n",
        "    tree = grafo.KruskalMST(True,False)\n",
        "    \n",
        "    minimumCost = 0\n",
        "    print(colored(\"Arcos en el árbol de minimo costo construido:\\n\",\"blue\"))\n",
        "    print(colored(\"///----------------------------------------///-----------------------------------------///\",\"green\"))\n",
        "    print(\"     %s -- %s | %s\" % (colored(\"Nodo\",\"yellow\"), colored(\"Nodo\",\"yellow\"), colored(\"Peso\",\"yellow\")))\n",
        "    for u, v, weight in tree:\n",
        "        minimumCost += weight\n",
        "        print(\"     %4d -- %4d | %4d\" % (u, v, weight))\n",
        "    print(colored(\"///----------------------------------------///-----------------------------------------///\",\"green\"))\n",
        "    print(colored(\"\\n- El costo total del nuevo árbol es de: \",\"blue\"), minimumCost)"
      ],
      "metadata": {
        "colab": {
          "base_uri": "https://localhost:8080/"
        },
        "id": "gnjMnVwrk6Y6",
        "outputId": "518c9291-204b-4739-ff3e-3052f0f72fc3"
      },
      "execution_count": 105,
      "outputs": [
        {
          "output_type": "stream",
          "name": "stdout",
          "text": [
            "\u001b[32m\n",
            "*****************************************************************************************************************\u001b[0m\n",
            "Primero hay que ordenar los arcos: [[1, 4, 16], [2, 4, 37], [4, 5, 48], [3, 4, 52], [1, 5, 72], [0, 4, 97], [0, 2, 138], [0, 1, 229], [1, 2, 255], [0, 3, 297], [2, 5, 320], [1, 3, 366], [2, 3, 366], [0, 5, 410], [3, 5, 437]].\n",
            "Los arcos con menor peso van primero, quedando de la siguiente manera: , blue\u001b[0m [[1, 4, 16], [2, 4, 37], [4, 5, 48], [3, 4, 52], [1, 5, 72], [0, 4, 97], [0, 2, 138], [0, 1, 229], [1, 2, 255], [0, 3, 297], [2, 5, 320], [1, 3, 366], [2, 3, 366], [0, 5, 410], [3, 5, 437]]\n",
            "\u001b[34mY se crea el nuevo arbol\u001b[0m [] \u001b[32mque no tendra ciclos y conecta los\u001b[0m 6 \u001b[32mnodos\u001b[0m\n",
            "\u001b[34mNuevo árbol guarda los datos de la siguiente manera\u001b[0m \u001b[33m[nodo, nodo, peso].\u001b[0m\n",
            "\u001b[32m///----------------------------------------///-----------------------------------------///\u001b[0m\n",
            "\u001b[34mSe tiene los arcos en el nuevo árbol:\u001b[0m []\n",
            "\u001b[34mSe comprueba si al agregar el arco\u001b[0m \u001b[32m[\u001b[0m 1 4 \u001b[34mpeso =\u001b[0m 16 \u001b[32m]\u001b[0m \u001b[34mse genera ciclo en el nuevo árbol.\u001b[0m\n",
            "\u001b[32m    El arco [\u001b[0m 1 4 \u001b[32mpeso =\u001b[0m 16 \u001b[32m[\u001b[0m \u001b[32mno generara ciclos en el nuevo árbol. Se agrega al árbol.\u001b[0m\n",
            "\u001b[34m    El nuevo árbol ahora tiene los siguientes arcos\u001b[0m [[1, 4, 16]] .\n",
            "\u001b[32m///----------------------------------------///-----------------------------------------///\u001b[0m\n",
            "\u001b[34mSe tiene los arcos en el nuevo árbol:\u001b[0m [[1, 4, 16]]\n",
            "\u001b[34mSe comprueba si al agregar el arco\u001b[0m \u001b[32m[\u001b[0m 2 4 \u001b[34mpeso =\u001b[0m 37 \u001b[32m]\u001b[0m \u001b[34mse genera ciclo en el nuevo árbol.\u001b[0m\n",
            "\u001b[32m    El arco [\u001b[0m 2 4 \u001b[32mpeso =\u001b[0m 37 \u001b[32m[\u001b[0m \u001b[32mno generara ciclos en el nuevo árbol. Se agrega al árbol.\u001b[0m\n",
            "\u001b[34m    El nuevo árbol ahora tiene los siguientes arcos\u001b[0m [[1, 4, 16], [2, 4, 37]] .\n",
            "\u001b[32m///----------------------------------------///-----------------------------------------///\u001b[0m\n",
            "\u001b[34mSe tiene los arcos en el nuevo árbol:\u001b[0m [[1, 4, 16], [2, 4, 37]]\n",
            "\u001b[34mSe comprueba si al agregar el arco\u001b[0m \u001b[32m[\u001b[0m 4 5 \u001b[34mpeso =\u001b[0m 48 \u001b[32m]\u001b[0m \u001b[34mse genera ciclo en el nuevo árbol.\u001b[0m\n",
            "\u001b[32m    El arco [\u001b[0m 4 5 \u001b[32mpeso =\u001b[0m 48 \u001b[32m[\u001b[0m \u001b[32mno generara ciclos en el nuevo árbol. Se agrega al árbol.\u001b[0m\n",
            "\u001b[34m    El nuevo árbol ahora tiene los siguientes arcos\u001b[0m [[1, 4, 16], [2, 4, 37], [4, 5, 48]] .\n",
            "\u001b[32m///----------------------------------------///-----------------------------------------///\u001b[0m\n",
            "\u001b[34mSe tiene los arcos en el nuevo árbol:\u001b[0m [[1, 4, 16], [2, 4, 37], [4, 5, 48]]\n",
            "\u001b[34mSe comprueba si al agregar el arco\u001b[0m \u001b[32m[\u001b[0m 3 4 \u001b[34mpeso =\u001b[0m 52 \u001b[32m]\u001b[0m \u001b[34mse genera ciclo en el nuevo árbol.\u001b[0m\n",
            "\u001b[32m    El arco [\u001b[0m 3 4 \u001b[32mpeso =\u001b[0m 52 \u001b[32m[\u001b[0m \u001b[32mno generara ciclos en el nuevo árbol. Se agrega al árbol.\u001b[0m\n",
            "\u001b[34m    El nuevo árbol ahora tiene los siguientes arcos\u001b[0m [[1, 4, 16], [2, 4, 37], [4, 5, 48], [3, 4, 52]] .\n",
            "\u001b[32m///----------------------------------------///-----------------------------------------///\u001b[0m\n",
            "\u001b[34mSe tiene los arcos en el nuevo árbol:\u001b[0m [[1, 4, 16], [2, 4, 37], [4, 5, 48], [3, 4, 52]]\n",
            "\u001b[34mSe comprueba si al agregar el arco\u001b[0m \u001b[32m[\u001b[0m 1 5 \u001b[34mpeso =\u001b[0m 72 \u001b[32m]\u001b[0m \u001b[34mse genera ciclo en el nuevo árbol.\u001b[0m\n",
            "\u001b[32m    Si agregamos el arco\u001b[0m \u001b[32m[\u001b[0m 1 5 \u001b[34mpeso = \u001b[0m 72 \u001b[32m]\u001b[0m \u001b[34mel nuevo árbol tendra ciclo, entonces descartamos el arco sin agregarlo al nuevo árbol.\u001b[0m\n",
            "\u001b[32m///----------------------------------------///-----------------------------------------///\u001b[0m\n",
            "\u001b[34mSe tiene los arcos en el nuevo árbol:\u001b[0m [[1, 4, 16], [2, 4, 37], [4, 5, 48], [3, 4, 52]]\n",
            "\u001b[34mSe comprueba si al agregar el arco\u001b[0m \u001b[32m[\u001b[0m 0 4 \u001b[34mpeso =\u001b[0m 97 \u001b[32m]\u001b[0m \u001b[34mse genera ciclo en el nuevo árbol.\u001b[0m\n",
            "\u001b[32m    El arco [\u001b[0m 0 4 \u001b[32mpeso =\u001b[0m 97 \u001b[32m[\u001b[0m \u001b[32mno generara ciclos en el nuevo árbol. Se agrega al árbol.\u001b[0m\n",
            "\u001b[34m    El nuevo árbol ahora tiene los siguientes arcos\u001b[0m [[1, 4, 16], [2, 4, 37], [4, 5, 48], [3, 4, 52], [0, 4, 97]] .\n",
            "\u001b[34m    Con el nuevo arco agregado, el árbol tiene\u001b[0m 4 \u001b[32marcos para\u001b[0m 6 \u001b[34mnodos \n",
            "\u001b[0m\n",
            "\u001b[34m    No puede tener más nodos, entonces el nuevo árbol esta completo.\u001b[0m\n",
            "\u001b[32m///----------------------------------------///-----------------------------------------///\u001b[0m\n",
            "\u001b[32m\n",
            "*****************************************************************************************************************\u001b[0m\n",
            "\u001b[34mArcos en el árbol de minimo costo construido:\n",
            "\u001b[0m\n",
            "\u001b[32m///----------------------------------------///-----------------------------------------///\u001b[0m\n",
            "     \u001b[33mNodo\u001b[0m -- \u001b[33mNodo\u001b[0m | \u001b[33mPeso\u001b[0m\n",
            "        1 --    4 |   16\n",
            "        2 --    4 |   37\n",
            "        4 --    5 |   48\n",
            "        3 --    4 |   52\n",
            "        0 --    4 |   97\n",
            "\u001b[32m///----------------------------------------///-----------------------------------------///\u001b[0m\n",
            "\u001b[34m\n",
            "- El costo total del nuevo árbol es de: \u001b[0m 250\n"
          ]
        }
      ]
    },
    {
      "cell_type": "markdown",
      "source": [
        "## **Visualize = True**"
      ],
      "metadata": {
        "id": "wzSXj1GZvZyB"
      }
    },
    {
      "cell_type": "code",
      "source": [
        "# Driver's code\n",
        "if __name__ == '__main__':\n",
        "    # Function call\n",
        "    tree = grafo.KruskalMST(False,True)"
      ],
      "metadata": {
        "colab": {
          "base_uri": "https://localhost:8080/",
          "height": 265
        },
        "id": "lcIDpHO8vd4M",
        "outputId": "50638309-2f74-4490-c250-68e5b17b4b24"
      },
      "execution_count": 107,
      "outputs": [
        {
          "output_type": "stream",
          "name": "stdout",
          "text": [
            "Mostrar árbol de costo minimo\n"
          ]
        },
        {
          "output_type": "display_data",
          "data": {
            "text/plain": [
              "<Figure size 432x288 with 1 Axes>"
            ],
            "image/png": "[encoded data removed]"
          },
          "metadata": {}
        }
      ]
    },
    {
      "cell_type": "markdown",
      "source": [
        "# 3. **Tiempo de ejecución**\n",
        "\n",
        "A continuación se busca profundizar en los tiempos de ejecución referentes a **Kruskal’s Minimum Spanning Tree** aproximación greedy"
      ],
      "metadata": {
        "id": "oy8VSm9ZAwj4"
      }
    },
    {
      "cell_type": "markdown",
      "source": [
        "###*Teorema (Complejidad Temporal).*\n",
        "\n",
        "\n",
        "*El algoritmo `Kruskal's: Minimum Spanning Tree` implementado a traves de **Greedy** tiene un **tiempo de ejecución** de $O(E * Log(V))$ o $O(E * log(E))$.*"
      ],
      "metadata": {
        "id": "hEKZardrA_Md"
      }
    },
    {
      "cell_type": "markdown",
      "source": [
        "###*Prueba del teorema.*\n",
        "\n",
        "Para la resolución de este problema hay que tener ordenados los arcos de menor a mayor por su peso. Tenemos E arcos que ordenar, se utiliza sorted para ordenarlos, Complejidad temporal de la operación $\\rightarrow O(E * log(E))$.\n",
        "\n",
        "Se revisan y posiblemente agregan arcos al árbol siempre que la cantidad de arcos en el árbol de costo mínimo $e$ no sea igual a $V-1$. Esto se hace con **Union-Find** que toma como máximo $O(log(V))$ realizadas para los $E$ arcos del grafo de entrada. Complejidad temporal de la operación $\\rightarrow O(E * log(V))$.\n",
        "\n",
        "Al final podemos decir que la complejidad total de Kruskal es $O(E * log(E)) + O(E * log(V)) $⇒ $O(E * log(E) + E * log(V)) = O(E * (log(E) + log(V)))$.\n",
        "\n",
        "* $V =$ es la cantidad de nodos que tiene el grafo de entrada.\n",
        "* $E =$ es la cantidad de arcos que tiene el grafo de entrada. $V-1 \\leq E < 2V$\n",
        "\n",
        "Podemos decir que en tiempos de ejecución $O(E) = O(V)$, por ende $O(log(E)) = O(log(V))$.\n",
        "\n",
        "Por eso $E * (log(E) + log(V))) = E * (2 * log(E)) \\rightarrow  O(E * log(E)) = E * (2 * log(V)) \\rightarrow  O(E * log(V)) $.\n",
        "\n",
        "Como la $O(E * log(V)) = O(E * log(E))$ podemos decir que cualquiera de los dos es la complejidad de Kruskal.\n",
        "\n",
        "Pero, aunque se pueden igualar $O(E * log(V)) = O(E * log(E))$, para mayor precisión se recomienda usar $O(E * log(V))$, porque $E=V$ no siempre es aplicable, ya que la cantidad de nodos y aristas puede ser muy diferente.\n",
        "\n",
        "Por supuesto, en los casos donde es recomendable usar Kruskal, $E$ tiende a $V$, asi que comúnmente se toman como correcta ambas\n",
        "\n",
        "Por ende, la complejidad del método es la complejidad del bucle, es decir, el método **Greedy** para este problema tiene complejidad $O(E * log(V))$ o $O(E * log(E))$.\n"
      ],
      "metadata": {
        "id": "ONhLhM4DBOky"
      }
    },
    {
      "cell_type": "markdown",
      "source": [
        "# 4. **Correctitud**\n",
        "\n",
        "Del **Kruskal’s Minimum Spanning Tree** aproximación greedy"
      ],
      "metadata": {
        "id": "Zxfc02WJ_1Jt"
      }
    },
    {
      "cell_type": "markdown",
      "source": [
        "\n",
        "### **Teorema (Correctitud).**\n",
        "\n",
        "\n",
        "\n"
      ],
      "metadata": {
        "id": "gm73aJ24_iIm"
      }
    },
    {
      "cell_type": "markdown",
      "source": [
        "El algoritmo entrega un árbol de costo mínimo que conecta todos los nodos conectados por arcos con distintos pesos sin formar ciclos, estos nodos y arcos son entregados en forma de Grafo no dirigido (dicho grafo puede tener ciclos).\n",
        "\n",
        "Finalmente, como la **propiedad de bucle invariante** es verdadera al inicio del bucle y se mantiene en cada iteración, podemos decir que al finalizar la $i$-ésima iteración del bucle donde $e = V-1$, se tendra un árbol con $V$ nodos conectados sin formar ningun ciclo.\n"
      ],
      "metadata": {
        "id": "bTPlj3CeBIrm"
      }
    },
    {
      "cell_type": "markdown",
      "source": [
        "#### **Prueba del Teorema**\n",
        "\n",
        "Probaremos la siguiente **propiedad invariante de bucle** para el algoritmo `Kruskal's: Minimum Spanning Tree`:\n",
        "\n",
        "> Al comienzo de cada iteración $i$ del bucle, tendremos un árbol con $e$ arcos sin que se formen ciclos ni que la cantidad de arcos iguale o supere la cantidad de nodos que deber tener el árbol.\n",
        "\n",
        "Se busca que el nuevo árbol tenga $V$ nodos (igual que el grafo de entrada) y $V-1=e$ arcos.\n",
        "\n",
        "$i$ es el arco que se revisa.\n",
        "\n",
        "El **Kruskal** usado aplica el algoritmo **Union-Find**, un algoritmo correcto que nos permite saber si se forma ciclo en un grafo."
      ],
      "metadata": {
        "id": "G4d8Gggn_xHu"
      }
    },
    {
      "cell_type": "markdown",
      "source": [
        "#### **Inicialización**\n",
        "\n",
        "En la primera iteración $i=1$, tendremos un árbol vacío y revisaremos el arco $i$, que tiene el menor peso, se usa **Union-Find** para saber si agregar el arco provoca ciclos. Es imposible que se forme un ciclo con menos de 3 arcos, como el árbol esta vacío, agregar un arco no formara un ciclo y se agrega al árbol."
      ],
      "metadata": {
        "id": "_Q8t--SbAOOf"
      }
    },
    {
      "cell_type": "markdown",
      "source": [
        "#### **Mantención**\n",
        "\n",
        "Aplicando inducción, asumimos que, al comienzo de cada iteración, se cumple la propiedad. Es decir, en la iteración donde probamos agregar el arco $i$ al árbol, tenemos un árbol con los arcos $e = 1...i-1$ que no forman ciclos agregados, siendo los agregados $V-1$ siendo $V$ los nodos que buscamos agregar en el árbol.\n",
        "\n",
        "Consideremos que $i=x$ como el arco que buscamos agregar con $1 < x < V$.\n",
        "\n",
        "Se revisa el arco $x$, si ambos nodos del arco pertenecen al mismo sub-conjunto en el grafo entonces forman ciclo y no se agregarán al nuevo árbol de costo mínimo, en caso contrario se agregan al nuevo árbol. Esto se comprueba calculando el subconjunto al que pertenece cada nodo con **Find** del algoritmo **Union-Find**.\n",
        "\n",
        "**Find** nos da un nombre para el subconjunto al que pertenece un nodo usando una lista con todos los nodos, se usa en ambos nodos del arco, si están presentes en el mismo subconjunto entonces forman un ciclo. La lista de nodos debe crearse desde los arcos **ya ordenados por peso**.\n",
        "\n",
        "Cada vez que se agregue al nuevo árbol un arco que no genere ciclo, se revisa si la cantidad de arcos $e$ es igual a nodos $V$ menos 1, si $e = V-1$, entonces tenemos el árbol de costo mínimo porque no podemos agregar nodos más sin que se forme algún ciclo en el árbol.\n",
        "\n",
        "Al finalizar la iteración $i=x$ (y al comienzo de la siguiente $i=x+1$), se seguirá cumpliendo la **propiedad invariante**."
      ],
      "metadata": {
        "id": "SNBT_KvEAabo"
      }
    },
    {
      "cell_type": "markdown",
      "source": [
        "#### **Correctitud**\n",
        "\n",
        "Finalmente, como la **propiedad de bucle invariante** es verdadera al inicio del bucle y se mantiene en cada iteración, podemos decir que al finalizar la $i$-ésima iteración del bucle donde $e = V-1$, se tendra un árbol con $V$ nodos conectados sin formar ningun ciclo."
      ],
      "metadata": {
        "id": "rJyCpJryAgCg"
      }
    },
    {
      "cell_type": "markdown",
      "source": [
        "# 5. **Experiementos**\n",
        "\n",
        "**A continuación se realizarán experimentos los cuales incluyen investigar:**\n",
        "\n",
        "* Observar lo que ocurre con el tiempo del algoritmo a medida que aumenta la  cantidad de nodos del grafo.\n",
        "* Comparar el algoritmo de Prim con el algoritmo de Kruskal"
      ],
      "metadata": {
        "id": "gbVMMtv2YNri"
      }
    },
    {
      "cell_type": "markdown",
      "source": [
        "## 5.1 **Observar lo que ocurre con el tiempo del algoritmo a medida que aumenta la cantidad de nodos del grafo.**"
      ],
      "metadata": {
        "id": "g1yTI9hea40Q"
      }
    },
    {
      "cell_type": "code",
      "source": [
        "import matplotlib.pyplot as plt\n",
        "import datetime\n",
        "from timeit import repeat\n",
        "\n",
        "x=[]; y=[]\n",
        "\n",
        "for n in range(5,300):\n",
        "    grafo = generadorDeInstancias(n)\n",
        "\n",
        "    #la función repeat está ejecutando 10 veces Kruskal con el grafo de n nodos y retorna el mejor tiepo obtenido.\n",
        "    t = repeat(setup=\"from __main__ import Graph\", stmt=f\"{grafo.KruskalMST()}\", repeat=1, number=10)\n",
        "\n",
        "    x.append(n)\n",
        "    y.append(t)\n",
        "\n",
        "\n",
        "plt.plot(x,y)\n",
        "plt.legend([\"Greedy\"])\n",
        "\n",
        "plt.xlabel('Cantidad de nodos')\n",
        "plt.ylabel('Tiempo en ms')\n",
        "plt.show()"
      ],
      "metadata": {
        "colab": {
          "base_uri": "https://localhost:8080/",
          "height": 279
        },
        "id": "nx839qZZaIJL",
        "outputId": "117b1af8-0775-4f7c-89ac-6b08d8044f58"
      },
      "execution_count": null,
      "outputs": [
        {
          "output_type": "display_data",
          "data": {
            "text/plain": [
              "<Figure size 432x288 with 1 Axes>"
            ],
            "image/png": "[encoded data removed]"
          },
          "metadata": {
            "needs_background": "light"
          }
        }
      ]
    },
    {
      "cell_type": "markdown",
      "source": [
        "## **Análisis de resultados**\n",
        "\n",
        "Es evidente que la aproximación **Greedy** tiende a ser sustancialmente eficiente. \n",
        "\n",
        "En todos los casos tan demora una milésima parte de un segundo en conseguir la respuesta aún así el grafo tenga 300 nodos, aún así podemos ver un crecimiento  en sus tiempos de ejecución, y conforme el tamaño del problema aumenta, también lo hacen los montes, esto es esperable ya que, debido a los ínfimos tiempos que maneja el algoritmo, cualquier inestabilidad en el sistema puede comprometer también la eficiencia de la ejecución del algoritmo de manera notoria.\n",
        "\n",
        "---\n",
        "---"
      ],
      "metadata": {
        "id": "dtbu_BY--bZi"
      }
    },
    {
      "cell_type": "code",
      "source": [
        "import sys  # Library for INT_MAX\n",
        " \n",
        " \n",
        "class Graph2():\n",
        "    def __init__(self, vertices):\n",
        "        self.V = vertices\n",
        "        self.graph = [[0 for column in range(vertices)]\n",
        "                      for row in range(vertices)]\n",
        " \n",
        "    # A utility function to print the constructed MST stored in parent[]\n",
        "    def printMST(self, parent):\n",
        "        print(\"Edge \\tWeight\")\n",
        "        for i in range(1, self.V):\n",
        "            print(parent[i], \"-\", i, \"\\t\", self.graph[i][parent[i]])\n",
        "\n",
        "    def MST(self, parent):\n",
        "        r = []\n",
        "        for i in range(1, self.V):\n",
        "            r.append([parent[i], i, self.graph[i][parent[i]]])\n",
        "        return r\n",
        " \n",
        "    # A utility function to find the vertex with\n",
        "    # minimum distance value, from the set of vertices\n",
        "    # not yet included in shortest path tree\n",
        "    def minKey(self, key, mstSet):\n",
        "        # Initialize min value\n",
        "        min = sys.maxsize\n",
        "        min_index = -1\n",
        " \n",
        "        for v in range(self.V):\n",
        "            if key[v] < min and mstSet[v] == False:\n",
        "                min = key[v]\n",
        "                min_index = v\n",
        " \n",
        "        return min_index\n",
        " \n",
        "    # Function to construct and print MST for a graph\n",
        "    # represented using adjacency matrix representation\n",
        "    def primMST(self):\n",
        " \n",
        "        # Key values used to pick minimum weight edge in cut\n",
        "        key = [sys.maxsize] * self.V\n",
        "        parent = [None] * self.V  # Array to store constructed MST\n",
        "        # Make key 0 so that this vertex is picked as first vertex\n",
        "        key[0] = 0\n",
        "        mstSet = [False] * self.V\n",
        " \n",
        "        parent[0] = -1  # First node is always the root of\n",
        " \n",
        "        for cout in range(self.V):\n",
        " \n",
        "            # Pick the minimum distance vertex from\n",
        "            # the set of vertices not yet processed.\n",
        "            # u is always equal to src in first iteration\n",
        "            u = self.minKey(key, mstSet)\n",
        " \n",
        "            # Put the minimum distance vertex in\n",
        "            # the shortest path tree\n",
        "            mstSet[u] = True\n",
        " \n",
        "            # Update dist value of the adjacent vertices\n",
        "            # of the picked vertex only if the current\n",
        "            # distance is greater than new distance and\n",
        "            # the vertex in not in the shortest path tree\n",
        "            for v in range(self.V):\n",
        " \n",
        "                # graph[u][v] is non zero only for adjacent vertices of m\n",
        "                # mstSet[v] is false for vertices not yet included in MST\n",
        "                # Update the key only if graph[u][v] is smaller than key[v]\n",
        "                if self.graph[u][v] > 0 and mstSet[v] == False and key[v] > self.graph[u][v]:\n",
        "                    key[v] = self.graph[u][v]\n",
        "                    parent[v] = u\n",
        "        \n",
        "        return self.MST(parent)\n",
        "\n",
        "def graphToGraph2(G, n):\n",
        "    g = Graph2(n)\n",
        "\n",
        "    for u,v,w in G.graph:\n",
        "        g.graph[u-1][v-1] = w\n",
        "        g.graph[v-1][u-1] = w\n",
        "\n",
        "    return g\n",
        "\n",
        "# Driver's code\n",
        "if __name__ == '__main__':\n",
        "    g = generadorDeInstancias(4)\n",
        "    gr = graphToGraph2(g,4)\n",
        " \n",
        "    arbol = gr.primMST()\n",
        "    print(arbol)"
      ],
      "metadata": {
        "colab": {
          "base_uri": "https://localhost:8080/"
        },
        "id": "Ey-Hd2EhaM2i",
        "outputId": "866b8a38-3321-4c45-99f4-aaf35fa4ac86"
      },
      "execution_count": null,
      "outputs": [
        {
          "output_type": "stream",
          "name": "stdout",
          "text": [
            "[[0, 1, 49], [0, 2, 26], [2, 3, 18]]\n"
          ]
        }
      ]
    },
    {
      "cell_type": "code",
      "source": [
        "import matplotlib.pyplot as plt\n",
        "import datetime\n",
        "from timeit import repeat\n",
        "\n",
        "x=[]; y=[]; y1=[]\n",
        "\n",
        "for n in range(5,150):\n",
        "    grafo = generadorDeInstancias(n)\n",
        "    grafo2 = graphToGraph2(grafo,n)\n",
        "\n",
        "    #la función repeat está ejecutando 10 veces Kruskal con el grafo de n nodos y retorna el mejor tiepo obtenido.\n",
        "    t = repeat(setup=\"from __main__ import Graph\", stmt=f\"{grafo.KruskalMST()}\", repeat=1, number=10)\n",
        "    t1 = repeat(setup=\"from __main__ import Graph2\", stmt=f\"{grafo2.primMST()}\", repeat=1, number=10)\n",
        "\n",
        "    x.append(n)\n",
        "    y.append(t)\n",
        "    y1.append(t1)\n",
        "\n",
        "\n",
        "plt.plot(x,y)\n",
        "plt.plot(x,y1)\n",
        "plt.legend([\"Kruskal\", \"Prim\"])\n",
        "\n",
        "plt.xlabel('Cantidad de nodos')\n",
        "plt.ylabel('Tiempo en ms')\n",
        "plt.show()"
      ],
      "metadata": {
        "colab": {
          "base_uri": "https://localhost:8080/",
          "height": 279
        },
        "id": "6DE1plSH-Gmg",
        "outputId": "551ca890-aae5-480a-b764-e8b5a71447f3"
      },
      "execution_count": null,
      "outputs": [
        {
          "output_type": "display_data",
          "data": {
            "text/plain": [
              "<Figure size 432x288 with 1 Axes>"
            ],
            "image/png": "[encoded data removed]"
          },
          "metadata": {
            "needs_background": "light"
          }
        }
      ]
    },
    {
      "cell_type": "markdown",
      "source": [
        "Los tiempos de ejecucuón de ambos algoritmos no varían en gran medida uno de otro. Por lo que es necesario un análisis más profundo para idenfitificar la cuasa.\n",
        "\n",
        "En primera instancia se puede decir que prim es objetivamente más lento que su homólogo, esto a causa de que su tiempo de ejecución corresponde a $O(V2)$ y por contraparte el de kruskal es $O(E∗log(V))$.\n",
        "\n",
        "Una de las principales causas es el propio crecimiento de kurskal que es excesivo igualando de igual manera a prim. Por ende "
      ],
      "metadata": {
        "id": "z3v5TuxBNJY9"
      }
    }
  ]
}