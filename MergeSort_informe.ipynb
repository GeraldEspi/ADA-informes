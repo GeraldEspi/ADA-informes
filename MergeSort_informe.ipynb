{
  "nbformat": 4,
  "nbformat_minor": 0,
  "metadata": {
    "colab": {
      "name": "MergeSort informe",
      "provenance": [],
      "collapsed_sections": [],
      "authorship_tag": "ABX9TyPnf2HKgJIwYPr5z46542/d",
      "include_colab_link": true
    },
    "kernelspec": {
      "name": "python3",
      "display_name": "Python 3"
    },
    "language_info": {
      "name": "python"
    }
  },
  "cells": [
    {
      "cell_type": "markdown",
      "metadata": {
        "id": "view-in-github",
        "colab_type": "text"
      },
      "source": [
        "<a href=\"https://colab.research.google.com/github/GeraldEspi/ADA-informes/blob/main/MergeSort_informe.ipynb\" target=\"_parent\"><img src=\"https://colab.research.google.com/assets/colab-badge.svg\" alt=\"Open In Colab\"/></a>"
      ]
    },
    {
      "cell_type": "markdown",
      "source": [
        "# 1.- Problema de ordenamiento\n",
        "\n",
        "Los problemas de ordenamiento en la computación son un problema que a persistido desde los inicios de la informática, tener un registro de distintos datos ordenados respecto a ciertos paramétros cuantificables permite resolver, como efecto secundario, otra variedad de problemas que solicitan que ciertos datos posean una organización específica, ya sea para una búsqueda más sencilla por mano de un operador o en su defecto, para una lectura más eficiente desde otra función u programa que solicite dichos datos. \n",
        "\n",
        "![image](https://mikebuss.com/assets/images/posts/merge-sort/MergeSort.png)\n",
        "> **Ejemplo de ordenamiento:**\n",
        "\n",
        "   **Entrada**: Secuencia de n números $[a_1,a_2,...,a_n]$\n",
        "\n",
        "**Salida**: Permutación ordenada de la secuencia de entrada: $[a_1',a_2',...,a_n']$, de tal manera que $a_1'\\leq a_2' \\leq... \\leq a_n'$.\n",
        "\n",
        "\n"
      ],
      "metadata": {
        "id": "UcieaCvjDpnr"
      }
    },
    {
      "cell_type": "markdown",
      "source": [
        "# 2.- MergeSort\n",
        "\n",
        "A continuación se muestra la implementación de MergeSort"
      ],
      "metadata": {
        "id": "_tio6OvKw5Ca"
      }
    },
    {
      "cell_type": "markdown",
      "source": [
        "# 2.1. Código\n"
      ],
      "metadata": {
        "id": "XkRPr-25xH31"
      }
    },
    {
      "cell_type": "code",
      "source": [
        "import random\n",
        "\n",
        "comp = 0\n",
        "\n",
        "def Merge(array, izquierda, medio, derecha):\n",
        "    # Sub arreglos ordenados que se deben juntar\n",
        "    subArreglo1 = array[izquierda:medio + 1]\n",
        "    subArreglo2 = array[medio+1:derecha+1]\n",
        "    global comp\n",
        "\n",
        "    i = 0 # Indice para sub Arreglo 1\n",
        "    j = 0 # Indice para sub Arreglo 2\n",
        "    k = izquierda # Indice del arreglo ordenado donde se unieron los sub arreglos\n",
        "\n",
        "    # Juntar hasta que uno de los sub arreglos se haya trasladado completamente al arreglo unido\n",
        "    while i < len(subArreglo1) and j < len(subArreglo2):\n",
        "        if subArreglo1[i] <= subArreglo2[j]:\n",
        "            array[k] = subArreglo1[i]\n",
        "            i += 1\n",
        "        else:\n",
        "            array[k] = subArreglo2[j]\n",
        "            j += 1\n",
        "        comp += 1\n",
        "        k += 1\n",
        "       \n",
        "\n",
        "    while i < len(subArreglo1):\n",
        "        array[k] = subArreglo1[i]\n",
        "        i += 1\n",
        "        comp += 1\n",
        "        k += 1\n",
        "    while j < len(subArreglo2):\n",
        "        array[k] = subArreglo2[j]\n",
        "        j += 1\n",
        "        comp += 1\n",
        "        k += 1\n",
        "\n",
        "def MergeSort(arreglo, izq, der):\n",
        "   if izq==der: return #la secuencia tiene sólo un elemento\n",
        "   med = int((izq + der)/2) #elemento medio del arreglo\n",
        "   MergeSort(arreglo,izq,med) #ordena la parte izquierda del arreglo\n",
        "   MergeSort(arreglo,med+1,der) #ordena la parte derecha del arreglo\n",
        "   Merge(arreglo,izq,med,der) #combina y ordena ambos subarreglos ordenados\n",
        "  \n",
        "   \n",
        "   \n",
        "\n",
        "# Ejemplo\n",
        "myList = [89,9,6,8,1,576,23,5,7]\n",
        "print(\"Input =\", myList)\n",
        "MergeSort(myList, 0, len(myList))\n",
        "print(f\"Sorted output = {myList}\")\n",
        "print(f\"Comparaciones realizadas = {comp}\")"
      ],
      "metadata": {
        "colab": {
          "base_uri": "https://localhost:8080/"
        },
        "id": "Vj0xD7Eadq2c",
        "outputId": "0dfa761e-8628-48a6-a49c-4733149ed649"
      },
      "execution_count": null,
      "outputs": [
        {
          "output_type": "stream",
          "name": "stdout",
          "text": [
            "Input = [89, 9, 6, 8, 1, 576, 23, 5, 7]\n",
            "Sorted output = [1, 5, 6, 7, 8, 9, 23, 89, 576]\n",
            "Comparaciones realizadas = 31\n"
          ]
        }
      ]
    },
    {
      "cell_type": "code",
      "source": [
        "import random\n",
        "from termcolor import colored\n",
        "\n",
        "comp = 0\n",
        "cont = 0\n",
        "\n",
        "def Merge(array, izquierda, medio, derecha, verbose):\n",
        "    # Sub arreglos ordenados que se deben juntar\n",
        "    subArreglo1 = array[izquierda:medio + 1]\n",
        "    subArreglo2 = array[medio+1:derecha+1]\n",
        "    global comp\n",
        "\n",
        "    i = 0 \n",
        "    j = 0 \n",
        "    k = izquierda \n",
        "\n",
        "    # Juntar hasta que uno de los sub arreglos se haya trasladado completamente al arreglo unido\n",
        "    if((subArreglo2 != []) & (verbose == True)):\n",
        "      print(colored(\"Se compara :\", \"green\"), subArreglo1, subArreglo2,\"\\n\")\n",
        "  \n",
        "    while i < len(subArreglo1) and j < len(subArreglo2):\n",
        "        \n",
        "        if subArreglo1[i] <= subArreglo2[j]:\n",
        "            \n",
        "            array[k] = subArreglo1[i]\n",
        "            i += 1\n",
        "        else:\n",
        "           \n",
        "            array[k] = subArreglo2[j]\n",
        "            j += 1\n",
        "        comp += 1\n",
        "        k += 1\n",
        "       \n",
        "    while i < len(subArreglo1):\n",
        "        array[k] = subArreglo1[i]\n",
        "        i += 1\n",
        "        comp += 1\n",
        "        k += 1\n",
        "    while j < len(subArreglo2):\n",
        "        \n",
        "        array[k] = subArreglo2[j]\n",
        "        j += 1\n",
        "        comp += 1\n",
        "        k += 1\n",
        "    \n",
        "def MergeSort(arreglo, izq, der, verbose):\n",
        "   global cont\n",
        "   if(cont == 0 | verbose == True):\n",
        "      print(colored(\"Se divide el arreglo a Subarreglos de largo uno\",\"green\"),\":\\n\")\n",
        "      for i in range(0,len(myList)):\n",
        "        print(\"[\",myList[i],\"]\",end = \"\")\n",
        "      print(\"\\n\")\n",
        "      print(colored(\"Se busca ordenar de menor a mayor\",\"green\"),\":\\n\")\n",
        "   cont += 1\n",
        "   if izq==der: return #la secuencia tiene sólo un elemento\n",
        "   med = int((izq + der)/2) #elemento medio del arreglo\n",
        "   MergeSort(arreglo,izq,med, verbose) #ordena la parte izquierda del arreglo\n",
        "   MergeSort(arreglo,med+1,der, verbose) #ordena la parte derecha del arreglo\n",
        "   Merge(arreglo,izq,med,der, verbose) #combina y ordena ambos subarreglos ordenados\n",
        "  \n",
        "   \n",
        "   \n",
        "\n",
        "# Ejemplo\n",
        "myList = [67,45,34,23,9,53]\n",
        "\n",
        "print(\"Input =\", myList,\"\\n\")\n",
        "MergeSort(myList, 0, len(myList), verbose = False)\n",
        "print(f\"Sorted output = {myList}\\n\")\n",
        "print(f\"Comparaciones realizadas = {comp}\")"
      ],
      "metadata": {
        "colab": {
          "base_uri": "https://localhost:8080/"
        },
        "id": "bL1Lurcpq1qw",
        "outputId": "82ff1f7b-1e6f-467d-d48a-1828938709f6"
      },
      "execution_count": 169,
      "outputs": [
        {
          "output_type": "stream",
          "name": "stdout",
          "text": [
            "Input = [67, 45, 34, 23, 9, 53] \n",
            "\n",
            "Sorted output = [9, 23, 34, 45, 53, 67]\n",
            "\n",
            "Comparaciones realizadas = 18\n"
          ]
        }
      ]
    },
    {
      "cell_type": "markdown",
      "source": [
        "## 2.2. Descripción del algoritmo\n",
        "La función MergeSort divide repetidamente el arreglo entregado de tamaño $N$ en dos mitades hasta que que se alcance una instancia en la que se se intenta aplicar MergeSort en un subarreglo de tamaño 1. \n",
        "\n",
        "Luego, la función merge se acciona y combina los arreglos ya ordenados en un arreglo de tamaño igual al original hasta que toda la lista se encuentre en un estado *merged* (combinado) y organizado de la menera deseada.\n",
        "\n",
        "> Explicación código paso a paso:\n",
        "\n",
        "1.- Se ingresa a `MergeSort`, donde se establece mediante `med = int((izq + der)/2)` el punto medio del arreglo para así delimitar las dos partes que componen las mitades del arreglo, luego, mediante `MergeSort`, se llama recursivamente a la función para ordenar la parte izquierda en primer lugar, una vez completado, se procede con la derecha, luego se ingresa a `Merge`, función que combina las dos mitades **ya ordenadas**.\n",
        "\n",
        "2.- en `while i < len(left) and j < len(right)` se mantiene el bucle hasta que se llegue a cualquiera de los extremos, ya sea el derecho o izquierdo y se elije entre el mayor tamaño y se colocan en la posición correcta del arreglo.\n",
        "\n",
        "3.- en `while i < len(left)` y `while j < len(right)` se utilizan cuando el algoritmo se queda sin elementos ni en la izquierda ni derecha. Toman los elementos restantes y los coloca en el arreglo.\n",
        "\n"
      ],
      "metadata": {
        "id": "-5qIvAI-m0xR"
      }
    },
    {
      "cell_type": "markdown",
      "source": [
        "# 2.3. Ejemplo\n",
        "\n",
        "Input = $[4,3,7,2]$\n",
        "\n",
        "Se requiere ordenar $[N_1, N_2,N_3,N_4]$.\n",
        "\n",
        "De manera que $N_1 \\leq N_2 \\leq N_3 \\leq N_4$.\n",
        "\n",
        "**De menor a mayor**.\n",
        "\n",
        "Procedimiento:\n",
        "\n",
        "$a =[4,3][7,3]$\n",
        "\n",
        ">Se divide el arreglo en 2 partes generando un par de subarreglos.\n",
        "\n",
        "$a = [4][3][7][3]$\n",
        "\n",
        ">Se realizan divisiones en dos unidades hasta que el tamaño de cada subarreglo corresponda a uno. Ahora, es necesario volver al estado original del arreglo, se comienza a combinar. \n",
        "\n",
        "$a = [3,4][2,7]$\n",
        "\n",
        ">3 es menor que 4, y 2 es menor que 7 por lo que una vez se combinan en un subarreglo de 2 dimensiones, cada dato se coloca en la posición correspondiente según su tamaño.\n",
        "\n",
        "$a = [2,3,4,7]$\n",
        "\n",
        ">Fianlmente el arreglo se unficia se manera que el largo es igual al del arreglo original.\n",
        "\n",
        "\n",
        "\n",
        "\n"
      ],
      "metadata": {
        "id": "066xM0vq-TDf"
      }
    },
    {
      "cell_type": "code",
      "source": [
        "import random\n",
        "from termcolor import colored\n",
        "\n",
        "comp = 0\n",
        "cont = 0\n",
        "myList = [5,6,23,6,2]\n",
        "print(\"Input =\", myList,\"\\n\")\n",
        "MergeSort(myList, 0, len(myList), verbose = True)\n",
        "print(f\"Sorted output = {myList}\\n\")\n",
        "print(f\"Comparaciones realizadas = {comp}\")"
      ],
      "metadata": {
        "colab": {
          "base_uri": "https://localhost:8080/"
        },
        "id": "KRbTAoArLmGk",
        "outputId": "a5180c08-a6c0-47c2-9657-b510af86d834"
      },
      "execution_count": 171,
      "outputs": [
        {
          "output_type": "stream",
          "name": "stdout",
          "text": [
            "Input = [5, 6, 23, 6, 2] \n",
            "\n",
            "\u001b[32mSe divide el arreglo a Subarreglos de largo uno\u001b[0m :\n",
            "\n",
            "[ 5 ][ 6 ][ 23 ][ 6 ][ 2 ]\n",
            "\n",
            "\u001b[32mSe busca ordenar de menor a mayor\u001b[0m :\n",
            "\n",
            "\u001b[32mSe compara :\u001b[0m [5] [6] \n",
            "\n",
            "\u001b[32mSe compara :\u001b[0m [5, 6] [23] \n",
            "\n",
            "\u001b[32mSe compara :\u001b[0m [6] [2] \n",
            "\n",
            "\u001b[32mSe compara :\u001b[0m [5, 6, 23] [2, 6] \n",
            "\n",
            "Sorted output = [2, 5, 6, 6, 23]\n",
            "\n",
            "Comparaciones realizadas = 14\n"
          ]
        }
      ]
    },
    {
      "cell_type": "markdown",
      "source": [
        "# 3. tiempo de ejecución\n",
        "\n",
        "### **Teorema (Tiempo de ejecución).**\n",
        "\n",
        "El tiempo de ejecución en el peor caso del algoritmo **MergeSort** es de $O(n \\log n)$, este tiempo es a su vez es el mismo del caso promedio y mejor caso.\n",
        "\n",
        "## Prueba del teorema\n",
        "\n",
        "La función `Merge` es lineal, por lo que su complejidad corresponde a $O(n)$, la función `MergeSort` es logarítmica, posee complejidad de $\\log n$ que corresponde al máximo de divisiones posibles en un arreglo de $n$ elementos. No posee un peor ni mejor caso debido a que igualmente hará todo el proceso de división y unión sin importar el arreglo de entrada."
      ],
      "metadata": {
        "id": "BELoEvfk38f8"
      }
    },
    {
      "cell_type": "markdown",
      "source": [
        "# 4. Correctitud\n",
        "\n"
      ],
      "metadata": {
        "id": "WccJ1OHyqmtW"
      }
    },
    {
      "cell_type": "markdown",
      "source": [
        "# 4.1. Teoerema 1 (Correctitud función Merge)\n",
        "\n",
        "La función `Merge` conforma una sección del algoritmo MergeSort que se encarga de unir las dos partes ya ordenadas previamente separadas.\n",
        "\n",
        "El algoritmo `Merge` genera un arreglo: $[a_1',a_2',a_3']$, con los mismos elementos de los subarreglos de entrada ordenados desde el dato de menor hasta el de mayor valor, es decir, $a_1'\\leq a_2' \\leq a_3'$.\n",
        "\n",
        "# 4.2. Teorema 2 (correctitud MergeSort)\n",
        "\n",
        "El algoritmo `MergeSort` genera un arreglo: $[a_1',a_2',a_3']$, con los mismos elementos del arreglo de entrada ordenados de menor a mayor, es decir, $a_1'\\leq a_2' \\leq a_3'$.\n",
        "\n",
        "## Prueba del teorema\n",
        "\n",
        ">Para la prueba del toerema se usará inducción matemática, por la propia naturaleza recursiva del algoritmo.\n",
        "\n",
        "**Incialización**\n",
        "\n",
        "La **hipótesis $A(n)$** corresponde a que, cuando `MergeSort` recibe un arreglo de $n$ datos, este la retorna de manera que la secuencia se encuentre **ordenada** de menor a mayor.\n",
        "\n",
        "Se establece un caso donde $n$ = 1, cuando ingresa a `MergeSort` retorna el único elemento ingresado de manera exitosa, por lo que $A(1)$ se cumple\n",
        "\n",
        "**Mantención**\n",
        "\n",
        "Para el paso inductivo se debe probar que $A(m)$ es correcta para $m < n$, entonces también lo es para $A(n)$\n",
        "\n",
        "Para $n$ datos, el algoritimo divide en pares de subarreglos de tamaños: $m=\\lfloor \\frac{n}{2}\\rfloor$ y $m=\\lfloor \\frac{n}{2}\\rfloor$ y se ordenan de manera correcta usando `MergeSort` (*debido a la recursividad llegará un momento que se aplique `MergeSort` en el caso base, donde se retornará de manera correcta el arreglo*). Comprobando que el tamaño de los subarreglos es menor a $n$, a través del paso inductivo se asume que están ordenadas de manera correcta.\n",
        "\n",
        "**Correctitud**\n",
        "\n",
        "Luego de completado el proceso la función `Merge` se encarga de unir los dos subarreglos ya ordenados. El teorema 1 establece que `Merge` retorna un arreglo ya ordenado a partir de los mismos elementos de los 2 subarreglos ingresados. Por lo que tanto **`MergeSort`** es correcto.\n",
        "\n",
        "\n",
        "\n",
        "\n"
      ],
      "metadata": {
        "id": "uR_CBATjGdyp"
      }
    },
    {
      "cell_type": "markdown",
      "source": [
        "# 5. Experimentos\n",
        "\n",
        "A continuación se realizarán exprimentos los cuales incluyen investigar:\n",
        "\n",
        "* Cantidad de comparaciones que se realizan en el peor y mejor caso posible calculadas matemáticamente.\n",
        "* Comparación tiempos de ejecución InsertionSort vs MergeSort con entradas aleatorias\n",
        "\n",
        "\n",
        "Se utilizarán datos de tamaño $n \\in [5,99]$\n",
        "\n",
        "Los elementos de los arreglos generados estarán compuestos por números que van desde el 1 al 100."
      ],
      "metadata": {
        "id": "luEEWA8JajEV"
      }
    },
    {
      "cell_type": "markdown",
      "source": [
        "# 5.1. Número de comparaciones\n",
        "\n",
        "A continuación se hará un contraste entre el número de comparaciones que presenta el algoritimo MergeSort en el mejor y peor caso teórico a su vez comparándolo con su caso promedio."
      ],
      "metadata": {
        "id": "v1Rp_X8AOGq5"
      }
    },
    {
      "cell_type": "code",
      "source": [
        "import matplotlib.pyplot as plt\n",
        "import math\n",
        "import random\n",
        "\n",
        "x=[n for n in range(5,100)] \n",
        "y1=[n * math.log2(n) for n in range(5,100)] # worst case\n",
        "y2=[n * math.log2(n) for n in range(5,100)] # best case\n",
        "y=[]; \n",
        "\n",
        "for n in range(5,100):\n",
        "  comp = 0\n",
        "  a = random.sample(range(1, 100), n)\n",
        "  MergeSort(a, 0, len(a))\n",
        "  y.append(comp)\n",
        "\n",
        "plt.plot(x,y)\n",
        "plt.plot(x,y1)\n",
        "plt.plot(x,y2)\n",
        "plt.legend([\"Merge Sort\", \"theoretical worst case\", \"theoretical best case\"])\n",
        "\n",
        "plt.xlabel('n')\n",
        "plt.ylabel('number of operations')\n",
        "plt.show()"
      ],
      "metadata": {
        "colab": {
          "base_uri": "https://localhost:8080/",
          "height": 279
        },
        "id": "zo8AEPJNk11n",
        "outputId": "85176ec1-46e5-4628-ff6d-1cc7c5782415"
      },
      "execution_count": null,
      "outputs": [
        {
          "output_type": "display_data",
          "data": {
            "text/plain": [
              "<Figure size 432x288 with 1 Axes>"
            ],
            "image/png": "[encoded data removed]"
          },
          "metadata": {
            "needs_background": "light"
          }
        }
      ]
    },
    {
      "cell_type": "markdown",
      "source": [
        "# Análisis de resultados (Número de comparaciones)\n",
        "\n",
        "La teoría explica que el algoritmo de ordenamiento MergeSort posee una complejidad de $O(n \\log n)$ para organizar una secuencia de números, tanto en su peor como mejor caso.\n",
        "\n",
        "Se puede observar en el gráfico que el caso promedio es prácticamente idéntico tanto a su peor como mejor caso, esta pecualiaridad ocurre debido a que la función `MergeSort` puede dividir un arreglo un máximo de $\\log n$ veces, siendo $n$ la cantidad de datos presentes, a su vez, el juntar y posicionar los datos, acción hecha por `Merge` requiere que se realice una cantidad de $n$ veces. Por lo que teóricamente este algoritmo no posee un caso en el que rinda mejor o peor que en otro.\n",
        "\n",
        "\n"
      ],
      "metadata": {
        "id": "EEtbJZQvO2y5"
      }
    },
    {
      "cell_type": "markdown",
      "source": [
        "# 5.2. MergeSort Vs InsertionSort"
      ],
      "metadata": {
        "id": "JvYTYDPmVJ4U"
      }
    },
    {
      "cell_type": "code",
      "source": [
        "  from termcolor import colored\n",
        "  import copy\n",
        "\n",
        "  def insertionSort(array, verbose = False):\n",
        "    cont = 0\n",
        "    cont2 = 1\n",
        "    for sp in range(1, len(array)):\n",
        "        key = array[sp]\n",
        "        j = sp - 1\n",
        "        while j >= 0 and key < array[j]:\n",
        "            array[j + 1] = array[j]\n",
        "            cont += 1          \n",
        "            j = j - 1\n",
        " \n",
        "\n",
        "        array[j + 1] = key      \n",
        "    return cont,array\n",
        "    \n",
        "data = [9, 5, 1, 4, 3]\n",
        "cont, a= insertionSort(data)"
      ],
      "metadata": {
        "id": "q9RlCywJcXM0"
      },
      "execution_count": null,
      "outputs": []
    },
    {
      "cell_type": "code",
      "source": [
        "import matplotlib.pyplot as plt\n",
        "import datetime\n",
        "import random\n",
        "from timeit import repeat\n",
        "x=[]; y=[] ; y1=[] ;\n",
        "for n in range(5,200):\n",
        "    a = random.sample(range(1, 1000), n)\n",
        "    #la función repeat está ejecutando 20 veces insertionSort con el arreglo a y retorna el mejor tiepo obtenido.\n",
        "    t = repeat(setup=\"from __main__ import insertionSort\", stmt=f\"insertionSort({a})\", repeat=1, number=10)\n",
        "    t1 = repeat(setup=\"from __main__ import MergeSort\", stmt=f\"MergeSort({a},{0},{len(a)})\", repeat=1, number=10)\n",
        "    x.append(n)\n",
        "    y.append(t)\n",
        "    y1.append(t1)\n",
        "\n",
        "plt.plot(x,y)\n",
        "plt.plot(x,y1)\n",
        "plt.legend([\"InsertionSort\",\"MergeSort\"])\n",
        "plt.xlabel('n')\n",
        "plt.ylabel('Tiempo en ms')\n",
        "plt.show()"
      ],
      "metadata": {
        "colab": {
          "base_uri": "https://localhost:8080/",
          "height": 279
        },
        "id": "yXmuH3ZabSPk",
        "outputId": "0258a6b2-ecb3-4bd9-dd6c-894ea6a6b20b"
      },
      "execution_count": null,
      "outputs": [
        {
          "output_type": "display_data",
          "data": {
            "text/plain": [
              "<Figure size 432x288 with 1 Axes>"
            ],
            "image/png": "[encoded data removed]"
          },
          "metadata": {
            "needs_background": "light"
          }
        }
      ]
    },
    {
      "cell_type": "markdown",
      "source": [
        "# Análisis de resultados (MergeSort Vs InsertionSort)\n",
        "\n",
        "En el gráfico es evidenciable una diferencia tanto en estabilidad como en eficiciencia entre los dos algoritmos de ordenamiento. El crecimiento de MergeSort es lineal, contrastanado con el de InsertionSort que presente una curva pronunciada en su crecimiento, paralelo a este hecho se puede evidenciar que conforme la cantidad de datos aumenta, la estabilidad del insertionSort disminuye considerablemente, en contraposición, MergeSort se mantiene estable.\n",
        "\n",
        "Estas anomalías en los tiempos de ejecución (peaks o montes), tienen como principales causas alguna inestabilidad en los voltajes del hardware, además de ello debe sumarse, en el caso InsertionSort, un acercamiento a su peor caso posible (datos ordenados de manera contraria a la buscada), causando un alza en el tiempo de ejecución, MergeSort al no tener un peor ni mejor caso se mantiene estable durante todo el experimento.\n",
        "\n"
      ],
      "metadata": {
        "id": "fM12-rG1VAr6"
      }
    }
  ]
}