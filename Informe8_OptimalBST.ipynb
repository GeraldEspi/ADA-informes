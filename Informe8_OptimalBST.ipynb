{
  "nbformat": 4,
  "nbformat_minor": 0,
  "metadata": {
    "colab": {
      "provenance": [],
      "collapsed_sections": [],
      "name": "informe8_optimalBST.ipynb",
      "authorship_tag": "ABX9TyMmEq+FJYXccXo3E1qj8Qph",
      "include_colab_link": true
    },
    "kernelspec": {
      "name": "python3",
      "display_name": "Python 3"
    },
    "language_info": {
      "name": "python"
    }
  },
  "cells": [
    {
      "cell_type": "markdown",
      "metadata": {
        "id": "view-in-github",
        "colab_type": "text"
      },
      "source": [
        "<a href=\"https://colab.research.google.com/github/GeraldEspi/ADA-informes/blob/main/informe8_optimalBST.ipynb\" target=\"_parent\"><img src=\"https://colab.research.google.com/assets/colab-badge.svg\" alt=\"Open In Colab\"/></a>"
      ]
    },
    {
      "cell_type": "markdown",
      "source": [
        "# 1.- Problema del Binary Search Tree óptimo\n",
        "\n",
        "En las ciencias de computación un Optimal BST `(conocido en español como Árbol Binario de Búsqueda Óptimo)` es un árbol binario de búsqueda que se encarga de ejecutar el menor tiempo de búsqueda que sea posible, es decir, ejecutar el algoritmo de manera óptima.  \n",
        "\n",
        "![image](https://cdn.discordapp.com/attachments/838249461268217916/1030610898475294790/Screenshot20220730at30104AM-660x431_1.png)\n",
        "\n",
        "Este algoritmo presenta dos tipos de aproximaciones, `Estática` y `Dinámica`. En este informe concretamente se abordará la aproximación dinámica.\n",
        "\n",
        "Se establece.\n",
        "\n",
        "> **Entrada**: Secuencia ordenada de n claves: $K=\\left<k_1,k_2,...,k_n\\right>$. Cada clave $k_i$ tiene una probabilidad $p_i$ de ser buscada. Existen **claves ficticias $d_i$** que representan **búsquedas fallidas** con $k_{i-1} \\leq d_i \\leq k_i$. Cada clave $d_i$ tiene una probabilidad $q_i$ de ser buscada. La suma de probabilidades debe ser uno, es decir: $\\sum\\limits_{i=1}^n p_i + \\sum\\limits_{j=0}^n q_i = 1$\n",
        "\n",
        "> **Salida**: Construir un **árbol de búsqueda óptimo**, es decir, un árbol que **minimice la cantidad esperada de nodos visitados (costo esperado)**.\n",
        "\n",
        "Al igual que los algoritmos de ordenamiento buscan reducir los **tiempos de ejecución**. Menores tiempos de ejecución significan una mayor eficiencia y por lo tanto, nuevas instancias para realizar búsquedas.\n",
        "\n",
        "\n"
      ],
      "metadata": {
        "id": "ZkpfViuYnMB8"
      }
    },
    {
      "cell_type": "markdown",
      "source": [
        "# Código\n"
      ],
      "metadata": {
        "id": "HJ1UR2uWvttV"
      }
    },
    {
      "cell_type": "markdown",
      "source": [
        "### **Mostrar matriz**"
      ],
      "metadata": {
        "id": "AutWkkRm2JXu"
      }
    },
    {
      "cell_type": "code",
      "source": [
        "def ShowMatrix(M, title = \"\", decimal=True):\n",
        "  if(len(title) > 1): print(f\"{title}:\") \n",
        "  for i in range(len(M)):\n",
        "    for j in range(len(M)):\n",
        "      if (decimal): print(\"{:.20f}\".format(M[i][j]), end=(\"\"))\n",
        "      else: print(\"{:.1f}\".format(M[i][j]), end=(\"\"))\n",
        "      if(j < len(M)-1): print(\",\", end=(\" \"))\n",
        "      else: print(\" \")"
      ],
      "metadata": {
        "id": "vD978jYs2Gii"
      },
      "execution_count": null,
      "outputs": []
    },
    {
      "cell_type": "markdown",
      "source": [
        "### **Generador de instancias**"
      ],
      "metadata": {
        "id": "8RqF2oNh2mSR"
      }
    },
    {
      "cell_type": "code",
      "source": [
        "import random\n",
        "import numpy as np\n",
        "\n",
        "def OBIG(n): # optimal_bst_instance_generator\n",
        "    keys = sorted(random.sample(range(1, 100), n))\n",
        "    arr = np.random.random(n*2+1)\n",
        "    arr /= arr.sum()\n",
        "    \n",
        "    p = list(arr[:n]) # Probabilidad de las claves\n",
        "    q = arr[n:] # Probabilidad de las claves ficticias\n",
        "    return keys, p, q\n",
        "    \n",
        "keys, p, q = OBIG(10)\n",
        "\n",
        "print(colored(\"keys:\",\"yellow\"),keys)\n",
        "print(colored(\"real:\",\"yellow\"),p)\n",
        "print(colored(\"ficticia:\",\"yellow\"),q)"
      ],
      "metadata": {
        "id": "hpS1pqWo2lAz",
        "colab": {
          "base_uri": "https://localhost:8080/"
        },
        "outputId": "86f4a0f2-70a5-40a8-8acf-2f212eadad50"
      },
      "execution_count": null,
      "outputs": [
        {
          "output_type": "stream",
          "name": "stdout",
          "text": [
            "\u001b[33mkeys:\u001b[0m [5, 6, 25, 27, 35, 50, 53, 60, 64, 66]\n",
            "\u001b[33mreal:\u001b[0m [0.007440334337372903, 0.03557212458764808, 0.009749666863798152, 0.03399449614398429, 0.025236670346900077, 0.04358944704298987, 0.007954677134516754, 0.08960791539846526, 0.07710666729919036, 0.0868275964704795]\n",
            "\u001b[33mficticia:\u001b[0m [0.00538353 0.00024571 0.09968248 0.07149302 0.05548429 0.07336462\n",
            " 0.09258861 0.02783327 0.09457546 0.00308045 0.05918898]\n"
          ]
        }
      ]
    },
    {
      "cell_type": "markdown",
      "source": [
        "### **Impelementación Recursiva**\n",
        "\n",
        ">**Paradigma**: Fuerza bruta"
      ],
      "metadata": {
        "id": "iMC5DLvie1RP"
      }
    },
    {
      "cell_type": "code",
      "source": [
        "import random\n",
        "import numpy as np\n",
        "from termcolor import colored\n",
        "\n",
        "\n",
        "recursiveCall = 0\n",
        "\n",
        "# Funcion recursiva para calcular el costo optimo\n",
        "def StaticBST(freq, i, j, verbose):\n",
        "    global recursiveCall \n",
        "    if verbose: \n",
        "        if recursiveCall > 0: print(colored(f\"¨¨¨¨¨¨¨¨¨¨¨¨¨¨¨¨¨¨¨¨¨¨¨¨¨¨¨¨¨¨¨¨¨¨¨¨¨¨¨¨¨¨¨¨¨¨¨¨¨¨¨¨¨¨¨¨¨¨¨¨¨¨¨¨¨¨¨¨¨¨¨¨¨¨¨¨¨¨¨¨¨¨¨¨¨¨¨¨¨¨¨¨¨¨¨¨¨¨\",\"green\"),\n",
        "                                         colored(\"\\nLlamada recursiva número: \",\"blue\"),recursiveCall)\n",
        "        print(colored(\"**************************************************************************************************************\",\"green\"))\n",
        "        print(colored(\"El largo corresponde a\",\"grey\"), j-i+1, colored(\"datos\",\"grey\"))\n",
        "\n",
        "    # Casos base\n",
        "    if j < i:     # No hay elementos en el sub-arreglo\n",
        "        return 0\n",
        "    if j == i:     # Hay un elemento en el sub-arreglo\n",
        "        return freq[i]\n",
        "     \n",
        "    # Obtener sumatoria de frecuencias\n",
        "    FunctionSuma = Sum(freq, i, j)\n",
        "    if verbose: \n",
        "                print(colored(\"-------------------------------------------------------------------------------------\",\"green\"))\n",
        "                print(colored(\"i =\",\"blue\"), i    ,colored(\"y\",\"blue\") , colored(\"j = \",\"blue\"),j)\n",
        "                print(colored(\"La suma resultante de las frecuencias\",\"blue\"),i,colored(\"...\",\"blue\"),j, colored(\"es\",\"blue\"), FunctionSuma)\n",
        "     \n",
        "    # Inicia el valor minimo\n",
        "    Min = 999999999999\n",
        "\n",
        "    # Comprueba todos los elementos como raíz\n",
        "    # Para encontrar el árbol de búsqueda óptimo\n",
        "    for r in range(i, j + 1):\n",
        "        #Recursividad\n",
        "        if verbose:\n",
        "                  print(colored(\"------------------------------------------\",\"green\"))\n",
        "                  print(colored(\"Se prueba con\",\"blue\"),r,colored(\"de raíz\",\"blue\"))\n",
        "        recursiveCall+=1\n",
        "        optCostLeft = StaticBST(freq, i, r - 1, verbose)\n",
        "        recursiveCall+=1\n",
        "        optCostRight = StaticBST(freq, r + 1, j, verbose)\n",
        "\n",
        "        \n",
        "        cost = optCostLeft + optCostRight\n",
        "        if verbose:\n",
        "                  print(colored(\"Se tiene como costo óptimo para el árbol de\",\"blue\"),i,colored(\"...\",\"blue\"),j, colored(\"datos\",\"blue\"))\n",
        "                  print(cost ,colored(\"sería entonces el costo con\",\"blue\"),r,colored(\"de raíz\",\"blue\"))\n",
        "                  print(colored(\"El costo óptimo para el árbol\",\"blue\") ,i, colored(\"...\",\"blue\"), j,colored(\"hasta ahora es\",\"blue\"), Min)\n",
        "        if cost < Min:\n",
        "            Min = cost\n",
        "            if verbose:\n",
        "                print(colored(\"----------\",\"green\"))\n",
        "                print(colored(\"Como se consiguió un costo mas optimo al guardado anteriormente, lo reemplazamos\",\"blue\"))\n",
        "                print(colored(\"Ahora el costo optimo para arbol\",\"blue\") ,i, colored(\"...\",\"blue\"),j, colored(\"datos sera\",\"blue\"),cost)\n",
        "                print(colored(\"----------\",\"green\"))\n",
        "    \n",
        "    # Retorna el minimo valor\n",
        "    if verbose: \n",
        "        if recursiveCall > 0: print(colored(\"Llamada recursiva número\",\"blue\"),recursiveCall, colored(\"FIN\",\"blue\"), \"\\n\"+\n",
        "                                         colored(\"/____________________________________________________________________/\",\"green\"))\n",
        "        else:  print(colored(\"**************************************************************************************************************\",\"green\"))\n",
        "    return Min + FunctionSuma\n",
        " \n",
        "# La función principal que calcula el costo mínimo de un árbol de búsqueda binaria. \n",
        "# Utiliza principalmente optCost() para encontrar el costo óptimo.\n",
        "def recurisveST(keys, freq, n, verbose = False, visualize = False):    \n",
        "    # Se asume que keys esta ordenado.\n",
        "    return StaticBST(freq, 0, n-1, verbose)\n",
        "    # Aqui planeaba mostrar el arbol\n",
        " \n",
        "\n",
        "def Sum(freq, i, j):\n",
        "    s = 0\n",
        "    for k in range(i, j + 1):\n",
        "        s += freq[k]\n",
        "    return s\n",
        "\n",
        "print(colored(\"keys:\",\"yellow\"),keys)\n",
        "print(colored(\"real:\",\"yellow\"),p)\n",
        "print(colored(\"ficticia:\",\"yellow\"),q)\n",
        "\n",
        "opt = recurisveST(keys, p, len(keys))\n",
        "print(colored(f\"\\nEl costo óptimo esperado de realizar una búsqueda sería de\",\"yellow\"),opt, colored(\"nodos visitados.\",\"yellow\")+\n",
        "      colored(f\"\\nSe resolveran\",\"yellow\"),recursiveCall, colored(\"sub-problemas en total\",\"yellow\")+\n",
        "      colored(f\"\\nEl árbol tendrá\",\"yellow\"), len(keys) ,colored(\"nodos\",\"yellow\"))\n"
      ],
      "metadata": {
        "colab": {
          "base_uri": "https://localhost:8080/"
        },
        "id": "O5I0-55FATCW",
        "outputId": "33782722-1555-4bc9-9b76-ebdd27c4fbe8"
      },
      "execution_count": null,
      "outputs": [
        {
          "output_type": "stream",
          "name": "stdout",
          "text": [
            "\u001b[33mkeys:\u001b[0m [22, 30, 35, 49, 50, 65, 79, 96]\n",
            "\u001b[33mreal:\u001b[0m [0.014183978618319245, 0.0698476638073667, 0.11411796840246302, 0.09606655303196086, 0.011637309218354751, 0.014804574394848481, 0.12986169817075124, 0.050709461268654527]\n",
            "\u001b[33mficticia:\u001b[0m [0.0591158  0.04649807 0.09244923 0.00544878 0.0433058  0.01557847\n",
            " 0.06508586 0.0567027  0.11458609]\n",
            "\u001b[33m\n",
            "El costo óptimo esperado de realizar una búsqueda sería de\u001b[0m 1.0933961359376945 \u001b[33mnodos visitados.\u001b[0m\u001b[33m\n",
            "Se resolveran\u001b[0m 3644 \u001b[33msub-problemas en total\u001b[0m\u001b[33m\n",
            "El árbol tendrá\u001b[0m 8 \u001b[33mnodos\u001b[0m\n"
          ]
        }
      ]
    },
    {
      "cell_type": "markdown",
      "source": [
        "### **Implementación Bottom-up**\n",
        "\n",
        ">**Paradigma**: Programación dinámica, Bottom-Up approach."
      ],
      "metadata": {
        "id": "2SdtTL9Mv8UK"
      }
    },
    {
      "cell_type": "code",
      "execution_count": null,
      "metadata": {
        "colab": {
          "base_uri": "https://localhost:8080/"
        },
        "id": "33AOQRcRmGWS",
        "outputId": "ea1bff9f-a0a8-402c-e6a5-0eadc70eeca6"
      },
      "outputs": [
        {
          "output_type": "stream",
          "name": "stdout",
          "text": [
            "\u001b[33mkeys:\u001b[0m [22, 30, 35, 49, 50, 65, 79, 96]\n",
            "\u001b[33mreal:\u001b[0m [0.014183978618319245, 0.0698476638073667, 0.11411796840246302, 0.09606655303196086, 0.011637309218354751, 0.014804574394848481, 0.12986169817075124, 0.050709461268654527]\n",
            "\u001b[33mficticia:\u001b[0m [0.0591158  0.04649807 0.09244923 0.00544878 0.0433058  0.01557847\n",
            " 0.06508586 0.0567027  0.11458609]\n",
            "\u001b[33m\n",
            "El costo óptimo esperado de realizar una búsqueda sería de\u001b[0m 1.0933961359376945 \u001b[33mnodos visitados.\u001b[0m\u001b[33m\n",
            "Se resolveran\u001b[0m 63 \u001b[33msub-problemas en total\u001b[0m\u001b[33m\n",
            "El árbol tendrá\u001b[0m 8 \u001b[33mnodos\u001b[0m\n"
          ]
        }
      ],
      "source": [
        "import networkx as nx\n",
        "import matplotlib.pyplot as plt\n",
        "\n",
        "cantSubProblem = 0\n",
        "\n",
        "def optCostBottomUp(keys, freq, n, verbose = False):\n",
        "    max = 9999999999\n",
        "\n",
        "    # Crea una matriz auxiliar para almacenar\n",
        "    # los resultados de los sub-problemas\n",
        "    cost = [[0 for x in range(n)]\n",
        "               for y in range(n)]\n",
        "    # cost[i][j] = Costo óptimo del árbol de búsqueda binaria que se puede formar desde keys[i] hasta keys[j]. \n",
        "    # cost[0][n-1] = Almacenará el costo resultante.\n",
        "\n",
        "    # Crea una matriz auxiliar para almacenar\n",
        "    # los resultados de los sub-problemas\n",
        "    root = [[0 for x in range(n)]\n",
        "               for y in range(n)]\n",
        "\n",
        "    global cantSubProblem\n",
        "    cantSubProblem += (n*n)\n",
        "    cantSubProblem -= 1\n",
        " \n",
        "    # Para una sola clave, el costo es igual a la frecuencia de la clave.\n",
        "    for i in range(n):\n",
        "        cost[i][i] = freq[i]\n",
        " \n",
        "    # Ahora necesitamos considerar cadenas de longitud 1, 2, ... . \n",
        "    # L es la longitud de la cadena.\n",
        "    for L in range(1, n + 1):\n",
        "        # i es el número de fila en el costo\n",
        "        if verbose: \n",
        "            print(colored(\"**************************************************************************************************************\",\"green\"))\n",
        "            print(colored(\"El largo corresponde\",\"grey\"), L, colored(\"datos\",\"grey\"))\n",
        "        for i in range(n - L + 1):\n",
        "            # Obtenga el número de columna j del número de fila i \n",
        "            # y la longitud de la cadena L\n",
        "            j = i + L - 1\n",
        "            if i >= n or j >= n:\n",
        "                break\n",
        "            \n",
        "            sumaDeFreq = sum(freq, i, j)\n",
        "            cost[i][j] = max\n",
        "            if verbose: \n",
        "                print(colored(\"-------------------------------------------------------------------------------------\",\"green\"))\n",
        "                print(colored(\"i =\",\"blue\"), i,     colored(\"y\",\"blue\"),     colored(\"j =\",\"blue\") ,j)\n",
        "                print(colored(\"La suma de frecuencias\",\"blue\"), i, colored(\"...\",\"blue\"), j ,colored(\"es\",\"blue\"),sumaDeFreq)\n",
        "\n",
        "            # Intenta hacer todas las claves en claves \n",
        "            # de intervalo [i..j] como root\n",
        "            for r in range(i, j + 1):\n",
        "                if verbose:\n",
        "                  print(colored(\"------------------------------------------\"),\"green\")\n",
        "                  print(colored(\"Probemos con\",\"blue\"), r, colored(\"de raíz\",\"blue\"))\n",
        "                # c = costo cuando las claves [r] se \n",
        "                # convierten en raíz de este subárbol\n",
        "                c = 0\n",
        "                if (r > i):\n",
        "                    c += cost[i][r - 1]\n",
        "                if (r < j):\n",
        "                    c += cost[r + 1][j]\n",
        "                c += sumaDeFreq\n",
        "\n",
        "                if verbose:\n",
        "                  print(colored(\"Tenemos como costo optimo para el arbol de\",\"blue\"), i, colored(\"...\",\"blue\"),j, colored(\"datos\",\"blue\"))\n",
        "                  print(c,colored(\"seria el costo con\",\"blue\"), r, colored(\"de raíz\",\"blue\"))\n",
        "                  print(colored(\"El costo optimo para el arbol\",\"blue\") ,i, colored(\"...\",\"blue\"),j,colored(\"hasta ahora es\",\"blue\"), cost[i][j])\n",
        "                if (c < cost[i][j]):\n",
        "                    if verbose:\n",
        "                        print(colored(\"----------\",\"green\"))\n",
        "                        print(colored(\"Como se consiguió un costo mas optimo al guardado anteriormente, lo reemplazamos\",\"blue\"))\n",
        "                        print(colored(\"Ahora el costo optimo para arbol\",\"blue\") ,i, colored(\"...\",\"blue\"),j, colored(\"datos sera\",\"blue\"),c)\n",
        "                        print(colored(\"----------\",\"green\"))\n",
        "    \n",
        "                    cost[i][j] = c\n",
        "                    root[i][j] = r+1\n",
        "    if verbose: \n",
        "      print(colored(\"**************************************************************************************************************\",\"green\"))\n",
        "    return cost[0][n - 1], root\n",
        "\n",
        "def addSons(r, k, A,pos, node):\n",
        "    Ka = k[:pos]\n",
        "    i = 0\n",
        "    j = len(Ka)-1\n",
        "    nPos = r[i][j]\n",
        "    n = k[nPos-1]\n",
        "    A.add_nodes_from([(node, {\"label\": n})])\n",
        "    node += 1\n",
        "    Kb = k[pos:]\n",
        "    i = pos\n",
        "    j = i + len(Kb)-1\n",
        "    nPos = r[i][j]\n",
        "    n = k[nPos-1]\n",
        "    A.add_nodes_from([(node, {\"label\": n})])\n",
        "    node += 1\n",
        "    return node\n",
        "\n",
        "def crearArbol(r, k, A):\n",
        "    nPos = r[0][len(k)-1]\n",
        "    n = k[nPos-1]\n",
        "    A.add_nodes_from([(1, {\"label\": n})])\n",
        "    node = addSons(r, k, A,nPos-1, 2)\n",
        "\n",
        "def mostrarArbol(T):\n",
        "\n",
        "    \n",
        "    # La lista color_map alamacena los colores de cada nodo\n",
        "    color_map = []\n",
        "    for node in T:\n",
        "      color_map.append(\"gray\")\n",
        "\n",
        "    # Los label\n",
        "    labels={}\n",
        "    for n in T:\n",
        "        if \"label\" in T.nodes[n]: labels[n]=T.nodes[n][\"label\"]\n",
        "\n",
        "    # spring_layout: define posiciones para los nodos del grafo\n",
        "    pos=nx.spring_layout(T)\n",
        "    \n",
        "    # para mostrar los nodos en sus posiciones y colores, tamaños, etc.\n",
        "    nx.draw(T,pos, node_color=color_map, with_labels=False, node_size=800, font_size=14, width  =2.0, edge_color =\"black\")\n",
        "    nodes=nx.draw_networkx_labels(T,pos, labels=labels,font_color=\"white\", font_size=12)\n",
        " \n",
        "def dynamicOptST(keys, freq, n, verbose = False, visualize = False):\n",
        "    optimal, root = optCostBottomUp(keys, freq, n, verbose)\n",
        "    # Aqui planeaba mostrar el arbol\n",
        "    # Pero no supe como\n",
        "    if visualize: \n",
        "        ShowMatrix(root,\"Raíz\",False)\n",
        "        tree = nx.DiGraph()\n",
        "        crearArbol(root, keys, tree)\n",
        "        mostrarArbol(tree)\n",
        "    return optimal\n",
        "\n",
        "# Obtiene la sumatoria de los valores de i<=freq<=j.\n",
        "def sum(freq, i, j):\n",
        "  s = 0\n",
        "  for k in range(i, j + 1):\n",
        "    s += freq[k]\n",
        "  return s\n",
        "\n",
        "print(colored(\"keys:\",\"yellow\"),keys)\n",
        "print(colored(\"real:\",\"yellow\"),p)\n",
        "print(colored(\"ficticia:\",\"yellow\"),q)\n",
        "\n",
        "opt = dynamicOptST(keys, p, len(keys))\n",
        "print(colored(f\"\\nEl costo óptimo esperado de realizar una búsqueda sería de\",\"yellow\"),opt, colored(\"nodos visitados.\",\"yellow\")+\n",
        "      colored(f\"\\nSe resolveran\",\"yellow\"),cantSubProblem, colored(\"sub-problemas en total\",\"yellow\")+\n",
        "      colored(f\"\\nEl árbol tendrá\",\"yellow\"), len(keys) ,colored(\"nodos\",\"yellow\"))\n"
      ]
    },
    {
      "cell_type": "markdown",
      "source": [
        "# 2. Descripción del algoritmo\n",
        "\n",
        "> **Paradigma:** Programación Dinámica\n",
        "\n",
        "El algoritmo puede resumirse en:\n",
        "\n",
        "* Una vez se ingresan las claves ejecutado analiza el árbol y se construye otro con el mínimo costo posible, luego se retorna el costo optimizado.\n",
        "\n",
        "Para la construcción del árbol se ingresa en la función `optimalSearchTree` dos arreglos, uno indicando las keys de los nodos (las claves que identifican a dichos nodos) y su respectiva frecuencia, que permitirán ubicar al nodo en un nivel específico del árbol. Junto a dichos arreglos se ingresa el largo del arreglo de claves.\n",
        "\n",
        "Una vez se ejecutada la función, se utiliza la memorización, propia del paradigma utilizado para la implementación. Para ello se crea una matriz bidimensional que almacenará los costos. En dicha matriz es de dimensiones cost[n][n]\n",
        "\n",
        "Luego de ello cada nodo se prueba como raíz, probando así cada combinación posible y estableciendo los costos pertinentes en la matriz. Luego de ejecutado el proceso el resultado final se almacenará en la casilla cost[0][n-1].\n",
        "\n"
      ],
      "metadata": {
        "id": "0rvBJQfnvswf"
      }
    },
    {
      "cell_type": "markdown",
      "source": [
        "# 2.1 Ejecución paso a paso\n",
        "\n",
        "\n",
        "\n"
      ],
      "metadata": {
        "id": "tS4VP8PuLsL1"
      }
    },
    {
      "cell_type": "code",
      "source": [
        "import random\n",
        "# Crea las instancias, y use la misma en ambos, podra observar la diferencia en sus procesos\n",
        "n = random.randint(2,5)\n",
        "print(f\"El arbol tendrá {n} nodos\")\n",
        "k, pi, qi = OBIG(n)\n",
        "print(colored(\"keys:\",\"yellow\"),keys)\n",
        "print(colored(\"real:\",\"yellow\"),p)\n",
        "print(colored(\"ficticia:\",\"yellow\"),q)"
      ],
      "metadata": {
        "colab": {
          "base_uri": "https://localhost:8080/"
        },
        "id": "w18OsWBELwur",
        "outputId": "8c9a91fd-4988-4c57-c607-d4785eb40926"
      },
      "execution_count": null,
      "outputs": [
        {
          "output_type": "stream",
          "name": "stdout",
          "text": [
            "El arbol tendrá 2 nodos\n",
            "\u001b[33mkeys:\u001b[0m [2, 9, 18, 42, 60, 73, 77, 79]\n",
            "\u001b[33mreal:\u001b[0m [0.07740411844463559, 0.024350359329352363, 0.07730600502829194, 0.05528069395169649, 0.07148824130065379, 0.07126223585776943, 0.057173234001966576, 0.05094419381078955]\n",
            "\u001b[33mficticia:\u001b[0m [0.09237751 0.03238032 0.03303216 0.05998173 0.08015254 0.09327851\n",
            " 0.05096991 0.02010193 0.05251631]\n"
          ]
        }
      ]
    },
    {
      "cell_type": "markdown",
      "source": [
        "### **Recursiva**"
      ],
      "metadata": {
        "id": "jCAxw--rh1Jf"
      }
    },
    {
      "cell_type": "code",
      "source": [
        "llamadasRecursivas = 0\n",
        "print(colored(\"keys:\",\"yellow\"),keys,\"\\n\")\n",
        "opt = recurisveST(k, pi, len(k), True)\n",
        "\n",
        "print(colored(f\"\\n* El costo óptimo esperado de realizar una búsqueda sería de\",\"yellow\"),opt, colored(\"nodos visitados --\",\"yellow\")+\n",
        "      colored(f\"\\n* Se resolveran\",\"yellow\"),recursiveCall, colored(\"sub-problemas en total --\",\"yellow\")+\n",
        "      colored(f\"\\n* El árbol tendrá\",\"yellow\"), len(k) ,colored(\"nodos --\",\"yellow\"))"
      ],
      "metadata": {
        "colab": {
          "base_uri": "https://localhost:8080/"
        },
        "id": "fLK_JCuoL2hB",
        "outputId": "687fd9c0-793f-4b21-f2b1-647da93ac238"
      },
      "execution_count": null,
      "outputs": [
        {
          "output_type": "stream",
          "name": "stdout",
          "text": [
            "\u001b[33mkeys:\u001b[0m [22, 30, 35, 49, 50, 65, 79, 96] \n",
            "\n",
            "\u001b[32m¨¨¨¨¨¨¨¨¨¨¨¨¨¨¨¨¨¨¨¨¨¨¨¨¨¨¨¨¨¨¨¨¨¨¨¨¨¨¨¨¨¨¨¨¨¨¨¨¨¨¨¨¨¨¨¨¨¨¨¨¨¨¨¨¨¨¨¨¨¨¨¨¨¨¨¨¨¨¨¨¨¨¨¨¨¨¨¨¨¨¨¨¨¨¨¨¨¨\u001b[0m \u001b[34m\n",
            "Llamada recursiva número: \u001b[0m 3644\n",
            "\u001b[32m**************************************************************************************************************\u001b[0m\n",
            "\u001b[30mEl largo corresponde a\u001b[0m 3 \u001b[30mdatos\u001b[0m\n",
            "\u001b[32m-------------------------------------------------------------------------------------\u001b[0m\n",
            "\u001b[34mi =\u001b[0m 0 \u001b[34my\u001b[0m \u001b[34mj = \u001b[0m 2\n",
            "\u001b[34mLa suma resultante de las frecuencias\u001b[0m 0 \u001b[34m...\u001b[0m 2 \u001b[34mes\u001b[0m 0.5330836037640909\n",
            "\u001b[32m------------------------------------------\u001b[0m\n",
            "\u001b[34mSe prueba con\u001b[0m 0 \u001b[34mde raíz\u001b[0m\n",
            "\u001b[32m¨¨¨¨¨¨¨¨¨¨¨¨¨¨¨¨¨¨¨¨¨¨¨¨¨¨¨¨¨¨¨¨¨¨¨¨¨¨¨¨¨¨¨¨¨¨¨¨¨¨¨¨¨¨¨¨¨¨¨¨¨¨¨¨¨¨¨¨¨¨¨¨¨¨¨¨¨¨¨¨¨¨¨¨¨¨¨¨¨¨¨¨¨¨¨¨¨¨\u001b[0m \u001b[34m\n",
            "Llamada recursiva número: \u001b[0m 3645\n",
            "\u001b[32m**************************************************************************************************************\u001b[0m\n",
            "\u001b[30mEl largo corresponde a\u001b[0m 0 \u001b[30mdatos\u001b[0m\n",
            "\u001b[32m¨¨¨¨¨¨¨¨¨¨¨¨¨¨¨¨¨¨¨¨¨¨¨¨¨¨¨¨¨¨¨¨¨¨¨¨¨¨¨¨¨¨¨¨¨¨¨¨¨¨¨¨¨¨¨¨¨¨¨¨¨¨¨¨¨¨¨¨¨¨¨¨¨¨¨¨¨¨¨¨¨¨¨¨¨¨¨¨¨¨¨¨¨¨¨¨¨¨\u001b[0m \u001b[34m\n",
            "Llamada recursiva número: \u001b[0m 3646\n",
            "\u001b[32m**************************************************************************************************************\u001b[0m\n",
            "\u001b[30mEl largo corresponde a\u001b[0m 2 \u001b[30mdatos\u001b[0m\n",
            "\u001b[32m-------------------------------------------------------------------------------------\u001b[0m\n",
            "\u001b[34mi =\u001b[0m 1 \u001b[34my\u001b[0m \u001b[34mj = \u001b[0m 2\n",
            "\u001b[34mLa suma resultante de las frecuencias\u001b[0m 1 \u001b[34m...\u001b[0m 2 \u001b[34mes\u001b[0m 0.334027170533565\n",
            "\u001b[32m------------------------------------------\u001b[0m\n",
            "\u001b[34mSe prueba con\u001b[0m 1 \u001b[34mde raíz\u001b[0m\n",
            "\u001b[32m¨¨¨¨¨¨¨¨¨¨¨¨¨¨¨¨¨¨¨¨¨¨¨¨¨¨¨¨¨¨¨¨¨¨¨¨¨¨¨¨¨¨¨¨¨¨¨¨¨¨¨¨¨¨¨¨¨¨¨¨¨¨¨¨¨¨¨¨¨¨¨¨¨¨¨¨¨¨¨¨¨¨¨¨¨¨¨¨¨¨¨¨¨¨¨¨¨¨\u001b[0m \u001b[34m\n",
            "Llamada recursiva número: \u001b[0m 3647\n",
            "\u001b[32m**************************************************************************************************************\u001b[0m\n",
            "\u001b[30mEl largo corresponde a\u001b[0m 0 \u001b[30mdatos\u001b[0m\n",
            "\u001b[32m¨¨¨¨¨¨¨¨¨¨¨¨¨¨¨¨¨¨¨¨¨¨¨¨¨¨¨¨¨¨¨¨¨¨¨¨¨¨¨¨¨¨¨¨¨¨¨¨¨¨¨¨¨¨¨¨¨¨¨¨¨¨¨¨¨¨¨¨¨¨¨¨¨¨¨¨¨¨¨¨¨¨¨¨¨¨¨¨¨¨¨¨¨¨¨¨¨¨\u001b[0m \u001b[34m\n",
            "Llamada recursiva número: \u001b[0m 3648\n",
            "\u001b[32m**************************************************************************************************************\u001b[0m\n",
            "\u001b[30mEl largo corresponde a\u001b[0m 1 \u001b[30mdatos\u001b[0m\n",
            "\u001b[34mSe tiene como costo óptimo para el árbol de\u001b[0m 1 \u001b[34m...\u001b[0m 2 \u001b[34mdatos\u001b[0m\n",
            "0.17051706408167014 \u001b[34msería entonces el costo con\u001b[0m 1 \u001b[34mde raíz\u001b[0m\n",
            "\u001b[34mEl costo óptimo para el árbol\u001b[0m 1 \u001b[34m...\u001b[0m 2 \u001b[34mhasta ahora es\u001b[0m 999999999999\n",
            "\u001b[32m----------\u001b[0m\n",
            "\u001b[34mComo se consiguió un costo mas optimo al guardado anteriormente, lo reemplazamos\u001b[0m\n",
            "\u001b[34mAhora el costo optimo para arbol\u001b[0m 1 \u001b[34m...\u001b[0m 2 \u001b[34mdatos sera\u001b[0m 0.17051706408167014\n",
            "\u001b[32m----------\u001b[0m\n",
            "\u001b[32m------------------------------------------\u001b[0m\n",
            "\u001b[34mSe prueba con\u001b[0m 2 \u001b[34mde raíz\u001b[0m\n",
            "\u001b[32m¨¨¨¨¨¨¨¨¨¨¨¨¨¨¨¨¨¨¨¨¨¨¨¨¨¨¨¨¨¨¨¨¨¨¨¨¨¨¨¨¨¨¨¨¨¨¨¨¨¨¨¨¨¨¨¨¨¨¨¨¨¨¨¨¨¨¨¨¨¨¨¨¨¨¨¨¨¨¨¨¨¨¨¨¨¨¨¨¨¨¨¨¨¨¨¨¨¨\u001b[0m \u001b[34m\n",
            "Llamada recursiva número: \u001b[0m 3649\n",
            "\u001b[32m**************************************************************************************************************\u001b[0m\n",
            "\u001b[30mEl largo corresponde a\u001b[0m 1 \u001b[30mdatos\u001b[0m\n",
            "\u001b[32m¨¨¨¨¨¨¨¨¨¨¨¨¨¨¨¨¨¨¨¨¨¨¨¨¨¨¨¨¨¨¨¨¨¨¨¨¨¨¨¨¨¨¨¨¨¨¨¨¨¨¨¨¨¨¨¨¨¨¨¨¨¨¨¨¨¨¨¨¨¨¨¨¨¨¨¨¨¨¨¨¨¨¨¨¨¨¨¨¨¨¨¨¨¨¨¨¨¨\u001b[0m \u001b[34m\n",
            "Llamada recursiva número: \u001b[0m 3650\n",
            "\u001b[32m**************************************************************************************************************\u001b[0m\n",
            "\u001b[30mEl largo corresponde a\u001b[0m 0 \u001b[30mdatos\u001b[0m\n",
            "\u001b[34mSe tiene como costo óptimo para el árbol de\u001b[0m 1 \u001b[34m...\u001b[0m 2 \u001b[34mdatos\u001b[0m\n",
            "0.16351010645189487 \u001b[34msería entonces el costo con\u001b[0m 2 \u001b[34mde raíz\u001b[0m\n",
            "\u001b[34mEl costo óptimo para el árbol\u001b[0m 1 \u001b[34m...\u001b[0m 2 \u001b[34mhasta ahora es\u001b[0m 0.17051706408167014\n",
            "\u001b[32m----------\u001b[0m\n",
            "\u001b[34mComo se consiguió un costo mas optimo al guardado anteriormente, lo reemplazamos\u001b[0m\n",
            "\u001b[34mAhora el costo optimo para arbol\u001b[0m 1 \u001b[34m...\u001b[0m 2 \u001b[34mdatos sera\u001b[0m 0.16351010645189487\n",
            "\u001b[32m----------\u001b[0m\n",
            "\u001b[34mLlamada recursiva número\u001b[0m 3650 \u001b[34mFIN\u001b[0m \n",
            "\u001b[32m/____________________________________________________________________/\u001b[0m\n",
            "\u001b[34mSe tiene como costo óptimo para el árbol de\u001b[0m 0 \u001b[34m...\u001b[0m 2 \u001b[34mdatos\u001b[0m\n",
            "0.4975372769854599 \u001b[34msería entonces el costo con\u001b[0m 0 \u001b[34mde raíz\u001b[0m\n",
            "\u001b[34mEl costo óptimo para el árbol\u001b[0m 0 \u001b[34m...\u001b[0m 2 \u001b[34mhasta ahora es\u001b[0m 999999999999\n",
            "\u001b[32m----------\u001b[0m\n",
            "\u001b[34mComo se consiguió un costo mas optimo al guardado anteriormente, lo reemplazamos\u001b[0m\n",
            "\u001b[34mAhora el costo optimo para arbol\u001b[0m 0 \u001b[34m...\u001b[0m 2 \u001b[34mdatos sera\u001b[0m 0.4975372769854599\n",
            "\u001b[32m----------\u001b[0m\n",
            "\u001b[32m------------------------------------------\u001b[0m\n",
            "\u001b[34mSe prueba con\u001b[0m 1 \u001b[34mde raíz\u001b[0m\n",
            "\u001b[32m¨¨¨¨¨¨¨¨¨¨¨¨¨¨¨¨¨¨¨¨¨¨¨¨¨¨¨¨¨¨¨¨¨¨¨¨¨¨¨¨¨¨¨¨¨¨¨¨¨¨¨¨¨¨¨¨¨¨¨¨¨¨¨¨¨¨¨¨¨¨¨¨¨¨¨¨¨¨¨¨¨¨¨¨¨¨¨¨¨¨¨¨¨¨¨¨¨¨\u001b[0m \u001b[34m\n",
            "Llamada recursiva número: \u001b[0m 3651\n",
            "\u001b[32m**************************************************************************************************************\u001b[0m\n",
            "\u001b[30mEl largo corresponde a\u001b[0m 1 \u001b[30mdatos\u001b[0m\n",
            "\u001b[32m¨¨¨¨¨¨¨¨¨¨¨¨¨¨¨¨¨¨¨¨¨¨¨¨¨¨¨¨¨¨¨¨¨¨¨¨¨¨¨¨¨¨¨¨¨¨¨¨¨¨¨¨¨¨¨¨¨¨¨¨¨¨¨¨¨¨¨¨¨¨¨¨¨¨¨¨¨¨¨¨¨¨¨¨¨¨¨¨¨¨¨¨¨¨¨¨¨¨\u001b[0m \u001b[34m\n",
            "Llamada recursiva número: \u001b[0m 3652\n",
            "\u001b[32m**************************************************************************************************************\u001b[0m\n",
            "\u001b[30mEl largo corresponde a\u001b[0m 1 \u001b[30mdatos\u001b[0m\n",
            "\u001b[34mSe tiene como costo óptimo para el árbol de\u001b[0m 0 \u001b[34m...\u001b[0m 2 \u001b[34mdatos\u001b[0m\n",
            "0.369573497312196 \u001b[34msería entonces el costo con\u001b[0m 1 \u001b[34mde raíz\u001b[0m\n",
            "\u001b[34mEl costo óptimo para el árbol\u001b[0m 0 \u001b[34m...\u001b[0m 2 \u001b[34mhasta ahora es\u001b[0m 0.4975372769854599\n",
            "\u001b[32m----------\u001b[0m\n",
            "\u001b[34mComo se consiguió un costo mas optimo al guardado anteriormente, lo reemplazamos\u001b[0m\n",
            "\u001b[34mAhora el costo optimo para arbol\u001b[0m 0 \u001b[34m...\u001b[0m 2 \u001b[34mdatos sera\u001b[0m 0.369573497312196\n",
            "\u001b[32m----------\u001b[0m\n",
            "\u001b[32m------------------------------------------\u001b[0m\n",
            "\u001b[34mSe prueba con\u001b[0m 2 \u001b[34mde raíz\u001b[0m\n",
            "\u001b[32m¨¨¨¨¨¨¨¨¨¨¨¨¨¨¨¨¨¨¨¨¨¨¨¨¨¨¨¨¨¨¨¨¨¨¨¨¨¨¨¨¨¨¨¨¨¨¨¨¨¨¨¨¨¨¨¨¨¨¨¨¨¨¨¨¨¨¨¨¨¨¨¨¨¨¨¨¨¨¨¨¨¨¨¨¨¨¨¨¨¨¨¨¨¨¨¨¨¨\u001b[0m \u001b[34m\n",
            "Llamada recursiva número: \u001b[0m 3653\n",
            "\u001b[32m**************************************************************************************************************\u001b[0m\n",
            "\u001b[30mEl largo corresponde a\u001b[0m 2 \u001b[30mdatos\u001b[0m\n",
            "\u001b[32m-------------------------------------------------------------------------------------\u001b[0m\n",
            "\u001b[34mi =\u001b[0m 0 \u001b[34my\u001b[0m \u001b[34mj = \u001b[0m 1\n",
            "\u001b[34mLa suma resultante de las frecuencias\u001b[0m 0 \u001b[34m...\u001b[0m 1 \u001b[34mes\u001b[0m 0.3625665396824208\n",
            "\u001b[32m------------------------------------------\u001b[0m\n",
            "\u001b[34mSe prueba con\u001b[0m 0 \u001b[34mde raíz\u001b[0m\n",
            "\u001b[32m¨¨¨¨¨¨¨¨¨¨¨¨¨¨¨¨¨¨¨¨¨¨¨¨¨¨¨¨¨¨¨¨¨¨¨¨¨¨¨¨¨¨¨¨¨¨¨¨¨¨¨¨¨¨¨¨¨¨¨¨¨¨¨¨¨¨¨¨¨¨¨¨¨¨¨¨¨¨¨¨¨¨¨¨¨¨¨¨¨¨¨¨¨¨¨¨¨¨\u001b[0m \u001b[34m\n",
            "Llamada recursiva número: \u001b[0m 3654\n",
            "\u001b[32m**************************************************************************************************************\u001b[0m\n",
            "\u001b[30mEl largo corresponde a\u001b[0m 0 \u001b[30mdatos\u001b[0m\n",
            "\u001b[32m¨¨¨¨¨¨¨¨¨¨¨¨¨¨¨¨¨¨¨¨¨¨¨¨¨¨¨¨¨¨¨¨¨¨¨¨¨¨¨¨¨¨¨¨¨¨¨¨¨¨¨¨¨¨¨¨¨¨¨¨¨¨¨¨¨¨¨¨¨¨¨¨¨¨¨¨¨¨¨¨¨¨¨¨¨¨¨¨¨¨¨¨¨¨¨¨¨¨\u001b[0m \u001b[34m\n",
            "Llamada recursiva número: \u001b[0m 3655\n",
            "\u001b[32m**************************************************************************************************************\u001b[0m\n",
            "\u001b[30mEl largo corresponde a\u001b[0m 1 \u001b[30mdatos\u001b[0m\n",
            "\u001b[34mSe tiene como costo óptimo para el árbol de\u001b[0m 0 \u001b[34m...\u001b[0m 1 \u001b[34mdatos\u001b[0m\n",
            "0.16351010645189487 \u001b[34msería entonces el costo con\u001b[0m 0 \u001b[34mde raíz\u001b[0m\n",
            "\u001b[34mEl costo óptimo para el árbol\u001b[0m 0 \u001b[34m...\u001b[0m 1 \u001b[34mhasta ahora es\u001b[0m 999999999999\n",
            "\u001b[32m----------\u001b[0m\n",
            "\u001b[34mComo se consiguió un costo mas optimo al guardado anteriormente, lo reemplazamos\u001b[0m\n",
            "\u001b[34mAhora el costo optimo para arbol\u001b[0m 0 \u001b[34m...\u001b[0m 1 \u001b[34mdatos sera\u001b[0m 0.16351010645189487\n",
            "\u001b[32m----------\u001b[0m\n",
            "\u001b[32m------------------------------------------\u001b[0m\n",
            "\u001b[34mSe prueba con\u001b[0m 1 \u001b[34mde raíz\u001b[0m\n",
            "\u001b[32m¨¨¨¨¨¨¨¨¨¨¨¨¨¨¨¨¨¨¨¨¨¨¨¨¨¨¨¨¨¨¨¨¨¨¨¨¨¨¨¨¨¨¨¨¨¨¨¨¨¨¨¨¨¨¨¨¨¨¨¨¨¨¨¨¨¨¨¨¨¨¨¨¨¨¨¨¨¨¨¨¨¨¨¨¨¨¨¨¨¨¨¨¨¨¨¨¨¨\u001b[0m \u001b[34m\n",
            "Llamada recursiva número: \u001b[0m 3656\n",
            "\u001b[32m**************************************************************************************************************\u001b[0m\n",
            "\u001b[30mEl largo corresponde a\u001b[0m 1 \u001b[30mdatos\u001b[0m\n",
            "\u001b[32m¨¨¨¨¨¨¨¨¨¨¨¨¨¨¨¨¨¨¨¨¨¨¨¨¨¨¨¨¨¨¨¨¨¨¨¨¨¨¨¨¨¨¨¨¨¨¨¨¨¨¨¨¨¨¨¨¨¨¨¨¨¨¨¨¨¨¨¨¨¨¨¨¨¨¨¨¨¨¨¨¨¨¨¨¨¨¨¨¨¨¨¨¨¨¨¨¨¨\u001b[0m \u001b[34m\n",
            "Llamada recursiva número: \u001b[0m 3657\n",
            "\u001b[32m**************************************************************************************************************\u001b[0m\n",
            "\u001b[30mEl largo corresponde a\u001b[0m 0 \u001b[30mdatos\u001b[0m\n",
            "\u001b[34mSe tiene como costo óptimo para el árbol de\u001b[0m 0 \u001b[34m...\u001b[0m 1 \u001b[34mdatos\u001b[0m\n",
            "0.1990564332305259 \u001b[34msería entonces el costo con\u001b[0m 1 \u001b[34mde raíz\u001b[0m\n",
            "\u001b[34mEl costo óptimo para el árbol\u001b[0m 0 \u001b[34m...\u001b[0m 1 \u001b[34mhasta ahora es\u001b[0m 0.16351010645189487\n",
            "\u001b[34mLlamada recursiva número\u001b[0m 3657 \u001b[34mFIN\u001b[0m \n",
            "\u001b[32m/____________________________________________________________________/\u001b[0m\n",
            "\u001b[32m¨¨¨¨¨¨¨¨¨¨¨¨¨¨¨¨¨¨¨¨¨¨¨¨¨¨¨¨¨¨¨¨¨¨¨¨¨¨¨¨¨¨¨¨¨¨¨¨¨¨¨¨¨¨¨¨¨¨¨¨¨¨¨¨¨¨¨¨¨¨¨¨¨¨¨¨¨¨¨¨¨¨¨¨¨¨¨¨¨¨¨¨¨¨¨¨¨¨\u001b[0m \u001b[34m\n",
            "Llamada recursiva número: \u001b[0m 3658\n",
            "\u001b[32m**************************************************************************************************************\u001b[0m\n",
            "\u001b[30mEl largo corresponde a\u001b[0m 0 \u001b[30mdatos\u001b[0m\n",
            "\u001b[34mSe tiene como costo óptimo para el árbol de\u001b[0m 0 \u001b[34m...\u001b[0m 2 \u001b[34mdatos\u001b[0m\n",
            "0.5260766461343157 \u001b[34msería entonces el costo con\u001b[0m 2 \u001b[34mde raíz\u001b[0m\n",
            "\u001b[34mEl costo óptimo para el árbol\u001b[0m 0 \u001b[34m...\u001b[0m 2 \u001b[34mhasta ahora es\u001b[0m 0.369573497312196\n",
            "\u001b[34mLlamada recursiva número\u001b[0m 3658 \u001b[34mFIN\u001b[0m \n",
            "\u001b[32m/____________________________________________________________________/\u001b[0m\n",
            "\u001b[33m\n",
            "* El costo óptimo esperado de realizar una búsqueda sería de\u001b[0m 0.9026571010762869 \u001b[33mnodos visitados --\u001b[0m\u001b[33m\n",
            "* Se resolveran\u001b[0m 3658 \u001b[33msub-problemas en total --\u001b[0m\u001b[33m\n",
            "* El árbol tendrá\u001b[0m 3 \u001b[33mnodos --\u001b[0m\n"
          ]
        }
      ]
    },
    {
      "cell_type": "markdown",
      "source": [
        "### **Bottom-Up**"
      ],
      "metadata": {
        "id": "PBq4c_LchxnX"
      }
    },
    {
      "cell_type": "code",
      "source": [
        "cantSubProblem = 0\n",
        "\n",
        "opt = dynamicOptST(k, pi, len(k), True)\n",
        "print(colored(f\"\\n* El costo óptimo esperado de realizar una búsqueda sería de\",\"yellow\"),opt, colored(\"nodos visitados --\",\"yellow\")+\n",
        "      colored(f\"\\n* Se resolveran\",\"yellow\"),cantSubProblem, colored(\"sub-problemas en total --\",\"yellow\")+\n",
        "      colored(f\"\\n* El árbol tendrá\",\"yellow\"), len(k) ,colored(\"nodos --\",\"yellow\"))"
      ],
      "metadata": {
        "colab": {
          "base_uri": "https://localhost:8080/"
        },
        "id": "D8juTA7kMACy",
        "outputId": "6230d684-1d4b-406a-befa-a06afed54c4f"
      },
      "execution_count": null,
      "outputs": [
        {
          "output_type": "stream",
          "name": "stdout",
          "text": [
            "\u001b[32m**************************************************************************************************************\u001b[0m\n",
            "\u001b[30mEl largo corresponde\u001b[0m 1 \u001b[30mdatos\u001b[0m\n",
            "\u001b[32m-------------------------------------------------------------------------------------\u001b[0m\n",
            "\u001b[34mi =\u001b[0m 0 \u001b[34my\u001b[0m \u001b[34mj =\u001b[0m 0\n",
            "\u001b[34mLa suma de frecuencias\u001b[0m 0 \u001b[34m...\u001b[0m 0 \u001b[34mes\u001b[0m 0.1990564332305259\n",
            "------------------------------------------\u001b[0m green\n",
            "\u001b[34mProbemos con\u001b[0m 0 \u001b[34mde raíz\u001b[0m\n",
            "\u001b[34mTenemos como costo optimo para el arbol de\u001b[0m 0 \u001b[34m...\u001b[0m 0 \u001b[34mdatos\u001b[0m\n",
            "0.1990564332305259 \u001b[34mseria el costo con\u001b[0m 0 \u001b[34mde raíz\u001b[0m\n",
            "\u001b[34mEl costo optimo para el arbol\u001b[0m 0 \u001b[34m...\u001b[0m 0 \u001b[34mhasta ahora es\u001b[0m 9999999999\n",
            "\u001b[32m----------\u001b[0m\n",
            "\u001b[34mComo se consiguió un costo mas optimo al guardado anteriormente, lo reemplazamos\u001b[0m\n",
            "\u001b[34mAhora el costo optimo para arbol\u001b[0m 0 \u001b[34m...\u001b[0m 0 \u001b[34mdatos sera\u001b[0m 0.1990564332305259\n",
            "\u001b[32m----------\u001b[0m\n",
            "\u001b[32m-------------------------------------------------------------------------------------\u001b[0m\n",
            "\u001b[34mi =\u001b[0m 1 \u001b[34my\u001b[0m \u001b[34mj =\u001b[0m 1\n",
            "\u001b[34mLa suma de frecuencias\u001b[0m 1 \u001b[34m...\u001b[0m 1 \u001b[34mes\u001b[0m 0.16351010645189487\n",
            "------------------------------------------\u001b[0m green\n",
            "\u001b[34mProbemos con\u001b[0m 1 \u001b[34mde raíz\u001b[0m\n",
            "\u001b[34mTenemos como costo optimo para el arbol de\u001b[0m 1 \u001b[34m...\u001b[0m 1 \u001b[34mdatos\u001b[0m\n",
            "0.16351010645189487 \u001b[34mseria el costo con\u001b[0m 1 \u001b[34mde raíz\u001b[0m\n",
            "\u001b[34mEl costo optimo para el arbol\u001b[0m 1 \u001b[34m...\u001b[0m 1 \u001b[34mhasta ahora es\u001b[0m 9999999999\n",
            "\u001b[32m----------\u001b[0m\n",
            "\u001b[34mComo se consiguió un costo mas optimo al guardado anteriormente, lo reemplazamos\u001b[0m\n",
            "\u001b[34mAhora el costo optimo para arbol\u001b[0m 1 \u001b[34m...\u001b[0m 1 \u001b[34mdatos sera\u001b[0m 0.16351010645189487\n",
            "\u001b[32m----------\u001b[0m\n",
            "\u001b[32m-------------------------------------------------------------------------------------\u001b[0m\n",
            "\u001b[34mi =\u001b[0m 2 \u001b[34my\u001b[0m \u001b[34mj =\u001b[0m 2\n",
            "\u001b[34mLa suma de frecuencias\u001b[0m 2 \u001b[34m...\u001b[0m 2 \u001b[34mes\u001b[0m 0.17051706408167014\n",
            "------------------------------------------\u001b[0m green\n",
            "\u001b[34mProbemos con\u001b[0m 2 \u001b[34mde raíz\u001b[0m\n",
            "\u001b[34mTenemos como costo optimo para el arbol de\u001b[0m 2 \u001b[34m...\u001b[0m 2 \u001b[34mdatos\u001b[0m\n",
            "0.17051706408167014 \u001b[34mseria el costo con\u001b[0m 2 \u001b[34mde raíz\u001b[0m\n",
            "\u001b[34mEl costo optimo para el arbol\u001b[0m 2 \u001b[34m...\u001b[0m 2 \u001b[34mhasta ahora es\u001b[0m 9999999999\n",
            "\u001b[32m----------\u001b[0m\n",
            "\u001b[34mComo se consiguió un costo mas optimo al guardado anteriormente, lo reemplazamos\u001b[0m\n",
            "\u001b[34mAhora el costo optimo para arbol\u001b[0m 2 \u001b[34m...\u001b[0m 2 \u001b[34mdatos sera\u001b[0m 0.17051706408167014\n",
            "\u001b[32m----------\u001b[0m\n",
            "\u001b[32m**************************************************************************************************************\u001b[0m\n",
            "\u001b[30mEl largo corresponde\u001b[0m 2 \u001b[30mdatos\u001b[0m\n",
            "\u001b[32m-------------------------------------------------------------------------------------\u001b[0m\n",
            "\u001b[34mi =\u001b[0m 0 \u001b[34my\u001b[0m \u001b[34mj =\u001b[0m 1\n",
            "\u001b[34mLa suma de frecuencias\u001b[0m 0 \u001b[34m...\u001b[0m 1 \u001b[34mes\u001b[0m 0.3625665396824208\n",
            "------------------------------------------\u001b[0m green\n",
            "\u001b[34mProbemos con\u001b[0m 0 \u001b[34mde raíz\u001b[0m\n",
            "\u001b[34mTenemos como costo optimo para el arbol de\u001b[0m 0 \u001b[34m...\u001b[0m 1 \u001b[34mdatos\u001b[0m\n",
            "0.5260766461343157 \u001b[34mseria el costo con\u001b[0m 0 \u001b[34mde raíz\u001b[0m\n",
            "\u001b[34mEl costo optimo para el arbol\u001b[0m 0 \u001b[34m...\u001b[0m 1 \u001b[34mhasta ahora es\u001b[0m 9999999999\n",
            "\u001b[32m----------\u001b[0m\n",
            "\u001b[34mComo se consiguió un costo mas optimo al guardado anteriormente, lo reemplazamos\u001b[0m\n",
            "\u001b[34mAhora el costo optimo para arbol\u001b[0m 0 \u001b[34m...\u001b[0m 1 \u001b[34mdatos sera\u001b[0m 0.5260766461343157\n",
            "\u001b[32m----------\u001b[0m\n",
            "------------------------------------------\u001b[0m green\n",
            "\u001b[34mProbemos con\u001b[0m 1 \u001b[34mde raíz\u001b[0m\n",
            "\u001b[34mTenemos como costo optimo para el arbol de\u001b[0m 0 \u001b[34m...\u001b[0m 1 \u001b[34mdatos\u001b[0m\n",
            "0.5616229729129467 \u001b[34mseria el costo con\u001b[0m 1 \u001b[34mde raíz\u001b[0m\n",
            "\u001b[34mEl costo optimo para el arbol\u001b[0m 0 \u001b[34m...\u001b[0m 1 \u001b[34mhasta ahora es\u001b[0m 0.5260766461343157\n",
            "\u001b[32m-------------------------------------------------------------------------------------\u001b[0m\n",
            "\u001b[34mi =\u001b[0m 1 \u001b[34my\u001b[0m \u001b[34mj =\u001b[0m 2\n",
            "\u001b[34mLa suma de frecuencias\u001b[0m 1 \u001b[34m...\u001b[0m 2 \u001b[34mes\u001b[0m 0.334027170533565\n",
            "------------------------------------------\u001b[0m green\n",
            "\u001b[34mProbemos con\u001b[0m 1 \u001b[34mde raíz\u001b[0m\n",
            "\u001b[34mTenemos como costo optimo para el arbol de\u001b[0m 1 \u001b[34m...\u001b[0m 2 \u001b[34mdatos\u001b[0m\n",
            "0.5045442346152351 \u001b[34mseria el costo con\u001b[0m 1 \u001b[34mde raíz\u001b[0m\n",
            "\u001b[34mEl costo optimo para el arbol\u001b[0m 1 \u001b[34m...\u001b[0m 2 \u001b[34mhasta ahora es\u001b[0m 9999999999\n",
            "\u001b[32m----------\u001b[0m\n",
            "\u001b[34mComo se consiguió un costo mas optimo al guardado anteriormente, lo reemplazamos\u001b[0m\n",
            "\u001b[34mAhora el costo optimo para arbol\u001b[0m 1 \u001b[34m...\u001b[0m 2 \u001b[34mdatos sera\u001b[0m 0.5045442346152351\n",
            "\u001b[32m----------\u001b[0m\n",
            "------------------------------------------\u001b[0m green\n",
            "\u001b[34mProbemos con\u001b[0m 2 \u001b[34mde raíz\u001b[0m\n",
            "\u001b[34mTenemos como costo optimo para el arbol de\u001b[0m 1 \u001b[34m...\u001b[0m 2 \u001b[34mdatos\u001b[0m\n",
            "0.4975372769854599 \u001b[34mseria el costo con\u001b[0m 2 \u001b[34mde raíz\u001b[0m\n",
            "\u001b[34mEl costo optimo para el arbol\u001b[0m 1 \u001b[34m...\u001b[0m 2 \u001b[34mhasta ahora es\u001b[0m 0.5045442346152351\n",
            "\u001b[32m----------\u001b[0m\n",
            "\u001b[34mComo se consiguió un costo mas optimo al guardado anteriormente, lo reemplazamos\u001b[0m\n",
            "\u001b[34mAhora el costo optimo para arbol\u001b[0m 1 \u001b[34m...\u001b[0m 2 \u001b[34mdatos sera\u001b[0m 0.4975372769854599\n",
            "\u001b[32m----------\u001b[0m\n",
            "\u001b[32m**************************************************************************************************************\u001b[0m\n",
            "\u001b[30mEl largo corresponde\u001b[0m 3 \u001b[30mdatos\u001b[0m\n",
            "\u001b[32m-------------------------------------------------------------------------------------\u001b[0m\n",
            "\u001b[34mi =\u001b[0m 0 \u001b[34my\u001b[0m \u001b[34mj =\u001b[0m 2\n",
            "\u001b[34mLa suma de frecuencias\u001b[0m 0 \u001b[34m...\u001b[0m 2 \u001b[34mes\u001b[0m 0.5330836037640909\n",
            "------------------------------------------\u001b[0m green\n",
            "\u001b[34mProbemos con\u001b[0m 0 \u001b[34mde raíz\u001b[0m\n",
            "\u001b[34mTenemos como costo optimo para el arbol de\u001b[0m 0 \u001b[34m...\u001b[0m 2 \u001b[34mdatos\u001b[0m\n",
            "1.030620880749551 \u001b[34mseria el costo con\u001b[0m 0 \u001b[34mde raíz\u001b[0m\n",
            "\u001b[34mEl costo optimo para el arbol\u001b[0m 0 \u001b[34m...\u001b[0m 2 \u001b[34mhasta ahora es\u001b[0m 9999999999\n",
            "\u001b[32m----------\u001b[0m\n",
            "\u001b[34mComo se consiguió un costo mas optimo al guardado anteriormente, lo reemplazamos\u001b[0m\n",
            "\u001b[34mAhora el costo optimo para arbol\u001b[0m 0 \u001b[34m...\u001b[0m 2 \u001b[34mdatos sera\u001b[0m 1.030620880749551\n",
            "\u001b[32m----------\u001b[0m\n",
            "------------------------------------------\u001b[0m green\n",
            "\u001b[34mProbemos con\u001b[0m 1 \u001b[34mde raíz\u001b[0m\n",
            "\u001b[34mTenemos como costo optimo para el arbol de\u001b[0m 0 \u001b[34m...\u001b[0m 2 \u001b[34mdatos\u001b[0m\n",
            "0.9026571010762869 \u001b[34mseria el costo con\u001b[0m 1 \u001b[34mde raíz\u001b[0m\n",
            "\u001b[34mEl costo optimo para el arbol\u001b[0m 0 \u001b[34m...\u001b[0m 2 \u001b[34mhasta ahora es\u001b[0m 1.030620880749551\n",
            "\u001b[32m----------\u001b[0m\n",
            "\u001b[34mComo se consiguió un costo mas optimo al guardado anteriormente, lo reemplazamos\u001b[0m\n",
            "\u001b[34mAhora el costo optimo para arbol\u001b[0m 0 \u001b[34m...\u001b[0m 2 \u001b[34mdatos sera\u001b[0m 0.9026571010762869\n",
            "\u001b[32m----------\u001b[0m\n",
            "------------------------------------------\u001b[0m green\n",
            "\u001b[34mProbemos con\u001b[0m 2 \u001b[34mde raíz\u001b[0m\n",
            "\u001b[34mTenemos como costo optimo para el arbol de\u001b[0m 0 \u001b[34m...\u001b[0m 2 \u001b[34mdatos\u001b[0m\n",
            "1.0591602498984067 \u001b[34mseria el costo con\u001b[0m 2 \u001b[34mde raíz\u001b[0m\n",
            "\u001b[34mEl costo optimo para el arbol\u001b[0m 0 \u001b[34m...\u001b[0m 2 \u001b[34mhasta ahora es\u001b[0m 0.9026571010762869\n",
            "\u001b[32m**************************************************************************************************************\u001b[0m\n",
            "\u001b[33m\n",
            "* El costo óptimo esperado de realizar una búsqueda sería de\u001b[0m 0.9026571010762869 \u001b[33mnodos visitados --\u001b[0m\u001b[33m\n",
            "* Se resolveran\u001b[0m 8 \u001b[33msub-problemas en total --\u001b[0m\u001b[33m\n",
            "* El árbol tendrá\u001b[0m 3 \u001b[33mnodos --\u001b[0m\n"
          ]
        }
      ]
    },
    {
      "cell_type": "markdown",
      "source": [
        "## Ejecución en matriz\n",
        "\n",
        "Solo la aproximación BottomUp utiliza Matriz:"
      ],
      "metadata": {
        "id": "RFlmkWoOhe7B"
      }
    },
    {
      "cell_type": "code",
      "source": [
        "SubProblemas = 0\n",
        "opt = dynamicOptST(k, pi, len(k), False, True)\n",
        "print(colored(f\"\\n* El costo óptimo esperado de realizar una búsqueda sería de\",\"yellow\"),opt, colored(\"nodos visitados --\",\"yellow\")+\n",
        "      colored(f\"\\n* Se resolveran\",\"yellow\"),SubProblemas, colored(\"sub-problemas en total --\",\"yellow\")+\n",
        "      colored(f\"\\n* El árbol tendrá\",\"yellow\"), len(k) ,colored(\"nodos --\",\"yellow\"))\n",
        "print(\"\\n\")\n",
        " \n",
        "print(colored(\"/-----------             Árbol                -----------/\",\"blue\")) # No se pudo lograr implementar correctamente "
      ],
      "metadata": {
        "colab": {
          "base_uri": "https://localhost:8080/",
          "height": 510
        },
        "id": "3G4Tb4gWh60r",
        "outputId": "8bf3c6f9-f29a-4768-bb82-963685f71ab7"
      },
      "execution_count": null,
      "outputs": [
        {
          "output_type": "stream",
          "name": "stdout",
          "text": [
            "Raíz:\n",
            "1.0, 1.0, 2.0 \n",
            "0.0, 2.0, 3.0 \n",
            "0.0, 0.0, 3.0 \n",
            "\u001b[33m\n",
            "* El costo óptimo esperado de realizar una búsqueda sería de\u001b[0m 0.9026571010762869 \u001b[33mnodos visitados --\u001b[0m\u001b[33m\n",
            "* Se resolveran\u001b[0m 0 \u001b[33msub-problemas en total --\u001b[0m\u001b[33m\n",
            "* El árbol tendrá\u001b[0m 3 \u001b[33mnodos --\u001b[0m\n",
            "\n",
            "\n",
            "\u001b[34m/-----------             Árbol                -----------/\u001b[0m\n"
          ]
        },
        {
          "output_type": "display_data",
          "data": {
            "text/plain": [
              "<Figure size 432x288 with 1 Axes>"
            ],
            "image/png": "[encoded data removed]"
          },
          "metadata": {}
        }
      ]
    },
    {
      "cell_type": "markdown",
      "source": [
        "# **3.Tiempo de ejecución**\n",
        "\n",
        "\n",
        "## **Bottom-up**\n",
        "\n",
        "### *Teorema (Complejidad Temporal).*\n",
        "\n",
        "El algoritmo Optimal Binary Search Tree implementado a traves de ***Bottom-up*** tiene un ***tiempo de ejecución*** de $O(n^3)$.\n",
        "\n",
        "### *Prueba del teorema.*\n",
        "\n",
        "**Lógica**\n",
        "\n",
        "Para la resolución de este problema tenemos 3 bucles, el bucle grande es para recorrer el tamaño de la cadena que conformara los nodos del árbol. El bucle mediano maneja la obtención de algunos datos, además de comprobar que se puede seguir. Y finalmente el bucle más interno, se encarga de todos los sub-problemas a resolver antes de ser capaz de resolver el problema real (refiriéndose a probar combinaciones usando cada dato como raíz y evaluando el costo de las operaciones para los árboles de menor tamaño).\n",
        "\n",
        "Cada problema tiene en cuenta que tenemos el costo óptimo de sus sub-problemas (el problema para árboles más pequeños y del mismo tamaño con raíz distinta). Y con ese dato, dentro del bucle chico se resuelve el problema en un tiempo de ejecución $n-1 \\rightarrow O(n)$\n",
        "\n",
        "Para el costo *óptimo* del árbol con $n^2$ veces un problema con tiempo de ejecución $O(n)$. Por eso el algoritmo **bottom-up** para resolver `Optimal Binary Search Tree` es de $n * (\\frac{n^2}{2}-1) → O(n^3)$.\n",
        "\n",
        "**Problema matemático**\n",
        "\n",
        "Podemos ver el tiempo de ejecución de todos los subproblemas como sumatoria, debemos resolver todos los subproblemas de tamaño $j=1...n$ por cada valor tomado de raíz siendo $n$ raíces posibles, el total de tiempo de ejecución de los subproblemas seria la suma de todos los subproblemas.\n",
        "\n",
        "Cada subproblema tiene tiempo de ejecución $T_{sub}(n) = n$.\n",
        "\n",
        "$\\frac{1}{2} * \\displaystyle \\sum_{j=0}^{n-1}T_{sub}(j)^2 = \\frac{(n-1)(n-2)(2(n-1)+1)}{12} = = \\frac{(n^2 - 3n + 2)(2n-1)}{12} = \\frac{2n^3 - 6n^2 + 4n - n^2 + 3n -2}{12} = \\frac{2n^3 - 7n^2 + 7n -2}{12} → O(n^3)$\n",
        "\n",
        "Y el tiempo de ejecución del problema sería el de los subproblemas más $n$ (siendo $n$ el tiempo del problema con los subproblemas resueltos).\n",
        "\n",
        "Quedando lo siguiente como complejidad del algoritmo:\n",
        "\n",
        "$\\frac{2n^3 - 7n^2 + 7n -2}{12} + n = \\frac{2n^3 - 7n^2 + 7n + 12n -2}{12} = \\frac{2n^3 - 7n^2 + 19n -2}{12} → O(n^3)$"
      ],
      "metadata": {
        "id": "VASqmIPKTcPn"
      }
    },
    {
      "cell_type": "markdown",
      "source": [
        "###*Teorema (Complejidad Espacial)*.\n",
        "\n",
        "*El algoritmo \"Optimal Binary Search Tree\" implementado a través de **Bottom-up** tiene una complejidad espacial de $O(n^2)$.*"
      ],
      "metadata": {
        "id": "Boj5qMJizI37"
      }
    },
    {
      "cell_type": "markdown",
      "source": [
        "####*Prueba del teorema.*\n",
        "\n",
        "Para la resolución de este problema, además de los datos necesario que deben ser proporcionados, se debe crear una matriz de *costos* $cost$ de $n$ x $n$ dimensiones, donde se irán guardando los *costos óptimos* de cada subproblema}.\n",
        "\n",
        "Por ejemplo, en el cuando tengamos el tamaño $x=4$, guardaremos su *costo óptimo* en $cost_4$ para su posterior uso cuando tengamos $x=x+1$.\n",
        "\n",
        "Por eso la memoria extra que requiere el problema es de $n^2 \\rightarrow O(n^2)$.\n",
        "\n",
        "Ahora si queremos crear el *árbol* que tiene *costo óptimo* necesitaremos además una matriz de *raíz* $root$ de $n$ x $n$ dimensiones.\n",
        "\n",
        "\n",
        "Por eso, para poder crear el *árbol* de *costo óptimo* la memoria extra que requiere el problema es de $n^2 + n^2 = 2n^2 \\rightarrow O(n^2)$."
      ],
      "metadata": {
        "id": "YG-guGCkzROG"
      }
    },
    {
      "cell_type": "markdown",
      "source": [
        "# **4. Correctitud**\n",
        "\n",
        "## **Bottom-up**\n",
        "\n",
        "### **Teorema (Correctitud).**\n",
        "\n",
        "El algoritmo entrega el costo optimo, es decir, cantidad de nodos esperados a visitar al realizar una búsqueda en un árbol de búsqueda binario de $n$ nodos.\n",
        "\n",
        "#### **Prueba del Teorema**\n",
        "\n",
        "Probaremos la siguiente **propiedad invariante de bucle** para el algoritmo `Optimal Binary Search Tree`:\n",
        "\n",
        "> Al comienzo de cada iteración $i$ del bucle más grande, tendremos el costo óptimo de nodos a visitar del *árbol* con $i=i-1...0$ *nodos* calculado y guardado.\n",
        "\n",
        "Esto es debido a que para obtener el costo optimo del *árbol de busqueda binara* prueba cada dato como nodo raiz evaluando el costo de dicho nodo como raiz mas el costo de cada posible sub-árbol que se puede formar.\n",
        "\n",
        "#### **Inicialización**\n",
        "\n",
        "Al comienzo de la primera iteración $i=1$, tendremos el costo óptimo del *árbol* con $i-1=0$ *nodos* lo cual es cierto, pues independientemente del término buscado, si el *árbol* tiene $0$ *nodos*. Entonces el costo optimo del *árbol* con $1$ *nodo* será el nodo que tenga menor frecuencia actuando como raíz en un *árbol* de $1$ *nodo*. Y se usara para $i>1$.\n",
        "\n",
        "\n",
        "#### **Mantención**\n",
        "\n",
        "Aplicando inducción, asumimos que al comienzo de cada iteración  se cumple la propiedad. Es decir, en la iteración $i$ tenemos el *costo óptimo* para los problemas $i=i-1...0$ calculado.\n",
        "\n",
        "Consideremos que $i=x$ como el tamaño del problema con $x < n$.\n",
        "\n",
        "En el bucle de en medio se obtiene el costo del dato $x$ y todos los datos que son menores llamándolo *sumaDeFreq* y el valor de $j$-\n",
        "\n",
        "Dentro del bucle más pequeño, se calcula *costo óptimo* al usar de *raíz* $b$ de tal manera que $b=x...j$ usando los *costos óptimos* de datos previos a $x$ + la *sumaDeFreq*. Luego se comprueba si este resultado es un *costo óptimo* mayor al *costo optimo* más pequeño encontrado. Esto ocurre para cada valor de *raíz* posible de tomar.\n",
        "\n",
        "A medida que la cantidad de datos que tendrá el *árbol* aumenta, el *costo óptimo* cambia.\n",
        "\n",
        "Al finalizar la iteración $i=x$ (y al comienzo de la siguiente $i=x+1$), se seguirá cumpliendo la **propiedad invariante**.\n",
        "\n",
        "####**Correctitud**\n",
        "\n",
        "Finalmente, como la **propiedad de bucle invariante** es verdadera al inicio del bucle y se mantiene en cada iteración, podemos decir que al finalizar la $n$-ésima iteración del algoritmo, se obtendrá el costo óptimo de una búsqueda en un *árbol binario* con $n$ *nodos*.\n"
      ],
      "metadata": {
        "id": "1yHq3dIfzxW6"
      }
    },
    {
      "cell_type": "markdown",
      "source": [
        "# **5. Experimentos**\n",
        "\n",
        "\n",
        "A continuación se realizará un experimento el cual incluye investigar:\n",
        "\n",
        "* Observar lo que ocurre con el tiempo de ambos algoritmos a medida que crece el tamaño del problema.\n",
        "* Observar lo que ocurre con el tiempo de ambos algoritmos y con el costo esperado calculado, si es que seleccionamos al elemento con mayor probabilidad de ser buscado como raiz del árbol (no consideramos otros elementos como raíz). Comentar si vale la pena realizar este cambio para problemas con n grande.\n",
        "\n"
      ],
      "metadata": {
        "id": "JgQ_fwH7AqSZ"
      }
    },
    {
      "cell_type": "markdown",
      "source": [
        "## **Implementación de gráficas**"
      ],
      "metadata": {
        "id": "zsGuR8stBPwX"
      }
    },
    {
      "cell_type": "code",
      "source": [
        "import matplotlib.pyplot as plt\n",
        "import datetime\n",
        "from timeit import repeat\n",
        "\n",
        "x=[]; y=[]; y1=[]\n",
        "\n",
        "for n in range(1,9):\n",
        "    keys, p, q = OBIG(n)\n",
        "    cantSubProblem = 0\n",
        "    llamadasRecursivas = 0\n",
        "\n",
        "    #la función repeat está ejecutando 5 veces optimalSearchTreeBottomUp y optimalSearchTreeRecursivo con el arreglo a y retorna el mejor tiepo obtenido.\n",
        "    t1 = repeat(setup=\"from __main__ import dynamicOptST\", stmt=f\"dynamicOptST({keys}, {p}, {len(keys)})\", repeat=1, number=10)\n",
        "    t = repeat(setup=\"from __main__ import recurisveST\", stmt=f\"recurisveST({keys}, {p}, {len(keys)})\", repeat=1, number=10)\n",
        "\n",
        "    x.append(n)\n",
        "    y.append(t)\n",
        "    y1.append(t1)\n",
        "\n",
        "\n",
        "plt.plot(x,y)\n",
        "plt.plot(x,y1)\n",
        "plt.legend([\"Recursivo\", \"Bottom Up\"])\n",
        "\n",
        "plt.xlabel('n')\n",
        "plt.ylabel('Tiempo en ms')\n",
        "plt.show()"
      ],
      "metadata": {
        "colab": {
          "base_uri": "https://localhost:8080/",
          "height": 279
        },
        "id": "gZrRNQbgMm1n",
        "outputId": "c4e2376d-1fd4-4b2c-e514-493d34974ea6"
      },
      "execution_count": null,
      "outputs": [
        {
          "output_type": "display_data",
          "data": {
            "text/plain": [
              "<Figure size 432x288 with 1 Axes>"
            ],
            "image/png": "[encoded data removed]"
          },
          "metadata": {
            "needs_background": "light"
          }
        }
      ]
    },
    {
      "cell_type": "markdown",
      "source": [
        "## **Con crecimiento en la cantidad de problemas**"
      ],
      "metadata": {
        "id": "8sxnMuJaU5bq"
      }
    },
    {
      "cell_type": "code",
      "source": [
        "import matplotlib.pyplot as plt\n",
        "import datetime\n",
        "from timeit import repeat\n",
        "\n",
        "x=[]; y=[]; y1=[]\n",
        "\n",
        "for n in range(1,15):\n",
        "    keys, p, q = OBIG(n)\n",
        "    cantSubProblem = 0\n",
        "    llamadasRecursivas = 0\n",
        "\n",
        "    #la función repeat está ejecutando 5 veces optimalSearchTreeBottomUp y optimalSearchTreeRecursivo con el arreglo a y retorna el mejor tiepo obtenido.\n",
        "    t1 = repeat(setup=\"from __main__ import dynamicOptST\", stmt=f\"dynamicOptST({keys}, {p}, {len(keys)})\", repeat=1, number=10)\n",
        "    t = repeat(setup=\"from __main__ import recurisveST\", stmt=f\"recurisveST({keys}, {p}, {len(keys)})\", repeat=1, number=10)\n",
        "\n",
        "    x.append(n)\n",
        "    y.append(t)\n",
        "    y1.append(t1)\n",
        "\n",
        "\n",
        "plt.plot(x,y)\n",
        "plt.plot(x,y1)\n",
        "plt.legend([\"Recursivo\", \"Bottom Up\"])\n",
        "\n",
        "plt.xlabel('n')\n",
        "plt.ylabel('Tiempo en ms')\n",
        "plt.show()"
      ],
      "metadata": {
        "colab": {
          "base_uri": "https://localhost:8080/",
          "height": 279
        },
        "id": "3V-kWWCdBN0k",
        "outputId": "5f6f31d3-b558-4b75-ef29-394d0a57e319"
      },
      "execution_count": null,
      "outputs": [
        {
          "output_type": "display_data",
          "data": {
            "text/plain": [
              "<Figure size 432x288 with 1 Axes>"
            ],
            "image/png": "[encoded data removed]"
          },
          "metadata": {
            "needs_background": "light"
          }
        }
      ]
    },
    {
      "cell_type": "markdown",
      "source": [
        "# **Análisis de resultados**\n",
        "\n",
        "El resultado esperado sería que una implementación **dinámica** presentara menores tiempos que una **estática** (recursiva). A continuacuón se analizará si dicha declaración se cumplió o no.\n",
        "\n",
        "La estratégia usada en la aproximación **bottom-Up** demostró una mayor eficiencia respecto a su contraparte recursiva, la diferencia de tiempo de ejecución entre ambas se hace exponencialmente mayor a que medida que el árbol crece en tamaño. Es apreciable que en ambas gráficas (la con más y menos nodos) la diferencia se hace mucho más notoria en cuanto $n$ alcanza un valor múltiplo de 6.\n",
        "\n",
        "La causa de esta notoria diferencia es su propia implementación, es decir, la manera **recursiva** utiliza el paradigma \"*fuerza bruta*\", apreciable en el hecho de que se llama a sí misma para resolver subproblemas en repetidas ocasiones sin optimizar este proceso, por ello suele aumentar exponencialmente de tiempo conforme más crezca el árbol. Por su parte, la manera Dinámica o Bottom-up utiliza el método de la memorización para evitar la recursión, el cual, utilizando una matriz, permite almacenar subproblemas anteriores sin la necesidad de repetirlos para realizar nuevos cálculos. \n",
        "\n",
        "Por su parte el hecho de que crezca tanto en los múltiplos de 6, es debido a un efecto visual, pues, los rangos de $n$ seleccionados en ambas gráficas provocan que, por proporción, pareciera que justamente en esos puntos la gráfica creciera más en comparación a otros.\n",
        "\n",
        "\n",
        "\n"
      ],
      "metadata": {
        "id": "GoEZgl3JZn5W"
      }
    }
  ]
}