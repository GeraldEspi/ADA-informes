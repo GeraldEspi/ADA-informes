{
  "cells": [
    {
      "cell_type": "markdown",
      "metadata": {
        "id": "view-in-github",
        "colab_type": "text"
      },
      "source": [
        "<a href=\"https://colab.research.google.com/github/GeraldEspi/ADA-informes/blob/main/BucketSort_Informe5.ipynb\" target=\"_parent\"><img src=\"https://colab.research.google.com/assets/colab-badge.svg\" alt=\"Open In Colab\"/></a>"
      ]
    },
    {
      "cell_type": "markdown",
      "metadata": {
        "id": "ONP99Qhwk2zZ"
      },
      "source": [
        "#1. Problema de ordenamiento.\n",
        "\n",
        "Los problemas de ordenamiento en la computación son un problema que a persistido desde los inicios de la informática, tener un registro de distintos datos ordenados respecto a ciertos paramétros cuantificables permite resolver, como efecto secundario, otra variedad de problemas que solicitan que ciertos datos posean una organización específica, ya sea para una búsqueda más sencilla por mano de un operador o en su defecto, para una lectura más eficiente desde otra función u programa que solicite dichos datos.\n",
        "\n",
        "**Entrada**: Secuencia de n números $[a_1,a_2,...,a_n]$\n",
        "\n",
        "**Salida**: Permutación ordenada de la secuencia de entrada: $[a_1',a_2',...,a_n']$\n",
        ", de tal manera que $a_1'\\leq a_2' \\leq... \\leq a_n'$.\n",
        "\n",
        "**Ejemplo:**\n",
        "\n",
        ">Un usuario requiere ver los precios de ciertos productos en la página de una tienda,los precios comienzan desde el producto más barato hasta el más caro. Debido a la gran cantidad de artículos relacionados a su búsqueda, para llegar a la sección en la que se encuentra su presupuesto requeriría de mover varias secciones más adelante, atrasando su búsuqueda, por ende, para una mayor agilización del proceso el usuario cambia el orden de menor a mayor, a mayor y menor. La **búsqueda se facilita**.\n",
        "\n",
        "\n",
        "Precios.\n",
        "\n",
        "![image](https://cdn.discordapp.com/attachments/838249461268217916/1017699118921043998/Dividir_4.png)\n",
        "\n",
        "*Imágen hecha en canvas.*\n",
        "\n"
      ]
    },
    {
      "cell_type": "markdown",
      "metadata": {
        "id": "ANKyADCxlC15"
      },
      "source": [
        "## Código"
      ]
    },
    {
      "cell_type": "code",
      "source": [
        "def insertionSort(arr, verbose = False):\n",
        "  \n",
        "    #se recorre el arreglo\n",
        "    for i in range(1, len(arr)):\n",
        "  \n",
        "        key = arr[i]\n",
        "        j = i-1\n",
        "        while j >= 0 and key < arr[j] :\n",
        "                arr[j + 1] = arr[j]\n",
        "                j -= 1\n",
        "        arr[j + 1] = key\n",
        "  "
      ],
      "metadata": {
        "id": "YOaDe7Sm8qWA"
      },
      "execution_count": 53,
      "outputs": []
    },
    {
      "cell_type": "code",
      "execution_count": 176,
      "metadata": {
        "colab": {
          "base_uri": "https://localhost:8080/"
        },
        "id": "1D2VJuzRkP5z",
        "outputId": "0b149065-eb3f-4d59-f23f-1c769ae504fb"
      },
      "outputs": [
        {
          "output_type": "stream",
          "name": "stdout",
          "text": [
            "\u001b[34m \\-----/\u001b[0m \u001b[33mArreglo de entrada:\u001b[0m [29, 12, 3, 49, 9, 21, 43] \u001b[34m\\-----/\u001b[0m \n",
            "\n",
            "\n",
            " \u001b[34m\\-----/\u001b[0m \u001b[33mArreglo de salida: \u001b[0m[3, 9, 12, 21, 29, 43, 49]\u001b[34m \\-----/\u001b[0m\n"
          ]
        }
      ],
      "source": [
        "from matplotlib.cbook import contiguous_regions\n",
        "from termcolor import colored\n",
        "\n",
        "def bucket_sort(alist, verbose = False):\n",
        "    # Establece los largos\n",
        "    largest = max(alist)\n",
        "    length = len(alist)\n",
        "    size = largest/length\n",
        "\n",
        "    # Crea los buckets vacíos\n",
        "    buckets = [[] for _ in range(length)]\n",
        "    if verbose:print(colored(\"Elementos asignados a cada Bucket: \", \"blue\"))\n",
        "\n",
        "    #Inserta los elementos en los respectivos buckets\n",
        "    for i in range(length):\n",
        "        j = int(alist[i]/size)\n",
        "        if j != length:\n",
        "            buckets[j].append(alist[i])\n",
        "        else:\n",
        "            buckets[length - 1].append(alist[i])\n",
        "    \n",
        "    cont = 0\n",
        "    for i in range(length):\n",
        "     \n",
        "        cont += 1\n",
        "        if verbose:print(colored(\"Bucket\", \"green\"), \"[\", cont,\"]\", end = \": \")\n",
        "        if verbose:print(buckets[i])\n",
        "    if verbose:print(colored(\"\\n------------------------------------------\\n\",\"blue\"))\n",
        "    if verbose:print(colored(\"Elementos ordenados en cada Bucket: \", \"blue\"))\n",
        "\n",
        "    for i in range(length):\n",
        "        insertionSort(buckets[i])\n",
        "        if verbose:print(colored(\"Bucket\", \"green\") ,\"[\", i,\"]\", end = \": \")\n",
        "        if verbose:print(buckets[i])\n",
        " \n",
        "    result = []\n",
        "    for i in range(length):\n",
        "        result = result + buckets[i]\n",
        "    if verbose:print(colored(\"\\n------------------------------------------\\n\",\"blue\"))\n",
        "    if verbose:print(colored(\"Se concatenan:\", \"blue\"))\n",
        "    cont = 0\n",
        "    for i in range(length):\n",
        "        for j in range(len(buckets[i])):\n",
        "            if verbose:print(colored(\"------\",\"blue\"))\n",
        "            if verbose:print(colored(f\"En el arreglo de entrada ingresan:\",\"green\"), (f\"[{i}][{j}] = {buckets[i][j]}\"))\n",
        "            if verbose:print(colored(f\"#lista\" ,\"green\"),\"[\", (f\"{cont}\"),\"]\", \"=\", (f\"{buckets[i][j]}\"))\n",
        "            alist[cont] = buckets[i][j]\n",
        "            cont += 1\n",
        "            if verbose:print(colored(\"Queda entonces:\",\"green\"), (f\"{alist[:cont]}\"))\n",
        " \n",
        "    return result\n",
        " \n",
        "\n",
        "alist = [29, 12, 3, 49, 9, 21, 43]\n",
        "print(colored(\" \\-----/\",\"blue\"),colored(\"Arreglo de entrada:\",\"yellow\"), alist,colored(\"\\-----/\",\"blue\"),\"\\n\")\n",
        "sorted_list = bucket_sort(alist)\n",
        "print('\\n',colored(\"\\-----/\",\"blue\"),colored('Arreglo de salida: ', \"yellow\"), end='')\n",
        "print(sorted_list, end = \"\")\n",
        "print(colored(\" \\-----/\",\"blue\"))"
      ]
    },
    {
      "cell_type": "markdown",
      "metadata": {
        "id": "e21VFLxnMHDd"
      },
      "source": [
        "# 2. Descripción del algoritmo\n",
        "\n",
        "BucketSort es un algoritmo altamente eficiente en rangos de datos que se encuentren uniformemente distrbuidos, dicho de otro modo, ordena de manera eficiente si dichos datos no se salen de un rango establecido. \n",
        "\n",
        "**No ordena números negativos**, solo positivos. Debido a que el algoritmo no está diseñado para eso y por ende pierde su utilidad y eficiencia si se intenta.\n",
        "\n",
        "De manera individual, BucketSort solo crea y gestiona los bucket donde los números del arreglo serán almacenados, pero no los ordena. Por ende ecesita de una función Sort auxiliar para que ordene que cada bucket de manera individual.\n",
        "\n",
        "El algoritmo utilizado por BucketSort podría resumirse en los siguientes pasos:\n",
        "\n",
        "\n",
        "> 1.- Inicializar una cantidad n de *buckets* **vacíos**. Dichos solo almacenarán los datos que entren dentro de su rango.\n",
        "\n",
        "![image](https://cdn.discordapp.com/attachments/838249461268217916/1017858344666550382/Dividir_4.png)\n",
        "\n",
        "*Imágen hecha en canvas*\n",
        "\n",
        ">2.- En base al arreglo original, posiciona cada elemento en el *bucket* que, según su rango. (Scatter, Dispersión)\n",
        "\n",
        "![image](https://cdn.discordapp.com/attachments/838249461268217916/1017859550747041882/Dividir_5.png)\n",
        "\n",
        "*Imágen hecha en canvas*\n",
        "\n",
        ">3.-Ordenar todos los *bucket* no **vacíos**, utilizando InsertionSort.\n",
        "\n",
        ">4.- Finalmente, se visita cada *bucket* en orden y se posicionan todos los elementos en el arreglo origial. (Gather, Recolección)\n",
        "\n",
        "![image](https://cdn.discordapp.com/attachments/838249461268217916/1017861442952777778/Dividir_6.png)\n",
        "\n",
        "*Imágen hecha en canvas*\n",
        "\n",
        "Debido a la propia implementación del algoritmo, el no tener una distribución uniforme dentro de los datos causa por ende, \n",
        "\n",
        "\n",
        "\n"
      ]
    },
    {
      "cell_type": "markdown",
      "metadata": {
        "id": "lRIVkCkRzkRC"
      },
      "source": [
        "# Ejemplo"
      ]
    },
    {
      "cell_type": "code",
      "execution_count": 177,
      "metadata": {
        "id": "2tzN6Cj5zjo3",
        "colab": {
          "base_uri": "https://localhost:8080/"
        },
        "outputId": "04c43c92-bf19-4356-838e-f971dea9d2bf"
      },
      "outputs": [
        {
          "output_type": "stream",
          "name": "stdout",
          "text": [
            "\u001b[34m \\-----/\u001b[0m \u001b[33mArreglo de entrada:\u001b[0m [1, 9, 23, 27, 30, 34, 45] \u001b[34m\\-----/\u001b[0m \n",
            "\n",
            "\u001b[34mElementos asignados a cada Bucket: \u001b[0m\n",
            "\u001b[32mBucket\u001b[0m [ 1 ]: [1]\n",
            "\u001b[32mBucket\u001b[0m [ 2 ]: [9]\n",
            "\u001b[32mBucket\u001b[0m [ 3 ]: []\n",
            "\u001b[32mBucket\u001b[0m [ 4 ]: [23]\n",
            "\u001b[32mBucket\u001b[0m [ 5 ]: [27, 30]\n",
            "\u001b[32mBucket\u001b[0m [ 6 ]: [34]\n",
            "\u001b[32mBucket\u001b[0m [ 7 ]: [45]\n",
            "\u001b[34m\n",
            "------------------------------------------\n",
            "\u001b[0m\n",
            "\u001b[34mElementos ordenados en cada Bucket: \u001b[0m\n",
            "\u001b[32mBucket\u001b[0m [ 0 ]: [1]\n",
            "\u001b[32mBucket\u001b[0m [ 1 ]: [9]\n",
            "\u001b[32mBucket\u001b[0m [ 2 ]: []\n",
            "\u001b[32mBucket\u001b[0m [ 3 ]: [23]\n",
            "\u001b[32mBucket\u001b[0m [ 4 ]: [27, 30]\n",
            "\u001b[32mBucket\u001b[0m [ 5 ]: [34]\n",
            "\u001b[32mBucket\u001b[0m [ 6 ]: [45]\n",
            "\u001b[34m\n",
            "------------------------------------------\n",
            "\u001b[0m\n",
            "\u001b[34mSe concatenan:\u001b[0m\n",
            "\u001b[34m------\u001b[0m\n",
            "\u001b[32mEn el arreglo de entrada ingresan:\u001b[0m [0][0] = 1\n",
            "\u001b[32m#lista\u001b[0m [ 0 ] = 1\n",
            "\u001b[32mQueda entonces:\u001b[0m [1]\n",
            "\u001b[34m------\u001b[0m\n",
            "\u001b[32mEn el arreglo de entrada ingresan:\u001b[0m [1][0] = 9\n",
            "\u001b[32m#lista\u001b[0m [ 1 ] = 9\n",
            "\u001b[32mQueda entonces:\u001b[0m [1, 9]\n",
            "\u001b[34m------\u001b[0m\n",
            "\u001b[32mEn el arreglo de entrada ingresan:\u001b[0m [3][0] = 23\n",
            "\u001b[32m#lista\u001b[0m [ 2 ] = 23\n",
            "\u001b[32mQueda entonces:\u001b[0m [1, 9, 23]\n",
            "\u001b[34m------\u001b[0m\n",
            "\u001b[32mEn el arreglo de entrada ingresan:\u001b[0m [4][0] = 27\n",
            "\u001b[32m#lista\u001b[0m [ 3 ] = 27\n",
            "\u001b[32mQueda entonces:\u001b[0m [1, 9, 23, 27]\n",
            "\u001b[34m------\u001b[0m\n",
            "\u001b[32mEn el arreglo de entrada ingresan:\u001b[0m [4][1] = 30\n",
            "\u001b[32m#lista\u001b[0m [ 4 ] = 30\n",
            "\u001b[32mQueda entonces:\u001b[0m [1, 9, 23, 27, 30]\n",
            "\u001b[34m------\u001b[0m\n",
            "\u001b[32mEn el arreglo de entrada ingresan:\u001b[0m [5][0] = 34\n",
            "\u001b[32m#lista\u001b[0m [ 5 ] = 34\n",
            "\u001b[32mQueda entonces:\u001b[0m [1, 9, 23, 27, 30, 34]\n",
            "\u001b[34m------\u001b[0m\n",
            "\u001b[32mEn el arreglo de entrada ingresan:\u001b[0m [6][0] = 45\n",
            "\u001b[32m#lista\u001b[0m [ 6 ] = 45\n",
            "\u001b[32mQueda entonces:\u001b[0m [1, 9, 23, 27, 30, 34, 45]\n",
            "\n",
            " \u001b[34m\\-----/\u001b[0m \u001b[33mArreglo de salida: \u001b[0m[1, 9, 23, 27, 30, 34, 45]\u001b[34m \\-----/\u001b[0m\n"
          ]
        }
      ],
      "source": [
        "alist = [1,9,23,27,30,34,45]\n",
        "print(colored(\" \\-----/\",\"blue\"),colored(\"Arreglo de entrada:\",\"yellow\"), alist,colored(\"\\-----/\",\"blue\"),\"\\n\")\n",
        "sorted_list = bucket_sort(alist, verbose = True)\n",
        "print('\\n',colored(\"\\-----/\",\"blue\"),colored('Arreglo de salida: ', \"yellow\"), end='')\n",
        "print(sorted_list, end = \"\")\n",
        "print(colored(\" \\-----/\",\"blue\"))"
      ]
    },
    {
      "cell_type": "markdown",
      "metadata": {
        "id": "vhBKkp9XnCWb"
      },
      "source": [
        "# 3. Tiempo de ejecución\n",
        "\n",
        "Se establece.\n",
        "\n",
        ">**Caso promedio**: $O(n)$\n",
        "\n",
        "> **Peor caso**: $O(n^2)$\n",
        "\n",
        "### **Caso promedio**\n",
        "\n",
        "El tiempo de ejecución de BucketSort varía según la situación que se presente a la hora de ordenar los datos de entrada. En primera instancia, cuando los datos se encuentran distrubuidos de manera aleatoria, presenta una complejidad lineal $O(n)$, dado que ambas funciones (Insertion y Bucket sort) logran el orden sin recurrir a recursión y tienden a ser lineales.\n",
        "\n",
        "En el caso concreto de InsertionSort, esta tiende a la linealidad debido a la propia implementación del algoritmo, donde una versión simplificada del arreglo es entregada a InsertionSort.\n",
        "\n",
        ">*Imágen hecha en canvas.*\n",
        "\n",
        "![image](https://cdn.discordapp.com/attachments/838249461268217916/1017675124473868349/Dividir_2.png)\n",
        "\n",
        "**Rango [0,1]**\n",
        ">**Ejemplo caso promedio**: $[0.3,.67,0.68,0.10,0.70]$\n",
        "\n",
        "Comúnmente InsertionSort posee una complejidad cuadrática $O(n^2)$ en su caso promedio, pero para casos en el que el arreglo de entrada está parcialmente ordenado pasa a ser una función linear $O(n)$. Esta pecualiaridad hace que sea bastante eficiente en conjunto a BucketSort.\n",
        "\n",
        "El caso promedio puede mejorar sustancialmente si los datos de entrada se encuentran parcialmente ordenados. Esto ya que se dará el caso en el que dentro de los \"buckets\" hayan elementos ya ordenados y posicionados correctamente, agilizando el proceso, aún así, la complejidad cuando esto ocurre ya sea en varias ocasiones o solo una vez, sigue siendo lineal $O(n)$.\n",
        "\n",
        "###**Peor caso**\n",
        "\n",
        "El peor caso por su parte se da cuando los datos del arreglo de entrada tiene un corto rango entre sus elementos, es decir, cuando los datos de arreglo son cercanos entre sí, por ejemplo un arreglo de rango  $[1,5]$. Esto daría como resultado que algunos \"buckets\" tuvieran más elementos que otros, realentizando el proceso. \n",
        "\n",
        "**Se busca ordenar de menor a mayor.**\n",
        "\n",
        ">**Ejemplo caso desfavorable**: $[1,4.3,5,3.7,2.1]$\n",
        "\n",
        ">**Ejemplo caso altamente desfavorable**: $[5,4.3,3.2,2.1,1.3]$\n",
        "\n",
        "Sí se usa en conjunto de InsertionSort, como en la presente situación, un caso altamente desfavorable ocurre cuando el arreglo de entrada se encuentra ordenado de manera inversa a la deseada haciendo que el tiempo de ejecucuón crezca $O(n^2)$.\n",
        "\n"
      ]
    },
    {
      "cell_type": "markdown",
      "source": [
        "# 4. Correctitud"
      ],
      "metadata": {
        "id": "1nhdrCNI0OWJ"
      }
    },
    {
      "cell_type": "markdown",
      "source": [
        "## Bucket Sort\n",
        "\n",
        "### **Teorema (Correctitud).**\n",
        "\n",
        "El algoritmo ***Bucket Sort*** genera 10 buckets(subintervalos) con los elementos del arreglo de entrada donde corresponde, cada bucket se ordena de menor a mayor, es decir, $a_1\\leq a_2 \\leq... \\leq a_n$\n",
        ", y luego los bucket se ingresan al arreglo desde el bucket[0] al bucket[9].\n",
        "\n",
        "## **Prueba del Teorema**\n",
        "\n",
        "Para probar la correctitud de **Bucket** **Sort** usaremos **inducción** **matemática** debido a la recursividad del algoritmo.\n",
        "\n",
        ">En **inducción matemática**, para probar una declaración, o teorema en este caso, para todos los casos posibles, típicamente debemos comprobar si lo siguiente cumple el teorema:\n",
        "\n",
        ">1.- Se prueba caso base que debe ser simple.\n",
        ">2.- Se prueba un caso cualquiera que también sea válido para el último caso.\n",
        "\n",
        "Nuestro teorema dice que $Bucket Sort$ retorna un arreglo ordenado con la secuencia de **n** elementos de entrada, siendo elementos entre $[0.0, 1.0[$\n",
        "\n",
        "### **caso base**\n",
        "\n",
        "Probemos como caso base cuando **Bucket Sort** recibe una secuencia de 1 elemento.\n",
        "\n",
        "Cuando **Bucket Sort** recibe una secuencia de 1 elementos, creara 10 buckets, el elemento ingresara al bucket donde corresponde.\n",
        "\n",
        "Una vez creados los buckets, se ordenarán aplicando insertionSort(en informe pasado confirmamos su correctitud).\n",
        "\n",
        "Con los buckets ordenados, se ingresará los elemento de los buckets no vacíos en el arreglo (solo hay un bucket no vacío y tiene un elemento). El arreglo final será igual que el recibido, y estará ordenado, con 1 elemento siempre será ordenado.\n",
        "\n",
        "### **Caso cualquiera**\n",
        "\n",
        "Ahora veremos un caso cualquiera del Bucket Sort recibe una secuencia de  elementos.\n",
        "\n",
        "Cuando Bucket Sort recibe una secuencia de $n$ elementos, creará 10 buckets y distribuirá los elementos del arreglo en los bucket que les corresponden.\n",
        "\n",
        "Bucket[k] contendrá elementos $0.k...$, es decir, $\\frac{k}{10} \\leq elementos < \\frac{k+1}{10}$ con $0.0 \\leq k < 10.0$\n",
        "\n",
        "Los elementos siempre encontraran en el bucket correspondiente ya que para decidir donde insertarlos, se multiplica el elemento por $10$, lo que será el número de su décima para usar de indice.\n",
        "\n",
        "$0.1 * 10 = 1$ el elemento $0.1$ irá al bucket 1.\n",
        "\n",
        "Una vez creados los buckets, se aplicará insertionSort, algoritmo de ordenamiento correcto, a cada uno, dejando los elementos dentro de los buckets ordenados.\n",
        "\n",
        "Con los buckets ordenados, se ingresará los elemento de los buckets no vacíos en el arreglo, $bucket[i] ← i=0...9$.\n",
        "\n",
        "El arreglo final contendrá todos los elementos del arreglo recibido de manera ordenada.\n"
      ],
      "metadata": {
        "id": "sRBQ-yJT0ezY"
      }
    },
    {
      "cell_type": "markdown",
      "metadata": {
        "id": "1FtV08aSzg6n"
      },
      "source": [
        "# 5. Experimentos\n",
        "\n",
        "A continuación se realizarán experimentos los cuales incluyen investigar:\n",
        "\n",
        "* Comparar los tiempos de ejecución entre BucketSort con InsertionSort con RadixSort.\n",
        "\n",
        "* Comparar los tiempos de ejecución entre BucketSort con insertion sort y CountingSort.\n",
        "\n",
        "* Comparar los tiempos de ejecución entre BucketSort con InsertionSort e InsertionSort de manera inidividual e investigar cual es el origen de la diferencia en los resultados.\n",
        "\n",
        "Se utilizarán datos de tamaño $n \\in [5,200]$ \n",
        "y $n \\in [5,300]$ \n",
        "\n",
        "Los elementos de los arreglos generados estarán compuestos por números que van desde el 1 al 1000."
      ]
    },
    {
      "cell_type": "markdown",
      "metadata": {
        "id": "aLMX8npT-Dk2"
      },
      "source": [
        "### **Implementación RadixSort**"
      ]
    },
    {
      "cell_type": "code",
      "execution_count": 19,
      "metadata": {
        "colab": {
          "base_uri": "https://localhost:8080/"
        },
        "id": "-O42oT924yhk",
        "outputId": "a7b2f4e8-c03d-4ac9-b878-e8a5619f445a"
      },
      "outputs": [
        {
          "output_type": "stream",
          "name": "stdout",
          "text": [
            "[4, 27, 48, 59, 67, 79]\n"
          ]
        }
      ],
      "source": [
        "def radix_sort(nums):\n",
        "    RADIX = 10\n",
        "    placement = 1\n",
        "    max_digit = max(nums)\n",
        "\n",
        "    while placement < max_digit:\n",
        "      buckets = [list() for _ in range( RADIX )]\n",
        "      for i in nums:\n",
        "        tmp = int((i / placement) % RADIX)\n",
        "        buckets[tmp].append(i)\n",
        "      a = 0\n",
        "      for b in range( RADIX ):\n",
        "        buck = buckets[b]\n",
        "        for i in buck:\n",
        "          nums[a] = i\n",
        "          a += 1\n",
        "      placement *= RADIX\n",
        "    return nums\n",
        "\n",
        "nums = [67, 59, 79, 27, 4, 48]\n",
        "print(radix_sort(nums))"
      ]
    },
    {
      "cell_type": "markdown",
      "source": [
        "### **Implementación CountingSort**"
      ],
      "metadata": {
        "id": "rUIfazCU7E_3"
      }
    },
    {
      "cell_type": "code",
      "source": [
        "def countingSort(inputArray):\n",
        "    # Find the maximum element in the inputArray\n",
        "    maxElement= max(inputArray)\n",
        "\n",
        "    countArrayLength = maxElement+1\n",
        "\n",
        "    # Initialize the countArray with (max+1) zeros\n",
        "    countArray = [0] * countArrayLength\n",
        "\n",
        "\n",
        "    for el in inputArray: \n",
        "        countArray[el] += 1\n",
        "    for i in range(1, countArrayLength):\n",
        "        countArray[i] += countArray[i-1] \n",
        "\n",
        "    # Step 3 -> Calculate element position\n",
        "    # based on the countArray values\n",
        "    outputArray = [0] * len(inputArray)\n",
        "    i = len(inputArray) - 1\n",
        "    while i >= 0:\n",
        "        currentEl = inputArray[i]\n",
        "        countArray[currentEl] -= 1\n",
        "        newPosition = countArray[currentEl]\n",
        "        outputArray[newPosition] = currentEl\n",
        "        i -= 1\n",
        "\n",
        "    return outputArray"
      ],
      "metadata": {
        "id": "pSggpWt-x8wM"
      },
      "execution_count": 25,
      "outputs": []
    },
    {
      "cell_type": "markdown",
      "source": [
        "# **CountingSort vs InsertionSort vs RadixSort**"
      ],
      "metadata": {
        "id": "VqNDOlUfCxOP"
      }
    },
    {
      "cell_type": "code",
      "source": [
        "import matplotlib.pyplot as plt\n",
        "import datetime\n",
        "import random\n",
        "from timeit import repeat\n",
        "x=[]; y=[] ; y1=[] ; y2=[] ; verbose = False\n",
        "\n",
        "for n in range(5,200): \n",
        "    a = random.sample(range(1, 1000), n)\n",
        "    #la función repeat está ejecutando 20 veces insertionSort con el arreglo a y retorna el mejor tiepo obtenido.\n",
        "    t = repeat(setup=\"from __main__ import bucket_sort\", stmt=f\"bucket_sort({a})\", repeat=1, number=10)\n",
        "    t1 = repeat(setup=\"from __main__ import radix_sort\", stmt=f\"radix_sort({a})\", repeat=1, number=10)\n",
        "    t2 = repeat(setup=\"from __main__ import countingSort\", stmt=f\"countingSort({a})\", repeat=1, number=10)\n",
        "\n",
        "    x.append(n)\n",
        "    y.append(t)\n",
        "    y1.append(t1)\n",
        "    y2.append(t2)\n",
        "\n",
        "plt.plot(x,y)\n",
        "plt.plot(x,y1)\n",
        "plt.plot(x,y2)\n",
        "plt.legend([\"BucketSort\",\"RadixSort\",\"CountingSort\"])\n",
        "plt.xlabel('n')\n",
        "plt.ylabel('Tiempo en ms')\n",
        "plt.show()"
      ],
      "metadata": {
        "colab": {
          "base_uri": "https://localhost:8080/",
          "height": 279
        },
        "id": "eDG-tSSzyLZw",
        "outputId": "c88886eb-f58d-4887-d09a-b6f617a5f4cd"
      },
      "execution_count": 64,
      "outputs": [
        {
          "output_type": "display_data",
          "data": {
            "text/plain": [
              "<Figure size 432x288 with 1 Axes>"
            ],
            "image/png": "[encoded data removed]"
          },
          "metadata": {
            "needs_background": "light"
          }
        }
      ]
    },
    {
      "cell_type": "markdown",
      "source": [
        "# Analaisis resultados\n",
        "\n",
        "Complejidades temporales promedio:\n",
        "\n",
        ">BucketSort: $O(n)$\n",
        "\n",
        ">RadixSort: $O(nk)$\n",
        "\n",
        ">CountingSort $O(n+k)$\n",
        "\n",
        "**Dentro del rango $[1,1000[$**\n",
        "\n",
        "Tras un análisis al presente gráfico, puede evidenciarse así las utilidades de cada algoritmo y que es lo que hace que cada uno sea útil en ciertas situaciones específicas y otras en las que no.\n",
        "\n",
        "En primera instancia, los resultados inidican que ningún algoritmo presenta una sustancial diferencia con los demás, los 3 poseen tiempos de ejecución similares. Por su parte BucketSort y RadixSort presentan diferencias mínimas, ténicamente despreciables. Esto debido a que, ambos en su caos primedio poseen un crecimiento lineal, pero en la eventualidadm y entre más n elementos tenga un arreglo, BucketSort terminará siendo más eficiente. Dicho lo anterior, es de recalcar también que el rango establecido beneficia en gran manera BucketSort, y cada vez que el número de casillas aumenta, permite establecer rangos en cada balde más amplios.\n",
        "\n",
        "Respecto a CountingSort, en primera instancia demostró ser ineficiente enfrentandose a a pocos datos, y mejorar con respecto a sus homólogos desde los 175 a 200 n elementos.\n",
        "\n",
        "### **Peaks**\n",
        "\n",
        "También es de recalcar que los peaks ocurridos son comunes en entornos donde el servidor que ejecuta el programa esté ligado a la conexión a internet, la inestabilidad de estos sistemas en conjunto a los tiempos milesimas de segundo, causa que cualquier anomalía se traduzca en un pronunciado \"peak\", por ende, suelen ser menos comunes en comparaciones en los que los tiempos de ejecución sean mayores como lo demuestra el experimento siguiente.\n"
      ],
      "metadata": {
        "id": "YWWMWPcV7KY9"
      }
    },
    {
      "cell_type": "markdown",
      "source": [
        "### **Implementación InsertionSort**\n",
        "\n"
      ],
      "metadata": {
        "id": "T6q8-2ui7HYN"
      }
    },
    {
      "cell_type": "markdown",
      "source": [
        "### **¿Qué se busca investigar?**\n",
        "\n",
        "Estudiar las diferencias que presenta InsrtionSort trabajando de manera individual y compararlo a contraste con una implementación que haga uso de una función auxiliar como lo es BucketSort."
      ],
      "metadata": {
        "id": "IJrf9whpDCbl"
      }
    },
    {
      "cell_type": "code",
      "source": [
        "import matplotlib.pyplot as plt\n",
        "import datetime\n",
        "import random\n",
        "from timeit import repeat\n",
        "\n",
        "x=[]; y=[] ; y1=[] ; verbose = False\n",
        "for n in range(5,300):\n",
        "    a = random.sample(range(1, 1000), n)\n",
        "    #la función repeat está ejecutando 20 veces insertionSort con el arreglo a y retorna el mejor tiepo obtenido.\n",
        "    t = repeat(setup=\"from __main__ import bucket_sort\", stmt=f\"bucket_sort({a})\", repeat=1, number=10)\n",
        "    t1 = repeat(setup=\"from __main__ import insertionSort\", stmt=f\"insertionSort({a})\", repeat=1, number=10)\n",
        "    x.append(n)\n",
        "    y.append(t)\n",
        "    y1.append(t1)\n",
        "\n",
        "plt.plot(x,y)\n",
        "plt.plot(x,y1)\n",
        "plt.legend([\"BucketSort\",\"InsertionSort\"])\n",
        "plt.xlabel('n')\n",
        "plt.ylabel('Tiempo en ms')\n",
        "plt.show()"
      ],
      "metadata": {
        "colab": {
          "base_uri": "https://localhost:8080/",
          "height": 281
        },
        "id": "9EBajPMtz17U",
        "outputId": "75a2fec8-d110-42b6-c00f-80b2183c7834"
      },
      "execution_count": 69,
      "outputs": [
        {
          "output_type": "display_data",
          "data": {
            "text/plain": [
              "<Figure size 432x288 with 1 Axes>"
            ],
            "image/png": "[encoded data removed]"
          },
          "metadata": {
            "needs_background": "light"
          }
        }
      ]
    },
    {
      "cell_type": "markdown",
      "source": [
        "# Análisis de resultados\n",
        "\n",
        "Complejidades temporales promedio:\n",
        "\n",
        "> BucketSort: $O(n)$\n",
        "\n",
        "> InsertionSort: $O(n^2)$\n",
        "\n",
        "Es evidente que, una vez InsertionSort es asistido por una función auxiliar como lo es BucketSort, sus resultados pueden ser sustancialemtne mejores.\n",
        "\n",
        "Lo anterior ocurre a causa de que, InsertionSort tiende a crecer de manera exponencial entre más n datos tenga el arreglo de entrada. BucketSort al utilizar los llamados \"buckets\" donde almacena los datos de cierto rango, entrega una versión simplificada a InsertionSort, facilitando la tarea de InsertionSort, tendiendo a una complejidad lineal."
      ],
      "metadata": {
        "id": "dnH9YXE8D3dw"
      }
    }
  ],
  "metadata": {
    "colab": {
      "collapsed_sections": [],
      "provenance": [],
      "authorship_tag": "ABX9TyOZYS1a3iYIksl7NYHeFems",
      "include_colab_link": true
    },
    "kernelspec": {
      "display_name": "Python 3",
      "name": "python3"
    },
    "language_info": {
      "name": "python"
    }
  },
  "nbformat": 4,
  "nbformat_minor": 0
}