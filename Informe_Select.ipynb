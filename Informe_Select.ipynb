{
  "nbformat": 4,
  "nbformat_minor": 0,
  "metadata": {
    "colab": {
      "provenance": [],
      "collapsed_sections": [],
      "authorship_tag": "ABX9TyPULaNAwTQ924eYDuqaPSD5",
      "include_colab_link": true
    },
    "kernelspec": {
      "name": "python3",
      "display_name": "Python 3"
    },
    "language_info": {
      "name": "python"
    }
  },
  "cells": [
    {
      "cell_type": "markdown",
      "metadata": {
        "id": "view-in-github",
        "colab_type": "text"
      },
      "source": [
        "<a href=\"https://colab.research.google.com/github/GeraldEspi/ADA-informes/blob/main/Informe_Select.ipynb\" target=\"_parent\"><img src=\"https://colab.research.google.com/assets/colab-badge.svg\" alt=\"Open In Colab\"/></a>"
      ]
    },
    {
      "cell_type": "markdown",
      "source": [
        "# 1. Problema de selección\n",
        "\n",
        "En ciencias de la computación, un algoritmo de selección es un algoritmo que permite encontrar el k-ésimo menor número en una lista o vector, a este número se le llama estadístico de orden k. \n",
        "\n",
        "Dadas variables aleatorias  $[A1,A2,...,An]$ , reubicarlas en orden ascendente  $[B1,B2,...,Bn]$ . Donde el  Bi  elemento corresponde al estadístico de orden  k .\n",
        "\n",
        "El problema puede resumirse en:\n",
        "\n",
        ">**Entrada**: Conjunto de $n$ números diferentes $A$  más un índice $i$.\n",
        "\n",
        ">**Salida**: Elemento $x\\in A$, que es mayor a exactamente $i-1$ elementos de $A$.\n",
        "\n",
        ">El elemento $x$ se conoce como **estadístico de orden $i$-ésimo** para el conjunto $A$.\n",
        "\n",
        " La cuestión de la selección es un problema esencial en la algorítmica, en particular en la búsqueda del máximo, el mínimo y la mediana . Se han propuesto varios algoritmos y se han estudiado varios contextos: Algoritmos online , complejidad amortizada , complejidad media , todo propósito especial, etc.\n",
        "\n",
        "Ajeno a las  funcionalidades ya listadas, la selección de un dato concreto dentro de una lista tiene utilidades que facilitan la comunicación operador-interface, haciendo más amigable la búsqueda de información o estadísticos de orden."
      ],
      "metadata": {
        "id": "PXrd6TYVBsIs"
      }
    },
    {
      "cell_type": "markdown",
      "source": [
        "## Código"
      ],
      "metadata": {
        "id": "FwzWlEyqDlfy"
      }
    },
    {
      "cell_type": "markdown",
      "source": [
        "### InsertionSort"
      ],
      "metadata": {
        "id": "qU4GmbyVHHub"
      }
    },
    {
      "cell_type": "code",
      "source": [
        "def InsertionSort(arr):\n",
        "    cont_comp = 0\n",
        "    #se recorre el arreglo\n",
        "    for i in range(1, len(arr)):\n",
        "        \n",
        "        key = arr[i]\n",
        "        j = i-1\n",
        "        cont_comp += 1\n",
        "        while j >= 0 and key < arr[j] :\n",
        "                arr[j + 1] = arr[j]\n",
        "                j -= 1\n",
        "                arr[j + 1] = key\n",
        "                if j == -1: cont_comp -= 1\n",
        "                cont_comp += 1\n",
        "\n",
        "    return cont_comp\n",
        "  "
      ],
      "metadata": {
        "id": "srFD6HphHGgj"
      },
      "execution_count": null,
      "outputs": []
    },
    {
      "cell_type": "markdown",
      "source": [
        "### PivotSelection"
      ],
      "metadata": {
        "id": "TnLFJo6hG6Xc"
      }
    },
    {
      "cell_type": "code",
      "source": [
        "import numpy as np\n",
        "\n",
        "def PivotSelection(arreglo, izq, der, verbose=False):\n",
        "    arr = arreglo[izq:der+1]\n",
        "    global contador;\n",
        "    #Forma sub arreglos de 5 o menos elementos\n",
        "\n",
        "    if verbose:\n",
        "          print(colored(\"-----------\\n\",\"green\"))\n",
        "          print(colored(\"Pivote Select recibe el siguiente arreglo: \",\"grey\"),colored(arr,\"blue\"))\n",
        "          print(colored(\"Y forma subarreglos con 5 elementos o menos.\",\"grey\"))\n",
        "\n",
        "    subArrays = [arr[i:i+5] for i in range(0, len(arr), 5)] # Se forman \n",
        "    \n",
        "    # Ordena los subArreglos y guarda sus neduabas\n",
        "    \n",
        "    medianas = []\n",
        "    if verbose:\n",
        "          print(colored(\"\\n-----------\",\"green\"))\n",
        "          print(colored(\"## A continuación se hará muestra de los subArreglos\",\"green\"),colored(\"Desordenados\", \"red\"),\"\\n\")\n",
        "    x = 1\n",
        "    for i in subArrays:\n",
        "        if verbose:\n",
        "            print(colored(f\"//----Arreglo {x}-- \",\"grey\"), end=\"\"); x+=1\n",
        "            print(colored(f\"{i}\",\"blue\"),\"\\n\")\n",
        "        contador += InsertionSort(i)\n",
        "        medianas.append(i[len(i) // 2])\n",
        "    x = 1\n",
        "    if verbose:\n",
        "          print(colored(\"-----------\\n\",\"green\"))\n",
        "          print(colored(\"##A continuación se hará muestra de los 5 subArreglos\",\"green\"),colored(\"Ordenados\", \"yellow\"),colored(\"junto a su mediana \\n\",\"green\"))\n",
        "          for i in subArrays:\n",
        "           if verbose:\n",
        "            print(colored(f\"//----Arreglo {x}\",\"grey\"),colored(\"ordenado\",\"grey\"),colored(\"--\",\"grey\"), end=\" \"); x+=1\n",
        "            print(colored(f\"{i}\",\"blue\"))\n",
        "            print(colored(\"y su mediana corresponde a\",\"grey\"),colored({i[len(i) // 2]},\"blue\"),\"\\n\")\n",
        "    \n",
        "        \n",
        "    \n",
        "\n",
        "    #medianas = [i[len(i) // 2]  for i in subArrays]\n",
        "\n",
        "    # Consigue la mediana de las medianas\n",
        "    if len(medianas) <= 5:\n",
        "        contador += InsertionSort(medianas)\n",
        "        pivote = medianas[len(medianas) // 2]\n",
        "    else:\n",
        "        if verbose:\n",
        "            print(colored(\"-----------\\n\",\"green\"))\n",
        "            print(colored(\"Para el cálculo de la mediana de medianas\\n\",\"green\")+\n",
        "                  colored(\"Se envia el arreglo de medianas\",\"green\"),colored(f\"{medianas}\",\"blue\"),colored(\"a Pivote Select\",\"green\"))\n",
        "        pivote = PivotSelection(medianas,0,len(medianas)-1,verbose) \n",
        "    \n",
        "    if verbose: \n",
        "          print(colored(\"\\n-----------\",\"green\"))\n",
        "          print(colored(f\"En \",\"grey\")+colored(f\"{arr}\",\"blue\"),\"\\n\"+\n",
        "                colored(f\"Las medianas son\",\"grey\"),colored(f\"{medianas}\",\"blue\"),colored(f\".\\nLa mediana de medianas es\",\"grey\"),colored(pivote,\"blue\"))\n",
        "          \n",
        "    return pivote"
      ],
      "metadata": {
        "id": "JTB5hSSLDp8i"
      },
      "execution_count": null,
      "outputs": []
    },
    {
      "cell_type": "markdown",
      "source": [
        "### Partition"
      ],
      "metadata": {
        "id": "SU9t-a3qJo1y"
      }
    },
    {
      "cell_type": "code",
      "source": [
        "import random\n",
        "\n",
        "def Partition(arr, izq, der, pivote):\n",
        "    global contador\n",
        " \n",
        "    # Se localiza el indice del pivote\n",
        "    for k in range(izq,der+1):\n",
        "        if arr[k] == pivote:\n",
        "          contador +=1 \n",
        "          indexPivote = k; \n",
        "          break \n",
        "    # Se posiciona el pivote en la ultima posicion del subarreglo (para no tener que hacer comparaciones diferentes cada vez)\n",
        "    arr[indexPivote], arr[der] = arr[der], arr[indexPivote]\n",
        "    \n",
        "    # Se realiza el Partition con el pivote en la ultima posicion del subarreglo arr[izq:der+1]\n",
        "    i = izq\n",
        "    for j in range(izq,der):\n",
        "        if arr[j] <= arr[der]:\n",
        "            arr[j], arr[i] = arr[i], arr[j]\n",
        "            i+=1\n",
        "    arr[i], arr[der] = arr[der], arr[i]\n",
        "    return i"
      ],
      "metadata": {
        "id": "GqZLVNvAJvf5"
      },
      "execution_count": null,
      "outputs": []
    },
    {
      "cell_type": "markdown",
      "source": [
        "### Select"
      ],
      "metadata": {
        "id": "rS2JBhN1HNqp"
      }
    },
    {
      "cell_type": "code",
      "source": [
        "from termcolor import colored\n",
        "\n",
        "def Select(arr, izq, der, search, verbose = False):\n",
        "    if izq < der :\n",
        "        pivote = PivotSelection(arr, izq, der, verbose)\n",
        "        if verbose: \n",
        "            print(colored(\"-----------\\n\",\"green\"))\n",
        "            print(colored(f\"## Se selecciono el pivote\",\"green\"),colored(pivote,\"blue\"))\n",
        "            print(colored(\"\\n-----------\",\"green\"))\n",
        "        med = Partition(arr, izq, der, pivote)\n",
        "        if verbose: \n",
        "\n",
        "            print(colored(\"Mitad izquierda\",\"grey\"),colored(\"/\",\"red\"),colored(\"Mitad derecha\",\"grey\"))\n",
        "            print(colored(arr[izq:med],\"blue\"),end=\"\")\n",
        "            print(colored(\" / \",\"red\"),end=\"\")\n",
        "            print(colored(arr[med+1:der+1],\"blue\"))\n",
        "          \n",
        "\n",
        "        \n",
        "        if(med == search):\n",
        "          if verbose:\n",
        "            print(colored(\"\\n-----------\",\"green\"))\n",
        "            print(colored(\"Se encontró el\",\"green\"),colored(search+1,\"blue\"), colored(\"elemento buscado\",\"green\")) \n",
        "            print(colored(\"Correspondiente a\",\"green\"),colored(arr[search],\"blue\"))\n",
        "            print(colored(\"-----------\\n\",\"green\"))\n",
        "            return\n",
        "        elif(med > search): \n",
        "            Select(arr, izq, med-1, search)\n",
        "        else: \n",
        "            Select(arr, med + 1, der, search)"
      ],
      "metadata": {
        "id": "k0U0WyEDHRYj"
      },
      "execution_count": 137,
      "outputs": []
    },
    {
      "cell_type": "markdown",
      "source": [
        "## Ejemplo de código **Select**"
      ],
      "metadata": {
        "id": "VEOl1TTPk2eW"
      }
    },
    {
      "cell_type": "code",
      "source": [
        "print(colored(\"ingresar numero\",\"green\"))\n",
        "arr = [-11, -72, 26, 78, 56, 71, 23]\n",
        "numero = int(input())\n",
        "contador = 0\n",
        "if(numero-1 < len(arr)):\n",
        "  print(colored(\"Arreglo inicial:\",\"green\"))\n",
        "  print(colored(arr,\"blue\"))\n",
        "  Select(arr, 0, len(arr)-1, numero-1,verbose = False)\n",
        "  print(colored(\"El\",\"grey\"),colored(numero,\"blue\"),colored(\"menor elemento dentro del arreglo corresponde a\",\"grey\"), colored(arr[numero-1],\"blue\"), colored(\"---Con un total de\",\"green\"),colored(contador, \"blue\"),colored(\"comparaciones---\",\"green\"))\n",
        "  InsertionSort(arr)\n",
        "  \n",
        "else:\n",
        "  print(colored(\"No es posible econtrar el número seleccionado ya que solo existen\",\"red\"), colored(len(arr),\"blue\"), colored(\"elementos en el arreglo\",\"red\"))"
      ],
      "metadata": {
        "colab": {
          "base_uri": "https://localhost:8080/"
        },
        "id": "KJS4tdZkk6XH",
        "outputId": "4c23de32-4ee7-4bb0-9e00-7466d85f1b30"
      },
      "execution_count": 145,
      "outputs": [
        {
          "output_type": "stream",
          "name": "stdout",
          "text": [
            "\u001b[32mingresar numero\u001b[0m\n",
            "3\n",
            "\u001b[32mArreglo inicial:\u001b[0m\n",
            "\u001b[34m[-11, -72, 26, 78, 56, 71, 23]\u001b[0m\n",
            "\u001b[30mEl\u001b[0m \u001b[34m3\u001b[0m \u001b[30mmenor elemento dentro del arreglo corresponde a\u001b[0m \u001b[34m23\u001b[0m \u001b[32m---Con un total de\u001b[0m \u001b[34m15\u001b[0m \u001b[32mcomparaciones---\u001b[0m\n"
          ]
        }
      ]
    },
    {
      "cell_type": "markdown",
      "source": [
        "# 2. Descripción del algoritmo\n",
        "\n",
        "# **Select**\n",
        "\n",
        "El algoritmo select consiste en partir un arreglo en varias partes y que cada división cotenga 5 elemento y cada subArreglo obtenido ordenarlo mediante InsertionSort (A causa de que en este caso tiende a ser lineal). Luego se cosigue la mediana de cada subArreglo, creando un vector/arreglo que contenga las medianas. El pivote a utilizar en el arreglo original corresponde a la mediana del arreglo de medianas.\n",
        "\n",
        "Para realizar esta tarea se utilizan funciones auxiliares que permiten desarrollar la tarea de manera más sencilla, entre ellas se encuentra PivotSelection.\n",
        "\n",
        "PivotSelection sigue los siguientes pasos:\n",
        "\n",
        "> 1.- Divide el conjunto en grupos de 5 elementos cada uno.\n",
        "\n",
        ">2.- Encuentra la mediana de cada grupo aplicado el algoritmo InsertionSort para ordenarlos.\n",
        "\n",
        ">3.- Aplica la función PivotSelection recursivamente para encontrar la mediana m de las medianas identificadas en el paso previo.\n",
        "\n",
        ">4.- Utiliza la mediana m como pivote para la función Partition.\n",
        "\n",
        "Por otro lado también hace uso de la función Partition, será la encargada de acomodar los elementos del pedazo de arreglo utilizando el elemento\n",
        "de más a la izquierda como pivot. El procedimiento partition modifica el arreglo desde izquierda hasta derecha dejando al comienzo todos los\n",
        "elementos que son menores o iguales al que se encontraba originalmente en la posición lft, y al final atodos los que son mayores o iguales.\n",
        "\n",
        "\n",
        "\n"
      ],
      "metadata": {
        "id": "lzxesSrWFZj9"
      }
    },
    {
      "cell_type": "markdown",
      "source": [
        "# 2.1 Ejemplo (Escrito)\n",
        "\n",
        "\n",
        "Se considera el siguiente arreglo:\n",
        "\n",
        ">**Entrada**: $[1,4,3]$\n",
        "\n",
        ">**Buscado**: $2$\n",
        "\n",
        "* Select recibe el arreglo $C$ = $[1,4,3]$ a su vez que el 2-iésimo dato buscado dentro de este mismo. Si `izq < der` llama a **PivotSelection**\n",
        "\n",
        "* Ya una vez en **PivotSelection** se comprueba que la entrada consiste en un arreglo inferior a los 5 elementos requeridos para subdividir el arrelgo, por ende, se mantiene en uno solo.\n",
        "\n",
        "* Luego de hecho eso, **PivotSelection** se procede a ordenar el arreglo a través de InsertionSort obteniendo $C$ = $[1,3,4]$, a su vez obtiene la mediana mediante `medianas.append(i[len(i) // 2])` retornando 3.\n",
        "\n",
        "* Ahora se procede a dividir el arreglo en 2 partes mediante Partition. Ya aquí, en el arreglo recibido por Partition el cual sería $[1,3,4]$ se procede a buscar el índice del pvivote recibido, en este caso 3.\n",
        "\n",
        "* Una vez obtenido intercambia la posición de el pivote con el último elemento de la parte derecha. Quedando $[1,4,3]$. Se compara cada dato con el pivote.\n",
        "\n",
        "* Una vez hechas las respectivas comparaciones, el pivote debe ubicarse a la derecha del último elemento que haya sido menor o igual al pivote ($elemento \\leq pivote$). Quedando $[1,3,4]$\n",
        "\n",
        "* Finalmente se puede evidenciar que el pivote, en este caso 3, se encuentra en al segunda posición del arreglo (con $posición = index+1$). Lo que quiere decir que su posición coincide con el iésimo buscado. Por ende se encontrado. Correspondiente a 3."
      ],
      "metadata": {
        "id": "FdpgWoEDAmek"
      }
    },
    {
      "cell_type": "markdown",
      "source": [
        "# 2.2 Ejemplo Código **Verbose = True**"
      ],
      "metadata": {
        "id": "Bko7HMZSBMy-"
      }
    },
    {
      "cell_type": "code",
      "source": [
        "print(colored(\"ingresar numero\",\"green\"))\n",
        "arr = [1,4,3]\n",
        "numero = int(input())\n",
        "contador = 0\n",
        "if(numero-1 < len(arr)):\n",
        "  print(colored(\"Arreglo inicial:\",\"green\"))\n",
        "  print(colored(arr,\"blue\"))\n",
        "  Select(arr, 0, len(arr)-1, numero-1,verbose = True)\n",
        "  print(colored(\"El\",\"grey\"),colored(numero,\"blue\"),colored(\"menor elemento dentro del arreglo corresponde a\",\"grey\"), colored(arr[numero-1],\"blue\"), colored(\"---Con un total de\",\"green\"),colored(contador, \"blue\"),colored(\"comparaciones---\",\"green\"))\n",
        "  InsertionSort(arr)\n",
        "  \n",
        "else:\n",
        "  print(colored(\"No es posible econtrar el número seleccionado ya que solo existen\",\"red\"), colored(len(arr),\"blue\"), colored(\"elementos en el arreglo\",\"red\"))"
      ],
      "metadata": {
        "colab": {
          "base_uri": "https://localhost:8080/"
        },
        "id": "zSiV3ZaMBMMR",
        "outputId": "8fa55308-542f-44c8-9709-b152ca16558a"
      },
      "execution_count": 148,
      "outputs": [
        {
          "output_type": "stream",
          "name": "stdout",
          "text": [
            "\u001b[32mingresar numero\u001b[0m\n",
            "2\n",
            "\u001b[32mArreglo inicial:\u001b[0m\n",
            "\u001b[34m[1, 4, 3]\u001b[0m\n",
            "\u001b[32m-----------\n",
            "\u001b[0m\n",
            "\u001b[30mPivote Select recibe el siguiente arreglo: \u001b[0m \u001b[34m[1, 4, 3]\u001b[0m\n",
            "\u001b[30mY forma subarreglos con 5 elementos o menos.\u001b[0m\n",
            "\u001b[32m\n",
            "-----------\u001b[0m\n",
            "\u001b[32m## A continuación se hará muestra de los subArreglos\u001b[0m \u001b[31mDesordenados\u001b[0m \n",
            "\n",
            "\u001b[30m//----Arreglo 1-- \u001b[0m\u001b[34m[1, 4, 3]\u001b[0m \n",
            "\n",
            "\u001b[32m-----------\n",
            "\u001b[0m\n",
            "\u001b[32m##A continuación se hará muestra de los 5 subArreglos\u001b[0m \u001b[33mOrdenados\u001b[0m \u001b[32mjunto a su mediana \n",
            "\u001b[0m\n",
            "\u001b[30m//----Arreglo 1\u001b[0m \u001b[30mordenado\u001b[0m \u001b[30m--\u001b[0m \u001b[34m[1, 3, 4]\u001b[0m\n",
            "\u001b[30my su mediana corresponde a\u001b[0m \u001b[34m{3}\u001b[0m \n",
            "\n",
            "\u001b[32m\n",
            "-----------\u001b[0m\n",
            "\u001b[30mEn \u001b[0m\u001b[34m[1, 4, 3]\u001b[0m \n",
            "\u001b[30mLas medianas son\u001b[0m \u001b[34m[3]\u001b[0m \u001b[30m.\n",
            "La mediana de medianas es\u001b[0m \u001b[34m3\u001b[0m\n",
            "\u001b[32m-----------\n",
            "\u001b[0m\n",
            "\u001b[32m## Se selecciono el pivote\u001b[0m \u001b[34m3\u001b[0m\n",
            "\u001b[32m\n",
            "-----------\u001b[0m\n",
            "\u001b[30mMitad izquierda\u001b[0m \u001b[31m/\u001b[0m \u001b[30mMitad derecha\u001b[0m\n",
            "\u001b[34m[1]\u001b[0m\u001b[31m / \u001b[0m\u001b[34m[4]\u001b[0m\n",
            "\u001b[32m\n",
            "-----------\u001b[0m\n",
            "\u001b[32mSe encontró el\u001b[0m \u001b[34m2\u001b[0m \u001b[32melemento buscado\u001b[0m\n",
            "\u001b[32mCorrespondiente a\u001b[0m \u001b[34m3\u001b[0m\n",
            "\u001b[32m-----------\n",
            "\u001b[0m\n",
            "\u001b[30mEl\u001b[0m \u001b[34m2\u001b[0m \u001b[30mmenor elemento dentro del arreglo corresponde a\u001b[0m \u001b[34m3\u001b[0m \u001b[32m---Con un total de\u001b[0m \u001b[34m4\u001b[0m \u001b[32mcomparaciones---\u001b[0m\n"
          ]
        }
      ]
    },
    {
      "cell_type": "markdown",
      "source": [
        "# 3. **Tiempo de ejecución**\n",
        "\n",
        "### **Teorema (Tiempo de ejecución).**\n",
        "\n",
        "se establece para Selection:\n",
        "\n",
        "> **Peor caso:** $O(n^2)$\n",
        "\n",
        "> **Mejor caso:** $O(n)$\n",
        "\n",
        "> **Caso promedio:** $O(n)$\n",
        "\n",
        "### **Caso promedio**\n",
        "\n",
        "Prueba del teorema.\n",
        "Primero se estudiará la complejidad individual de los algoritmos que utiliza **Select** como funciones auxiliares.\n",
        "\n",
        "### *PivoteSelect*\n",
        "\n",
        "Este algoritmo divide el arreglo en subarreglos de 5 elementos, los ordena con **Insertion** **Sort** y obtiene sus medianas formando un arreglo de medianas, luego aplica recursivamente a sí mismo en el arreglo de medianas para obtener la mediana del arreglo de medianas. Busca un dato que no sea nunca ni el mayor ni el menor elemento del arreglo, es decir, un buen pivote.\n",
        "\n",
        "Insertion Sort tiene $O(n)$ de complejidad en casos promedios.\n",
        "\n",
        "Buscar la mediana tiene complejidad $O(1)$, por eso su complejidad es despreciable en la complejidad de **PivoteSelect**.\n",
        "\n",
        "$T(n) = T(\\frac{n}{5}) + O(n)$\n",
        "\n",
        "Se usará el teorema maestro.\n",
        "\n",
        "$a = 1$;\n",
        "$b = 5 $;\n",
        "$d = 1$\n",
        "\n",
        "Entonces nos encontramos en la situación  $a < b^d \\rightarrow 1 < 5^1$\n",
        "\n",
        "Eso quiere decir que el algoritmo tiene complejidad $O(n^d) ⇒ O(n^1)= O(n)$\n",
        "\n",
        "### *Insertion Sort*\n",
        "\n",
        "Se establece para InsertionSort:\n",
        "\n",
        ">**Mejor caso:** $O(n)$\n",
        "\n",
        ">**Peor caso:** $O(n^2)$\n",
        "\n",
        ">**Caso promedio:** $O(n^2)$\n",
        "\n",
        "Busca individualmente el dato de cada posición al compararlos con sus siguientes elementos.\n",
        "\n",
        "### *Partition*\n",
        "\n",
        "Divide el arreglo en dos mitades con distintas cantidades de elementos guiándose por un pivote, este pivote se ubicará en la posición que le correspondería en el arreglo ordenado, a su izquierda estarán los menores a él y a su derecha los mayores a él.\n",
        "\n",
        "Para esto siempre compara el pivote con los elementos del arreglo una vez, por eso tiene complejidad $O(n)$ en todos sus casos, pues lo que hace no cambia por factores externos.\n",
        "\n",
        "\n",
        "### *Select*\n",
        "\n",
        "Se establece entonces que:\n",
        "\n",
        "> PivotSelection $⇒ O(n)$\n",
        "\n",
        ">Partition $⇒ O(n)$\n",
        "\n",
        "El algoritmo usa **Pivote Select** para escoger un buen pivote, luego usa ese pivote en **Partition**, y decide si el buscado es el pivote, es mayor o menor a pivote, si el pivote no es el buscado aplicara **Select** en la mitad donde debería estar el elemento buscado.\n",
        "\n",
        "En el peor de los caso tendrá una mitad con $\\frac{3n}{10}$  y otra con $\\frac{7n}{10}$. Es decir, nunca habrá mitad con $elementos > \\frac{7n}{10}$.\n",
        "\n",
        "Se prueba entonces para estos 2 casos:\n",
        "\n",
        "$\\frac{7n}{10}$\n",
        "\n",
        "$T(n) = T(\\frac{7n}{10}) + O(n) + O(n) = T(\\frac{7n}{10}) + 2O(n)$\n",
        "\n",
        "Nosotros podemos aplicar la siguiente transformación $\\frac{7n}{10} = \\frac{\\frac{n}{1}}{\\frac{10}{7}} = \\frac{n}{\\frac{10}{7}}$\n",
        "\n",
        "$\\Rightarrow T(n) = T(\\frac{n}{\\frac{10}{7}}) + 2O(n)$\n",
        "\n",
        "Ahora es posible aplicar el teorema maestro.\n",
        "\n",
        "$a=1$; $b= \\frac{10}{7}$; $d = 1$\n",
        "\n",
        "Entonces se presenta la situación $a < b^d \\rightarrow 1 < (\\frac{10}{7})^{1}$\n",
        "\n",
        "Eso quiere decir que el algoritmo tiene complejidad $O(n^d) ⇒ O(n^1)= O(n)$\n",
        "\n",
        "$\\frac{3n}{10}$\n",
        "\n",
        "$T(n) = T(\\frac{3n}{10}) + O(n) + O(n) = T(\\frac{3n}{10}) + 2O(n)$\n",
        "\n",
        " Es posible aplicar la siguiente transformación $\\frac{3n}{10} = \\frac{\\frac{n}{1}}{\\frac{10}{3}} = \\frac{n}{\\frac{10}{3}}$\n",
        "\n",
        " $\\Rightarrow T(n) = T(\\frac{n}{\\frac{10}{3}}) + 2O(n)$\n",
        "\n",
        " Ahora es posible aplicar el teorema maestro.\n",
        "\n",
        "$a=1$; $b= \\frac{10}{3}$; $d = 1$\n",
        "\n",
        "Se presenta la situación $a < b^d \\rightarrow 1 < (\\frac{10}{3})^{1}$\n",
        "\n",
        "Lo que quiere decir que la complejidad de este algoritmo corresponde a $O(n^d) ⇒ O(n^1)= O(n)$\n",
        "\n",
        "**Entonces es posible calcular la complejidad de Select**\n",
        "\n",
        "Se establece entonces:\n",
        "\n",
        ">$\\frac{3n}{10} \\rightarrow O(n)$\n",
        "\n",
        ">$\\frac{7n}{10} \\rightarrow O(n)$\n",
        "\n",
        "\n",
        "La complejidad del algoritmo se encuentra entre las peores divisiones.\n",
        "\n",
        "$\\frac{3n}{10} \\leq$ Complejidad Del Algoritmo $\\leq \\frac{7n}{10}$\n",
        "\n",
        "$O(n) \\leq$ Complejidad Del Algoritmo $\\leq O(n)$\n",
        "\n",
        "Entonces la complejidad del algoritmo Select en su caso promedio es de $O(n)$.\n",
        "\n",
        "\n",
        "\n",
        "\n",
        "\n",
        "\n",
        "\n"
      ],
      "metadata": {
        "id": "m58Z2j2EA83K"
      }
    },
    {
      "cell_type": "markdown",
      "source": [
        "# 4. Correctitud\n",
        "\n",
        "# **Select**\n",
        "\n",
        "## **Teorema (Correctitud).**\n",
        "\n",
        "Select es un algoritmo que encuentra el $i$-ésimo  elemento menor dentro de una secuencia de $n$ datos, siempre que $1 \\leq i \\leq n$\n",
        "\n",
        "## **Prueba del Teorema**\n",
        "\n",
        "Para probar la correctitud de **Select** usaremos **inducción** debido a la recursividad del algoritmo.\n",
        "\n",
        ">En **inducción** para probar una declaración, para todos los números naturales $n$ típicamente se debe:\n",
        "\n",
        ">   1.-Probar su correctitud para un **caso base**, por ejemplo $n = 1$\n",
        "\n",
        "> Probar que si un caso cualquiera $m$, donde $m < n$, es correcto, entonces el caso $n$ también lo es.\n",
        "\n",
        "También se asume la correctitud de las siguientes funciones:\n",
        "\n",
        "* **Pivote Select**\n",
        "* **Partition**\n",
        "\n",
        "### **Caso Base**\n",
        "\n",
        "El caso base será cuando la mediana de medianas coincide con el estadístico de orden solicitado.\n",
        "\n",
        "Luego de obtener la mediana de medianas se aplica como pivote en **Partition** y luego acabara la función  **Select** porque pivote es el estadístico de orden buscado, ya que dejo el estadístico de orden en la posición que le correspondería de ordenar el algoritmo. Esto siempre ocurre cuando $n=1$ y también puede ocurrir con $n < 1$.\n",
        "\n",
        "\n",
        "### **Caso cualquiera**\n",
        "\n",
        "El caso base cualquiera será cuando la mediana de medianas encontrada no es el elemento estadístico de orden buscado.\n",
        "\n",
        "Luego de obtener la mediana de medianas se aplica como pivote en **Partition**, haciendo que el arreglo quede con 2 mitades, a la izquierda los menores al pivote y a la derecha los mayores.\n",
        "\n",
        "Ahora se comprueba si $pivote = estadísticoDeOrden$, como no es asi se comprobará si es mayor o menor, si es mayor debe estar a la derecha con los mayores al pivote, y de ser menor a de encontrarse a la mitad izquierda del pivote.\n",
        "\n",
        "Una vez identificado la mitad donde debe estar el estadístico de orden, se  envía aquella mitad a **Select**, con **Select** correcto ya que eventualmente llegara al caso base porque siempre recibe el conjunto donde debe estar el estadístico de orden buscado y eventualmente llegara al caso base.\n"
      ],
      "metadata": {
        "id": "tlpkBenM6G32"
      }
    },
    {
      "cell_type": "markdown",
      "source": [
        "# 5. Experimentos\n",
        "\n",
        "A continuación se realizarán experimentos los cuales incluyen investigar:\n",
        "\n",
        "* Comparar el algoritmo Select, con Randomized-Select (selección del pivote aleatoria).\n",
        "\n",
        "* Comparar el número de comparaciones realizadas experimentalmente con el mejor y peor caso teóricos.\n"
      ],
      "metadata": {
        "id": "Fs56aw7C6TgH"
      }
    },
    {
      "cell_type": "markdown",
      "source": [
        "# 5.1. Select vs Randomized Select (Tiempo de ejecución)"
      ],
      "metadata": {
        "id": "f1A-gyfRsleG"
      }
    },
    {
      "cell_type": "markdown",
      "source": [
        "implementación Randomided Select"
      ],
      "metadata": {
        "id": "H2qHUTn6tQSc"
      }
    },
    {
      "cell_type": "code",
      "source": [
        "import random\n",
        "\n",
        "def RandomizedSelect(arr, izq, der, search):\n",
        "    if izq < der :\n",
        "        pivote = random.randint(izq,der)\n",
        "        med = Partition(arr, izq, der, arr[pivote])\n",
        "        if(med == search): return\n",
        "        elif(med > search): RandomizedSelect(arr, izq, med-1, search)\n",
        "        else: RandomizedSelect(arr, med + 1, der, search)"
      ],
      "metadata": {
        "id": "LBJZJzt2Bl7k"
      },
      "execution_count": 133,
      "outputs": []
    },
    {
      "cell_type": "code",
      "source": [
        "import matplotlib.pyplot as plt\n",
        "import datetime\n",
        "from timeit import repeat\n",
        "verbose = False\n",
        "x=[]; y=[]; y1=[]\n",
        "\n",
        "for n in range(5,600):\n",
        "    a = random.sample(range(-100, 1000), n)\n",
        "    Iesimo = random.randint(0,n)\n",
        "\n",
        "    \n",
        "    t = repeat(setup=\"from __main__ import Select\", stmt=f\"Select({a}, {0}, {len(a)-1}, {Iesimo-1},{False})\", repeat=1, number=10)\n",
        "    t1 = repeat(setup=\"from __main__ import RandomizedSelect\", stmt=f\"RandomizedSelect({a}, {0}, {len(a)-1}, {Iesimo-1})\", repeat=1, number=10)\n",
        "\n",
        "    x.append(n)\n",
        "    y.append(t)\n",
        "    y1.append(t1)\n",
        "\n",
        "\n",
        "plt.plot(x,y)\n",
        "plt.plot(x,y1)\n",
        "plt.legend([\"Select\", \"Randomized Select\"])\n",
        "\n",
        "plt.xlabel('n')\n",
        "plt.ylabel('Tiempo en ms')\n",
        "plt.show()"
      ],
      "metadata": {
        "colab": {
          "base_uri": "https://localhost:8080/",
          "height": 279
        },
        "id": "UqnSX8CKu_2v",
        "outputId": "045dd58c-2ada-46c8-cd3b-4ef9fa9cbb5d"
      },
      "execution_count": 138,
      "outputs": [
        {
          "output_type": "display_data",
          "data": {
            "text/plain": [
              "<Figure size 432x288 with 1 Axes>"
            ],
            "image/png": "[encoded data removed]"
          },
          "metadata": {
            "needs_background": "light"
          }
        }
      ]
    },
    {
      "cell_type": "markdown",
      "source": [
        "# Análisis de Resultados\n",
        "\n",
        "La princial diferencia entre Randomized Select y Select radica en la elección del pivote, mientras Select utiliza PivotSelection y según se implemente, incluso Partition, Randomized Select escoge el pivote de manera aleatoria. \n",
        "\n",
        "Lo anterior dicho puede dar cabida a una realentización en los procesos hechos por Select debido a la memoria necesaria y los respectivos procesos para acceder a ella, además de la mayor cantidad de pasos que se deben llevar a cabo y la propia naturaleza recursiva del algoritmo.\n",
        "\n",
        "\n",
        ">![image](https://cdn.discordapp.com/attachments/838249461268217916/1023730370597884035/imagen_2022-09-25_195828445.png)\n",
        "\n",
        "*Imágen hecha en canvas*\n",
        "\n"
      ],
      "metadata": {
        "id": "XkYsfFyryyZc"
      }
    },
    {
      "cell_type": "markdown",
      "source": [
        "# 5.1. Peor caso vs Mejor caso vs Select (Comparaciones)"
      ],
      "metadata": {
        "id": "uwz-JkhI4uVA"
      }
    },
    {
      "cell_type": "code",
      "source": [
        "import matplotlib.pyplot as plt\n",
        "import datetime\n",
        "from timeit import repeat\n",
        "\n",
        "x=[]\n",
        "y1=[5*n for n in range(10,601)] # peor caso\n",
        "y2=[n for n in range(10,601)] # mejor caso\n",
        "y=[]; \n",
        "\n",
        "for n in range(10,601):\n",
        "    a = random.sample(range(-100, 1000), n)\n",
        "    Iesimo = random.randint(0,n)\n",
        "    contador = 0\n",
        "    Select(a, 0, len(a)-1, Iesimo-1)\n",
        "    x.append(n)\n",
        "    y.append(contador)\n",
        "\n",
        "plt.plot(x,y)\n",
        "plt.plot(x,y1)\n",
        "plt.plot(x,y2)\n",
        "plt.legend([\"Select\", \"Peor Caso\", \"Mejor Caso\"])\n",
        "\n",
        "plt.xlabel('n')\n",
        "plt.ylabel('Comparaciones')\n",
        "plt.show()"
      ],
      "metadata": {
        "colab": {
          "base_uri": "https://localhost:8080/",
          "height": 279
        },
        "id": "TbcZbXCawT7n",
        "outputId": "fd5d248a-8aea-468b-aaaa-93e073cfac48"
      },
      "execution_count": 143,
      "outputs": [
        {
          "output_type": "display_data",
          "data": {
            "text/plain": [
              "<Figure size 432x288 with 1 Axes>"
            ],
            "image/png": "[encoded data removed]"
          },
          "metadata": {
            "needs_background": "light"
          }
        }
      ]
    },
    {
      "cell_type": "markdown",
      "source": [
        "# Análisis de Resultados\n",
        "\n",
        "\n"
      ],
      "metadata": {
        "id": "yop-unMI5Cya"
      }
    },
    {
      "cell_type": "markdown",
      "source": [
        "Es visible que a pepsar que tanto el mejor como peor caso marcan unas cotas que delimitan la cantidad de comparaciones a un rango que podria considerarse el \"promedio\", salvo algunas excpeciones. Principalmente tiende a mantenerse en el marco que dibujan las 2 líneas rectas. Por lo que es correcto decir a su vez que se menatiene en la complejidad $O(n)$.\n",
        "\n",
        "La cantidad de comparaciones suele, como era previsto, aumentar conforme la cantidad de elementos en el arreglo crece. Aún así, el gráfico presenta sitaciones en las que a pesar de que la cantidad de elementos sea mayor, las comparaciones no presentan un aumento (e incluco disminuyen) conforme a otras instancias en las que $n$ era menor. Tal como ocurre en el intervalo entre $[500,550]$. Esto se debe propiamente a la composición del arreglo de entrada.\n",
        "\n"
      ],
      "metadata": {
        "id": "2CshxJ5d53O4"
      }
    }
  ]
}